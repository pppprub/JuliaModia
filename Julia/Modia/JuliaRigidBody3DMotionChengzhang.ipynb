{
 "cells": [
  {
   "cell_type": "markdown",
   "id": "164e1345",
   "metadata": {},
   "source": [
    "## 10/26/2021\n",
    "Based on this I wanted to get a feel from you on which topics you would be more interested in.  In other words, this intro touched on multibody formulation, differential algebraic equations, and Julia packages. Given this, are you comfortable with Julia to write a small program in Julia to define:\n",
    "The 3D motion (translation and rotation) of a rigid body using both Cardan and quaternion\n",
    "* A joint formulation (e.g. revolute) joint\n",
    "* You may use the DifferentialEquations package to help you solve the model\n",
    "* It would be an asset to show both Cartesian and joint based formulation. \n",
    " \n",
    "In you work, show the different forms of equations and possible solution methods\n",
    "\n",
    "What I meant is to get familiar with the formulation of 3D body.  So basically write down the equations of motion using any principal you learned (like Newton-Euler, Lagrange, Hamilton) and use rotation parameters like Cardan/quaternion angles to define the motion of the body.  You could use ModelingToolkit to make it easier.  Then you could add equation of joint constraints to solve it all together.  This is basically to get you familiar with multibody formulation."
   ]
  },
  {
   "cell_type": "markdown",
   "id": "0734eeec",
   "metadata": {},
   "source": [
    "## Calculate rotation matrix R using three method\n",
    "Rotating around x axis(1,0,0) $\\pi/4$, then rotating y axis, $\\pi/4$, finally rotating z axis $\\pi/4$\n",
    "* **Method 1: Obtain rotation matrix using Cardan**"
   ]
  },
  {
   "cell_type": "code",
   "execution_count": 11,
   "id": "38798ec9",
   "metadata": {},
   "outputs": [],
   "source": [
    "using LinearAlgebra"
   ]
  },
  {
   "cell_type": "code",
   "execution_count": 34,
   "id": "651d8699",
   "metadata": {},
   "outputs": [
    {
     "data": {
      "text/plain": [
       "3×3 Matrix{Float64}:\n",
       " 0.707107  -0.707107   0.0\n",
       " 0.5        0.5       -0.707107\n",
       " 0.5        0.5        0.707107"
      ]
     },
     "execution_count": 34,
     "metadata": {},
     "output_type": "execute_result"
    }
   ],
   "source": [
    "function CardanR(x,y,z) #CardanR method for rotating around x,y,z axis respectively to get the rotation matrix R\n",
    "    Rx = [1 0 0;0 cos(x) -sin(x);0 sin(x) cos(x)]\n",
    "    Ry = [cos(y) 0 sin(y);0 1 0;-sin(y) 0 cos(y)]\n",
    "    Rz = [cos(z) -sin(z) 0;sin(z) cos(z) 0;0 0 1]\n",
    "    return Rx*Ry*Rz\n",
    "end\n",
    "# aa=CardanR(pi/4,0,pi/4)\n",
    "# tr(CardanR(pi/2,pi/2,pi/2))\n",
    "# aa"
   ]
  },
  {
   "cell_type": "markdown",
   "id": "28d03722",
   "metadata": {},
   "source": [
    "* **Method 2:Exponitial**"
   ]
  },
  {
   "cell_type": "code",
   "execution_count": 36,
   "id": "6d72850a",
   "metadata": {},
   "outputs": [
    {
     "data": {
      "text/plain": [
       "3×3 Matrix{Float64}:\n",
       " 0.707107  -0.707107   0.0\n",
       " 0.5        0.5       -0.707107\n",
       " 0.5        0.5        0.707107"
      ]
     },
     "execution_count": 36,
     "metadata": {},
     "output_type": "execute_result"
    }
   ],
   "source": [
    "function ExptoR(omega,theta) #Expontial method for rotating around x,y,z axis respectively to get the rotation matrix R\n",
    "    braketw=[0 -omega[3] omega[2]; omega[3] 0 -omega[1];-omega[2] omega[1] 0]\n",
    "    R=I(3)+sin(theta)*braketw+(1-cos(theta))*braketw^2\n",
    "    return R\n",
    "end\n",
    "# ExptoR(bb[3],bb[1])"
   ]
  },
  {
   "cell_type": "code",
   "execution_count": 35,
   "id": "698edaa0",
   "metadata": {},
   "outputs": [
    {
     "data": {
      "text/plain": [
       "(1.0960568152406254, [0.0 -0.6785983445458471 -0.28108463771482023; 0.6785983445458471 0.0 -0.6785983445458471; 0.28108463771482023 0.6785983445458471 0.0], [0.6785983445458471, -0.28108463771482023, 0.6785983445458471])"
      ]
     },
     "execution_count": 35,
     "metadata": {},
     "output_type": "execute_result"
    }
   ],
   "source": [
    "function rotateRtotheta(R)#converting rotataing matrix back to theta and omega\n",
    "    theta=acos(0.5*(tr(R)-1))\n",
    "    braketw=1/(2*sin(theta))*(R-transpose(R))\n",
    "    omega=[braketw[3,2],braketw[1,3],braketw[2,1]]\n",
    "    return theta,braketw,omega\n",
    "end\n",
    "# bb=rotateRtotheta(aa)"
   ]
  },
  {
   "cell_type": "markdown",
   "id": "dd7ed27e",
   "metadata": {},
   "source": [
    "* **Method 3:Quaternion**"
   ]
  },
  {
   "cell_type": "code",
   "execution_count": 65,
   "id": "fba19874",
   "metadata": {},
   "outputs": [
    {
     "data": {
      "text/plain": [
       "QuaternionR (generic function with 1 method)"
      ]
     },
     "execution_count": 65,
     "metadata": {},
     "output_type": "execute_result"
    }
   ],
   "source": [
    "function QuaternionR(omega,theta)\n",
    "    q = [cos(theta/2) omega[1]*sin(theta/2) omega[2]*sin(theta/2) omega[3]*sin(theta/2)]\n",
    "    R = [(q[1]^2)+(q[2]^2)-(q[3]^2)-(q[4]^2) 2*(q[2]*q[3]-q[1]*q[4]) 2*(q[1]*q[3]+q[2]*q[4]);\n",
    "        2*(q[1]*q[4]+q[2]*q[3]) (q[1]^2)-(q[2]^2)+(q[3]^2)-(q[4]^2) 2*(q[3]*q[4]-q[1]*q[2]);\n",
    "        2*(q[2]*q[4]-q[1]*q[3]) 2*(q[1]*q[2]+q[3]*q[4]) (q[1]^2)-(q[2]^2)-(q[3]^2)+(q[4]^2)]\n",
    "    return R\n",
    "end      \n",
    "# QuaternionR(bb[3],bb[1])"
   ]
  },
  {
   "cell_type": "markdown",
   "id": "7f62f768",
   "metadata": {},
   "source": [
    "## To sum up\n",
    "Comparing the rotation matrix from the three method "
   ]
  },
  {
   "cell_type": "code",
   "execution_count": 66,
   "id": "d9d45313",
   "metadata": {},
   "outputs": [
    {
     "name": "stdout",
     "output_type": "stream",
     "text": [
      "angle theta is 1.8731843145718488\n",
      "[0.18117887723833684 -0.31381102063508376 0.9320390859672263; 0.9745486838678828 -0.069933846158658 -0.21298854413520565; 0.1320192304705377 0.9469064898338295 0.29315358141517367]\n",
      "[0.18117887723833692 -0.31381102063508376 0.9320390859672263; 0.974548683867883 -0.06993384615865783 -0.2129885441352058; 0.13201923047053765 0.9469064898338295 0.29315358141517367]\n",
      "[0.18117887723833698 -0.31381102063508365 0.9320390859672263; 0.9745486838678827 -0.06993384615865805 -0.2129885441352058; 0.13201923047053782 0.9469064898338295 0.2931535814151736]\n"
     ]
    }
   ],
   "source": [
    "car=CardanR(pi/5,1.2,pi/3)\n",
    "ang=rotateRtotheta(car)\n",
    "ex=ExptoR(ang[3],ang[1])\n",
    "qu=QuaternionR(ang[3],ang[1])\n",
    "println(\"angle theta is \",ang[1])\n",
    "println(car)\n",
    "println(ex)\n",
    "println(qu)"
   ]
  },
  {
   "cell_type": "code",
   "execution_count": null,
   "id": "b92640f4",
   "metadata": {},
   "outputs": [],
   "source": []
  }
 ],
 "metadata": {
  "kernelspec": {
   "display_name": "Julia 1.6.2",
   "language": "julia",
   "name": "julia-1.6"
  },
  "language_info": {
   "file_extension": ".jl",
   "mimetype": "application/julia",
   "name": "julia",
   "version": "1.6.2"
  }
 },
 "nbformat": 4,
 "nbformat_minor": 5
}
