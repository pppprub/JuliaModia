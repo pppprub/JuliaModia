{
 "cells": [
  {
   "cell_type": "markdown",
   "id": "da4fdc59",
   "metadata": {},
   "source": [
    "## 10/26/2021\n",
    "Based on this I wanted to get a feel from you on which topics you would be more interested in.  In other words, this intro touched on multibody formulation, differential algebraic equations, and Julia packages. Given this, are you comfortable with Julia to write a small program in Julia to define:\n",
    "The 3D motion (translation and rotation) of a rigid body using both Cardan and quaternion\n",
    "* A joint formulation (e.g. revolute) joint\n",
    "* You may use the DifferentialEquations package to help you solve the model\n",
    "* It would be an asset to show both Cartesian and joint based formulation. \n",
    " \n",
    "In you work, show the different forms of equations and possible solution methods\n",
    "\n",
    "What I meant is to get familiar with the formulation of 3D body.  So basically write down the equations of motion using any principal you learned (like Newton-Euler, Lagrange, Hamilton) and use rotation parameters like Cardan/quaternion angles to define the motion of the body.  You could use ModelingToolkit to make it easier.  Then you could add equation of joint constraints to solve it all together.  This is basically to get you familiar with multibody formulation."
   ]
  },
  {
   "cell_type": "markdown",
   "id": "65201876",
   "metadata": {},
   "source": [
    "## Calculate rotation matrix R using three methods\n",
    "Rotating around x axis(1,0,0) $\\pi/4$, then rotating y axis, $\\pi/4$, finally rotating z axis $\\pi/4$\n",
    "* **Method 1: Obtain rotation matrix using Cardan**"
   ]
  },
  {
   "cell_type": "code",
   "execution_count": 11,
   "id": "897672ad",
   "metadata": {},
   "outputs": [],
   "source": [
    "using LinearAlgebra"
   ]
  },
  {
   "cell_type": "code",
   "execution_count": 69,
   "id": "adbb3e6c",
   "metadata": {},
   "outputs": [
    {
     "data": {
      "text/plain": [
       "CardanR (generic function with 1 method)"
      ]
     },
     "execution_count": 69,
     "metadata": {},
     "output_type": "execute_result"
    }
   ],
   "source": [
    "function CardanR(x,y,z) #CardanR method for rotating around x,y,z axis respectively to get the rotation matrix R\n",
    "    Rx = [1 0 0;0 cos(x) -sin(x);0 sin(x) cos(x)]\n",
    "    Ry = [cos(y) 0 sin(y);0 1 0;-sin(y) 0 cos(y)]\n",
    "    Rz = [cos(z) -sin(z) 0;sin(z) cos(z) 0;0 0 1]\n",
    "    return Rx*Ry*Rz\n",
    "end\n",
    "# aa=CardanR(pi/4,0,pi/4)\n",
    "# tr(CardanR(pi/2,pi/2,pi/2))\n",
    "# aa"
   ]
  },
  {
   "cell_type": "markdown",
   "id": "d4d73499",
   "metadata": {},
   "source": [
    "* **Method 2:Exponitial**"
   ]
  },
  {
   "cell_type": "code",
   "execution_count": 68,
   "id": "19306d1b",
   "metadata": {},
   "outputs": [
    {
     "data": {
      "text/plain": [
       "ExptoR (generic function with 1 method)"
      ]
     },
     "execution_count": 68,
     "metadata": {},
     "output_type": "execute_result"
    }
   ],
   "source": [
    "function ExptoR(omega,theta) #Expontial method for rotating around x,y,z axis respectively to get the rotation matrix R\n",
    "    braketw=[0 -omega[3] omega[2]; omega[3] 0 -omega[1];-omega[2] omega[1] 0]\n",
    "    R=I(3)+sin(theta)*braketw+(1-cos(theta))*braketw^2\n",
    "    return R\n",
    "end\n",
    "# ExptoR(bb[3],bb[1])"
   ]
  },
  {
   "cell_type": "code",
   "execution_count": 54,
   "id": "a321181d",
   "metadata": {},
   "outputs": [
    {
     "data": {
      "text/plain": [
       "InversJ (generic function with 1 method)"
      ]
     },
     "execution_count": 54,
     "metadata": {},
     "output_type": "execute_result"
    }
   ],
   "source": [
    "function bracket(omega)\n",
    "    return [0 -omega[3] omega[2]; omega[3] 0 -omega[1];-omega[2] omega[1] 0]\n",
    "#     return [0 -omega[3] omega(2) v(1); omega(3) 0 -omega(1) v(2);-omega(2) omega(1) 0 v(3); 0 0 0 0]\n",
    "end\n",
    "\n",
    "function InversJ(euler)\n",
    "    if cos(euler[2]) == 0\n",
    "        x = [1 sin(euler[1])*tan(euler[2]) cos(euler[1])*tan(euler[2]);0 cos(euler[1]) -sin(euler[1]);0 0 0]\n",
    "    else\n",
    "        x = [1 sin(euler[1])*tan(euler[2]) cos(euler[1])*tan(euler[2]);0 cos(euler[1]) -sin(euler[1]);0 sin(euler[1])/cos(euler[2]) cos(euler[1])/cos(euler[2])]\n",
    "    end\n",
    "    return x\n",
    "end\n",
    "#     return [0 -omega[3] omega(2) v(1); omega(3) 0 -omega(1) v(2);-omega(2) omega(1) 0 v(3); 0 0 0 0]\n"
   ]
  },
  {
   "cell_type": "code",
   "execution_count": 67,
   "id": "9363f5c6",
   "metadata": {},
   "outputs": [
    {
     "data": {
      "text/plain": [
       "rotateRtotheta (generic function with 1 method)"
      ]
     },
     "execution_count": 67,
     "metadata": {},
     "output_type": "execute_result"
    }
   ],
   "source": [
    "function rotateRtotheta(R)#converting rotataing matrix back to theta and omega\n",
    "    theta=acos(0.5*(tr(R)-1))\n",
    "    braketw=1/(2*sin(theta))*(R-transpose(R))\n",
    "    omega=[braketw[3,2],braketw[1,3],braketw[2,1]]\n",
    "    return theta,braketw,omega\n",
    "end\n",
    "# bb=rotateRtotheta(aa)"
   ]
  },
  {
   "cell_type": "markdown",
   "id": "02f496e5",
   "metadata": {},
   "source": [
    "* **Method 3:Quaternion**"
   ]
  },
  {
   "cell_type": "code",
   "execution_count": 65,
   "id": "856b7112",
   "metadata": {},
   "outputs": [
    {
     "data": {
      "text/plain": [
       "QuaternionR (generic function with 1 method)"
      ]
     },
     "execution_count": 65,
     "metadata": {},
     "output_type": "execute_result"
    }
   ],
   "source": [
    "function QuaternionR(omega,theta)\n",
    "    q = [cos(theta/2) omega[1]*sin(theta/2) omega[2]*sin(theta/2) omega[3]*sin(theta/2)]\n",
    "    R = [(q[1]^2)+(q[2]^2)-(q[3]^2)-(q[4]^2) 2*(q[2]*q[3]-q[1]*q[4]) 2*(q[1]*q[3]+q[2]*q[4]);\n",
    "        2*(q[1]*q[4]+q[2]*q[3]) (q[1]^2)-(q[2]^2)+(q[3]^2)-(q[4]^2) 2*(q[3]*q[4]-q[1]*q[2]);\n",
    "        2*(q[2]*q[4]-q[1]*q[3]) 2*(q[1]*q[2]+q[3]*q[4]) (q[1]^2)-(q[2]^2)-(q[3]^2)+(q[4]^2)]\n",
    "    return R\n",
    "end      \n",
    "# QuaternionR(bb[3],bb[1])"
   ]
  },
  {
   "cell_type": "markdown",
   "id": "aa1fa042",
   "metadata": {},
   "source": [
    "## To sum up\n",
    "Comparing the rotation matrix from the three method "
   ]
  },
  {
   "cell_type": "code",
   "execution_count": 70,
   "id": "13efb2cc",
   "metadata": {},
   "outputs": [
    {
     "name": "stdout",
     "output_type": "stream",
     "text": [
      "angle theta is 1.8731843145718488\n",
      "[0.18117887723833684 -0.31381102063508376 0.9320390859672263; 0.9745486838678828 -0.069933846158658 -0.21298854413520565; 0.1320192304705377 0.9469064898338295 0.29315358141517367]\n",
      "[0.18117887723833692 -0.31381102063508376 0.9320390859672263; 0.974548683867883 -0.06993384615865783 -0.2129885441352058; 0.13201923047053765 0.9469064898338295 0.29315358141517367]\n",
      "[0.18117887723833698 -0.31381102063508365 0.9320390859672263; 0.9745486838678827 -0.06993384615865805 -0.2129885441352058; 0.13201923047053782 0.9469064898338295 0.2931535814151736]\n"
     ]
    }
   ],
   "source": [
    "car=CardanR(pi/5,1.2,pi/3)\n",
    "ang=rotateRtotheta(car)\n",
    "ex=ExptoR(ang[3],ang[1])\n",
    "qu=QuaternionR(ang[3],ang[1])\n",
    "println(\"angle theta is \",ang[1])\n",
    "println(car)\n",
    "println(ex)\n",
    "println(qu)"
   ]
  },
  {
   "cell_type": "code",
   "execution_count": null,
   "id": "43a68f85",
   "metadata": {},
   "outputs": [],
   "source": [
    "ad=[]"
   ]
  },
  {
   "cell_type": "markdown",
   "id": "3c8cbe58",
   "metadata": {},
   "source": [
    "## Start: rigid body dynamic\n",
    "* Moi matrix function wrt center of mass"
   ]
  },
  {
   "cell_type": "code",
   "execution_count": 71,
   "id": "2834d158",
   "metadata": {},
   "outputs": [
    {
     "data": {
      "text/plain": [
       "3×3 Matrix{Float64}:\n",
       " 0.416667  0.0       0.0\n",
       " 0.0       0.166667  0.0\n",
       " 0.0       0.0       0.416667"
      ]
     },
     "execution_count": 71,
     "metadata": {},
     "output_type": "execute_result"
    }
   ],
   "source": [
    "#moi matrix function for a block wrt center of mass function\n",
    "I_brick(Lx,Ly,Lz,m)=[(m*(Ly^2 + Lz^2)/12) 0 0; 0 (m*(Lx^2 + Lz^2)/12) 0;0 0 (m*(Lx^2 + Ly^2)/12)]\n",
    "\n",
    "# I_brick(1,2,1,1)"
   ]
  },
  {
   "cell_type": "markdown",
   "id": "8b42721a",
   "metadata": {},
   "source": [
    "Euler method: $F=m(\\dot{V_b}+\\omega \\times V_b)$ \n",
    "\\begin{bmatrix}\n",
    "i & j & k\\\\\n",
    "p & q & r\\\\\n",
    "u_b & v_b & w_b\n",
    "\\end{bmatrix}"
   ]
  },
  {
   "cell_type": "markdown",
   "id": "c2bed370",
   "metadata": {},
   "source": [
    "* linear momentum equation:\n",
    "$\\omega \\times V_b = (qw_b-rv_b) i + (ru_b-pw_b) j +(pv_b-qu_b) k$\n",
    "so emo becomes $\\frac{1}{m}F_b-\\omega \\times V_b = [\\frac{F_x}{m}- (qw_b-rv_b)] i + [\\frac{F_y}{m}- (ru_b-pw_b)] j +[\\frac{F_z}{m}- (pv_b-qu_b)] k$ \n",
    "<!-- $ i+  j+    k$ -->\n",
    "* Angular momentum equation:\n"
   ]
  },
  {
   "cell_type": "code",
   "execution_count": null,
   "id": "707d95cb",
   "metadata": {},
   "outputs": [],
   "source": [
    "using DifferentialEquations\n",
    "using LinearAlgebra\n",
    "using ModelingToolkit\n",
    "#u1=ub u2=vb u3=wb u4=p u5=q u6=r \n",
    "function Euler3D!(du,u,MOI,F,M,t)\n",
    "    du[1] = F[1]/m-(u[5]*u[3]-u[6]*u[2])                    # θ'(t) = ω(t)\n",
    "    du[2] = F[2]/m-(u[6]*u[1]-u[4]*u[3]) \n",
    "    du[3] = F[3]/m-(u[4]*u[2]-u[5]*u[1]) \n",
    "#     du[2] = -3g/(2l)*sin(u[1]) + 3/(m*l^2)*p(t) # ω'(t) = -3g/(2l) sin θ(t) + 3/(ml^2)M(t)\n",
    "end\n",
    "\n",
    "θ₀ = 0.0                           # initial angular deflection [rad]\n",
    "ω₀ = 0.0                            # initial angular velocity [rad/s]\n",
    "u₀ = [θ₀, ω₀]   \n",
    "tspan = (0.0,1.0)\n",
    "prob = ODEProblem(f,u0,tspan)"
   ]
  },
  {
   "cell_type": "code",
   "execution_count": 56,
   "id": "990cca75",
   "metadata": {},
   "outputs": [
    {
     "data": {
      "text/plain": [
       "retcode: Success\n",
       "Interpolation: automatic order switching interpolation\n",
       "t: 121-element Vector{Float64}:\n",
       "  0.0\n",
       "  0.0927339138161682\n",
       "  0.21331313180677877\n",
       "  0.39908698836595446\n",
       "  0.6122137330161099\n",
       "  0.8590018423728633\n",
       "  1.1573967322164231\n",
       "  1.3405659417305882\n",
       "  1.5643645093866811\n",
       "  1.796675105366975\n",
       "  1.9415647747699323\n",
       "  2.0680529074499\n",
       "  2.2462688592709847\n",
       "  ⋮\n",
       "  9.484307918287309\n",
       "  9.527598919247081\n",
       "  9.579812363854744\n",
       "  9.630391181661421\n",
       "  9.685180395446585\n",
       "  9.740073639870575\n",
       "  9.783926831914862\n",
       "  9.831277246369417\n",
       "  9.869226079126427\n",
       "  9.926400439645931\n",
       "  9.97354868744021\n",
       " 10.0\n",
       "u: 121-element Vector{Matrix{Float64}}:\n",
       " [1.0 1.0 … 1.0 1.0]\n",
       " [1.0927339138161682 1.0927339138161682 … 0.9515995993054255 1.2295045610848951]\n",
       " [1.2133131318067787 1.2133131318067787 … 0.8291581797269375 1.4749482059332915]\n",
       " [1.3990869883659545 1.3990869883659545 … 0.534480562992811 1.7019794908458938]\n",
       " [1.61221373301611 1.61221373301611 … 0.08903793789118128 1.7824014091367382]\n",
       " [1.8590018423728631 1.8590018423728631 … -0.4956952019505943 1.6383990830109691]\n",
       " [2.157396732216423 2.157396732216423 … -0.8918570913016941 0.6457878842833856]\n",
       " [2.340565941730588 2.340565941730588 … -0.5316616310485202 0.031604247466433845]\n",
       " [2.564364509386681 2.564364509386681 … 0.2192736155624671 -0.12550960406379805]\n",
       " [2.796675105366975 2.796675105366975 … 0.9574972490455156 0.4530304501046293]\n",
       " [2.9415647747699323 2.9415647747699323 … 0.8635706461971909 1.4135553121988262]\n",
       " [3.0680529074499 3.0680529074499 … 0.39721529710986636 1.7445443117475925]\n",
       " [3.2462688592709847 3.2462688592709847 … -0.38604882896517134 1.6956937322792522]\n",
       " ⋮\n",
       " [10.484307918287307 10.484307918287307 … 0.9462395255275173 1.0747903412163253]\n",
       " [10.52759891924708 10.52759891924708 … 0.4778951149071704 1.6686508948974863]\n",
       " [10.579812363854742 10.579812363854742 … -0.2900676406825484 1.7114378679611655]\n",
       " [10.63039118166142 10.63039118166142 … -0.8891124879400145 1.1475469713598871]\n",
       " [10.685180395446583 10.685180395446583 … -0.617894288682832 0.031244238252590848]\n",
       " [10.740073639870573 10.740073639870573 … 0.1821319083759567 -0.1561269274961979]\n",
       " [10.78392683191486 10.78392683191486 … 0.7901648388932655 0.14619322959016356]\n",
       " [10.831277246369416 10.831277246369416 … 0.902429469918842 1.2390077784442455]\n",
       " [10.869226079126426 10.869226079126426 … 0.43556617016460947 1.6866154057298388]\n",
       " [10.92640043964593 10.92640043964593 … -0.43028677064658155 1.660388898514663]\n",
       " [10.973548687440209 10.973548687440209 … -0.921946290942383 0.9555963269370128]\n",
       " [10.999999999999998 10.999999999999998 … -0.8383845150863742 0.3185661688347698]"
      ]
     },
     "execution_count": 56,
     "metadata": {},
     "output_type": "execute_result"
    }
   ],
   "source": [
    "#use matrix method \n",
    "using DifferentialEquations\n",
    "using LinearAlgebra\n",
    "M = [1,1,1]\n",
    "F = [1,1,1]\n",
    "m=1\n",
    "MOI=I(3)\n",
    "InvMOI=inv(MOI)\n",
    "function Euler3D!(du,u,p,t)\n",
    "    du[1:3]=F/m-bracket(u[4:6])*u[1:3]\n",
    "    du[4:6]=InvMOI*(M-bracket(u[4:6])*(MOI*u[4:6]))\n",
    "    du[7:9]=u[1:3]\n",
    "    du[10:12]=InversJ(u[10:12])*u[4:6]\n",
    "#   du .= u[:,2] .- 10 - M./C.*u[:,2] - M.\\K.*u[:,1]\n",
    "end\n",
    "v0=[1.0 1.0 1.0 1.0 1.0 1.0]\n",
    "x0=[1.0 1.0 1.0 1.0 1.0 1.0]\n",
    "u0=[v0 x0]\n",
    "tspan=(0.0,10.0);\n",
    "prob=ODEProblem(Euler3D!,u0,tspan)\n",
    "sol=solve(prob)"
   ]
  },
  {
   "cell_type": "code",
   "execution_count": 33,
   "id": "3e177a54",
   "metadata": {},
   "outputs": [
    {
     "data": {
      "text/plain": [
       "3×3 Diagonal{Float64, Vector{Float64}}:\n",
       " 1.0   ⋅    ⋅ \n",
       "  ⋅   1.0   ⋅ \n",
       "  ⋅    ⋅   1.0"
      ]
     },
     "execution_count": 33,
     "metadata": {},
     "output_type": "execute_result"
    }
   ],
   "source": [
    "#use matrix method test\n",
    "using DifferentialEquations\n",
    "using LinearAlgebra\n",
    "# M = [1,1,1]\n",
    "# F = [1,1,1]\n",
    "# C = 1\n",
    "# function eq(du,u,F,M,t)\n",
    "#     du[1:3]=-cross(u[1:3],F)\n",
    "#     du[4:6]=-cross(u[4:6],M)\n",
    "   \n",
    "# #   du .= u[:,2] .- 10 - M./C.*u[:,2] - M.\\K.*u[:,1]\n",
    "# end\n",
    "# u0=[1.0 1.0 1.0 1.0 1.0 1.0]\n",
    "# tspan=(0.0,10.0);\n",
    "# prob=ODEProblem(eq,u0,tspan)\n",
    "# sol=solve(prob)\n",
    "\n",
    "using DifferentialEquations\n",
    "using LinearAlgebra\n",
    "a=[3,4,5]\n",
    "f(u,p,t) = 1.01*bracket(u)*a\n",
    "u0 = [1/2,1/2,0]\n",
    "tspan = (0.0,1.0)\n",
    "prob = ODEProblem(f,u0,tspan)\n",
    "sol = solve(prob, Tsit5(), reltol=1e-8, abstol=1e-8)\n",
    "MOI=I(3)\n",
    "InvMOI=inv(MOI)"
   ]
  },
  {
   "cell_type": "code",
   "execution_count": 55,
   "id": "2568156c",
   "metadata": {},
   "outputs": [
    {
     "data": {
      "text/plain": [
       "3×3 Matrix{Float64}:\n",
       " 1.0  0.0   1.63312e16\n",
       " 0.0  1.0  -0.0\n",
       " 0.0  0.0   1.63312e16"
      ]
     },
     "execution_count": 55,
     "metadata": {},
     "output_type": "execute_result"
    }
   ],
   "source": [
    "using LinearAlgebra\n",
    "p=[3,4,5]\n",
    "v=[2,3,5]\n",
    "cross(p,v),bracket(p)*v\n",
    "InversJ([0,pi/2,0])"
   ]
  },
  {
   "cell_type": "code",
   "execution_count": null,
   "id": "8bc4347b",
   "metadata": {},
   "outputs": [],
   "source": [
    "using ModelingToolkit, OrdinaryDiffEq\n",
    "\n",
    "@parameters t σ ρ β\n",
    "@variables x(t) y(t) z(t)\n",
    "D = Differential(t)\n",
    "\n",
    "eqs = [D(x) ~ σ*(y-x),\n",
    "       D(y) ~ x*(ρ-z)-y,\n",
    "       D(z) ~ x*y - β*z]\n",
    "\n",
    "@named lorenz1 = ODESystem(eqs)\n",
    "@named lorenz2 = ODESystem(eqs)\n",
    "\n",
    "@variables a(t)\n",
    "@parameters γ\n",
    "connections = [0 ~ lorenz1.x + lorenz2.y + a*γ]\n",
    "@named connected = ODESystem(connections,t,[a],[γ],systems=[lorenz1,lorenz2])\n",
    "\n",
    "u0 = [lorenz1.x => 1.0,\n",
    "      lorenz1.y => 0.0,\n",
    "      lorenz1.z => 0.0,\n",
    "      lorenz2.x => 0.0,\n",
    "      lorenz2.y => 1.0,\n",
    "      lorenz2.z => 0.0,\n",
    "      a => 2.0]\n",
    "\n",
    "p  = [lorenz1.σ => 10.0,\n",
    "      lorenz1.ρ => 28.0,\n",
    "      lorenz1.β => 8/3,\n",
    "      lorenz2.σ => 10.0,\n",
    "      lorenz2.ρ => 28.0,\n",
    "      lorenz2.β => 8/3,\n",
    "      γ => 2.0]\n",
    "\n",
    "tspan = (0.0,100.0)\n",
    "prob = ODEProblem(connected,u0,tspan,p)\n",
    "sol = solve(prob,Rodas4())\n",
    "\n",
    "using Plots; plot(sol,vars=(a,lorenz1.x,lorenz2.z))"
   ]
  },
  {
   "cell_type": "markdown",
   "id": "3efb1fe0",
   "metadata": {},
   "source": []
  }
 ],
 "metadata": {
  "kernelspec": {
   "display_name": "Julia 1.6.2",
   "language": "julia",
   "name": "julia-1.6"
  },
  "language_info": {
   "file_extension": ".jl",
   "mimetype": "application/julia",
   "name": "julia",
   "version": "1.6.2"
  }
 },
 "nbformat": 4,
 "nbformat_minor": 5
}
