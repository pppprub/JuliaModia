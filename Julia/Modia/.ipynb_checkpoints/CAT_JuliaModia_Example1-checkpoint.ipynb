{
 "cells": [
  {
   "cell_type": "markdown",
   "id": "45d50815",
   "metadata": {},
   "source": [
    "1. Start from the rigid body formulation, using carden angle, show pro/con using quaternion\n",
    "2. Show the formulation of body-joint and how it used to model the \"Youbot robot\" \n",
    "3. Study structure of Modia 3d based on ModiaLang and ModiaBase\n",
    "4. Study the silition sequence outlined in the paper andou the index reduction of DAE\n",
    "5. Study the solution sequency of ModiaLang Tookkit"
   ]
  },
  {
   "cell_type": "code",
   "execution_count": null,
   "id": "ecd46fd2",
   "metadata": {},
   "outputs": [],
   "source": []
  }
 ],
 "metadata": {
  "kernelspec": {
   "display_name": "Julia 1.6.2",
   "language": "julia",
   "name": "julia-1.6"
  },
  "language_info": {
   "file_extension": ".jl",
   "mimetype": "application/julia",
   "name": "julia",
   "version": "1.6.2"
  }
 },
 "nbformat": 4,
 "nbformat_minor": 5
}
