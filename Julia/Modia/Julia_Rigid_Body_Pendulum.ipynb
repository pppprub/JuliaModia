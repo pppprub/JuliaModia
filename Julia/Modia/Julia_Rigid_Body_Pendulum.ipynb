{
 "cells": [
  {
   "cell_type": "markdown",
   "id": "6c4ea268",
   "metadata": {},
   "source": [
    "## Example of rigid body dynamic: Pendulum 2D\n",
    "Given Spatial Velocity $v_0$ and Acceleration $\\alpha_0$ of the origin, Moment of Inertia matrix $M$, and forces $f$,find out the Equation of motion of the mass at the *CG* (center of gravity)"
   ]
  },
  {
   "cell_type": "code",
   "execution_count": 1,
   "id": "c4aea8d8",
   "metadata": {},
   "outputs": [],
   "source": [
    "using LinearAlgebra"
   ]
  },
  {
   "cell_type": "code",
   "execution_count": null,
   "id": "4ca78307",
   "metadata": {},
   "outputs": [],
   "source": []
  }
 ],
 "metadata": {
  "kernelspec": {
   "display_name": "Julia 1.6.2",
   "language": "julia",
   "name": "julia-1.6"
  },
  "language_info": {
   "file_extension": ".jl",
   "mimetype": "application/julia",
   "name": "julia",
   "version": "1.6.2"
  }
 },
 "nbformat": 4,
 "nbformat_minor": 5
}
