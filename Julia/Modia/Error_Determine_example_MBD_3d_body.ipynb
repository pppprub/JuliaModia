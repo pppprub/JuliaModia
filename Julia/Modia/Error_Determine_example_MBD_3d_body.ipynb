{
 "cells": [
  {
   "cell_type": "code",
   "execution_count": 10,
   "id": "a57157be",
   "metadata": {},
   "outputs": [
    {
     "data": {
      "text/plain": [
       "BraketQuart (generic function with 1 method)"
      ]
     },
     "execution_count": 10,
     "metadata": {},
     "output_type": "execute_result"
    }
   ],
   "source": [
    "function QuaternionR(q)\n",
    "#     q = [cos(theta/2) omega[1]*sin(theta/2) omega[2]*sin(theta/2) omega[3]*sin(theta/2)]\n",
    "    R = [(q[1]^2)+(q[2]^2)-(q[3]^2)-(q[4]^2) 2*(q[2]*q[3]-q[1]*q[4]) 2*(q[1]*q[3]+q[2]*q[4]);\n",
    "        2*(q[1]*q[4]+q[2]*q[3]) (q[1]^2)-(q[2]^2)+(q[3]^2)-(q[4]^2) 2*(q[3]*q[4]-q[1]*q[2]);\n",
    "        2*(q[2]*q[4]-q[1]*q[3]) 2*(q[1]*q[2]+q[3]*q[4]) (q[1]^2)-(q[2]^2)-(q[3]^2)+(q[4]^2)]\n",
    "    return R\n",
    "end\n",
    "\n",
    "function invQuaternionR(q)\n",
    "#     q = [cos(theta/2) omega[1]*sin(theta/2) omega[2]*sin(theta/2) omega[3]*sin(theta/2)]\n",
    "    R = [(q[1]^2)+(q[2]^2)-(q[3]^2)-(q[4]^2) 2*(q[2]*q[3]-q[1]*q[4]) 2*(q[1]*q[3]+q[2]*q[4]);\n",
    "        2*(q[1]*q[4]+q[2]*q[3]) (q[1]^2)-(q[2]^2)+(q[3]^2)-(q[4]^2) 2*(q[3]*q[4]-q[1]*q[2]);\n",
    "        2*(q[2]*q[4]-q[1]*q[3]) 2*(q[1]*q[2]+q[3]*q[4]) (q[1]^2)-(q[2]^2)-(q[3]^2)+(q[4]^2)]\n",
    "    return inv(R)\n",
    "end\n",
    "\n",
    "function bracket(omega)\n",
    "    return [0 -omega[3] omega[2]; omega[3] 0 -omega[1]; -omega[2] omega[1] 0]\n",
    "end\n",
    "\n",
    "function ad_transpose(V) #(small_A small_d for twist V; lecture 15 page 11,also Featherstone section 2.9)\n",
    "    omega = V[1:3]\n",
    "    velo = V[4:6]\n",
    "    zero = zeros((3,3))\n",
    "    operator = -[bracket(omega) bracket(velo);zero bracket(omega)]   \n",
    "        return operator\n",
    "    end\n",
    "\n",
    "function BraketQuart(omega)\n",
    "    return [0 -omega[1] -omega[2] -omega[3]; omega[1] 0 omega[3] -omega[2]; omega[2] -omega[3] 0 omega[1]; omega[3] omega[2] -omega[1] 0]\n",
    "end"
   ]
  },
  {
   "cell_type": "code",
   "execution_count": 13,
   "id": "835cc296",
   "metadata": {},
   "outputs": [
    {
     "ename": "LoadError",
     "evalue": "The inverse of a sparse matrix can often be dense and can cause the computer to run out of memory. If you are sure you have enough memory, please convert your matrix to a dense matrix, e.g. by calling `Matrix`.",
     "output_type": "error",
     "traceback": [
      "The inverse of a sparse matrix can often be dense and can cause the computer to run out of memory. If you are sure you have enough memory, please convert your matrix to a dense matrix, e.g. by calling `Matrix`.",
      "",
      "Stacktrace:",
      "  [1] error(s::String)",
      "    @ Base .\\error.jl:33",
      "  [2] inv(A::SparseArrays.SparseMatrixCSC{Float64, Int64})",
      "    @ SparseArrays C:\\buildbot\\worker\\package_win64\\build\\usr\\share\\julia\\stdlib\\v1.6\\SparseArrays\\src\\linalg.jl:1456",
      "  [3] Body3D!(du::Vector{Float64}, u::Vector{Float64}, p::SciMLBase.NullParameters, t::Float64)",
      "    @ Main .\\In[13]:23",
      "  [4] ODEFunction",
      "    @ C:\\Users\\clair\\.julia\\packages\\SciMLBase\\UIp7W\\src\\scimlfunctions.jl:334 [inlined]",
      "  [5] initialize!(integrator::OrdinaryDiffEq.ODEIntegrator{Tsit5, true, Vector{Float64}, Nothing, Float64, SciMLBase.NullParameters, Float64, Float64, Float64, Float64, Vector{Vector{Float64}}, ODESolution{Float64, 2, Vector{Vector{Float64}}, Nothing, Nothing, Vector{Float64}, Vector{Vector{Vector{Float64}}}, ODEProblem{Vector{Float64}, Tuple{Float64, Float64}, true, SciMLBase.NullParameters, ODEFunction{true, typeof(Body3D!), UniformScaling{Bool}, Nothing, Nothing, Nothing, Nothing, Nothing, Nothing, Nothing, Nothing, Nothing, Nothing, Nothing, Nothing, typeof(SciMLBase.DEFAULT_OBSERVED), Nothing}, Base.Iterators.Pairs{Union{}, Union{}, Tuple{}, NamedTuple{(), Tuple{}}}, SciMLBase.StandardODEProblem}, Tsit5, OrdinaryDiffEq.InterpolationData{ODEFunction{true, typeof(Body3D!), UniformScaling{Bool}, Nothing, Nothing, Nothing, Nothing, Nothing, Nothing, Nothing, Nothing, Nothing, Nothing, Nothing, Nothing, typeof(SciMLBase.DEFAULT_OBSERVED), Nothing}, Vector{Vector{Float64}}, Vector{Float64}, Vector{Vector{Vector{Float64}}}, OrdinaryDiffEq.Tsit5Cache{Vector{Float64}, Vector{Float64}, Vector{Float64}, OrdinaryDiffEq.Tsit5ConstantCache{Float64, Float64}}}, DiffEqBase.DEStats}, ODEFunction{true, typeof(Body3D!), UniformScaling{Bool}, Nothing, Nothing, Nothing, Nothing, Nothing, Nothing, Nothing, Nothing, Nothing, Nothing, Nothing, Nothing, typeof(SciMLBase.DEFAULT_OBSERVED), Nothing}, OrdinaryDiffEq.Tsit5Cache{Vector{Float64}, Vector{Float64}, Vector{Float64}, OrdinaryDiffEq.Tsit5ConstantCache{Float64, Float64}}, OrdinaryDiffEq.DEOptions{Float64, Float64, Float64, Float64, PIController{Rational{Int64}}, typeof(DiffEqBase.ODE_DEFAULT_NORM), typeof(opnorm), Nothing, CallbackSet{Tuple{}, Tuple{}}, typeof(DiffEqBase.ODE_DEFAULT_ISOUTOFDOMAIN), typeof(DiffEqBase.ODE_DEFAULT_PROG_MESSAGE), typeof(DiffEqBase.ODE_DEFAULT_UNSTABLE_CHECK), DataStructures.BinaryHeap{Float64, DataStructures.FasterForward}, DataStructures.BinaryHeap{Float64, DataStructures.FasterForward}, Nothing, Nothing, Int64, Tuple{}, Tuple{}, Tuple{}}, Vector{Float64}, Float64, Nothing, OrdinaryDiffEq.DefaultInit}, cache::OrdinaryDiffEq.Tsit5Cache{Vector{Float64}, Vector{Float64}, Vector{Float64}, OrdinaryDiffEq.Tsit5ConstantCache{Float64, Float64}})",
      "    @ OrdinaryDiffEq C:\\Users\\clair\\.julia\\packages\\OrdinaryDiffEq\\8K0Aj\\src\\perform_step\\low_order_rk_perform_step.jl:623",
      "  [6] __init(prob::ODEProblem{Vector{Float64}, Tuple{Float64, Float64}, true, SciMLBase.NullParameters, ODEFunction{true, typeof(Body3D!), UniformScaling{Bool}, Nothing, Nothing, Nothing, Nothing, Nothing, Nothing, Nothing, Nothing, Nothing, Nothing, Nothing, Nothing, typeof(SciMLBase.DEFAULT_OBSERVED), Nothing}, Base.Iterators.Pairs{Union{}, Union{}, Tuple{}, NamedTuple{(), Tuple{}}}, SciMLBase.StandardODEProblem}, alg::Tsit5, timeseries_init::Tuple{}, ts_init::Tuple{}, ks_init::Tuple{}, recompile::Type{Val{true}}; saveat::Tuple{}, tstops::Tuple{}, d_discontinuities::Tuple{}, save_idxs::Nothing, save_everystep::Bool, save_on::Bool, save_start::Bool, save_end::Nothing, callback::Nothing, dense::Bool, calck::Bool, dt::Float64, dtmin::Nothing, dtmax::Float64, force_dtmin::Bool, adaptive::Bool, gamma::Rational{Int64}, abstol::Nothing, reltol::Float64, qmin::Rational{Int64}, qmax::Int64, qsteady_min::Int64, qsteady_max::Int64, beta1::Nothing, beta2::Nothing, qoldinit::Rational{Int64}, controller::Nothing, fullnormalize::Bool, failfactor::Int64, maxiters::Int64, internalnorm::typeof(DiffEqBase.ODE_DEFAULT_NORM), internalopnorm::typeof(opnorm), isoutofdomain::typeof(DiffEqBase.ODE_DEFAULT_ISOUTOFDOMAIN), unstable_check::typeof(DiffEqBase.ODE_DEFAULT_UNSTABLE_CHECK), verbose::Bool, timeseries_errors::Bool, dense_errors::Bool, advance_to_tstop::Bool, stop_at_next_tstop::Bool, initialize_save::Bool, progress::Bool, progress_steps::Int64, progress_name::String, progress_message::typeof(DiffEqBase.ODE_DEFAULT_PROG_MESSAGE), userdata::Nothing, allow_extrapolation::Bool, initialize_integrator::Bool, alias_u0::Bool, alias_du0::Bool, initializealg::OrdinaryDiffEq.DefaultInit, kwargs::Base.Iterators.Pairs{Union{}, Union{}, Tuple{}, NamedTuple{(), Tuple{}}})",
      "    @ OrdinaryDiffEq C:\\Users\\clair\\.julia\\packages\\OrdinaryDiffEq\\8K0Aj\\src\\solve.jl:456",
      "  [7] #__solve#471",
      "    @ C:\\Users\\clair\\.julia\\packages\\OrdinaryDiffEq\\8K0Aj\\src\\solve.jl:4 [inlined]",
      "  [8] #solve_call#42",
      "    @ C:\\Users\\clair\\.julia\\packages\\DiffEqBase\\OPDgm\\src\\solve.jl:61 [inlined]",
      "  [9] #solve_up#44",
      "    @ C:\\Users\\clair\\.julia\\packages\\DiffEqBase\\OPDgm\\src\\solve.jl:87 [inlined]",
      " [10] #solve#43",
      "    @ C:\\Users\\clair\\.julia\\packages\\DiffEqBase\\OPDgm\\src\\solve.jl:73 [inlined]",
      " [11] top-level scope",
      "    @ In[13]:34",
      " [12] eval",
      "    @ .\\boot.jl:360 [inlined]",
      " [13] include_string(mapexpr::typeof(REPL.softscope), mod::Module, code::String, filename::String)",
      "    @ Base .\\loading.jl:1116"
     ]
    }
   ],
   "source": [
    "using DifferentialEquations\n",
    "using LinearAlgebra\n",
    "using Sundials\n",
    "using Plots\n",
    "m = 2.5 #mass of the body \n",
    "g = 9.81\n",
    "MOI = [1 0 0;0 1 0;0 0 1]\n",
    "MOI_matrix = [MOI zeros((3,3));zeros((3,3)) m*I(3)]\n",
    "inv_inertia_mat = [inv(MOI) zeros(3,3);zeros(3,3) I(3)/m] #(book feathstone equ 2.73)\n",
    "Force = [0;-m*g;0]\n",
    "rel_position = [0.1;0.2;-0.3]\n",
    "function Body3D!(du,u,p,t)\n",
    "#     [u1~4 quaternion]: u1=q0; u2=q1; u3=q2; u4=q3; [u5~7 p]: u5=x; u6=y; u7=z; \n",
    "#     [u_8~u_10 p_dot]: u_8=vx; u_9=vy; u_10=vz; [u_11~u_13 w]: u_11 = wx; u_12 = wy; u_13 = wz\n",
    "    du[5:7] = u[8:10]\n",
    "    v_or_r = [u[11:13]; QuaternionR(u[1:4])*u[8:10]]\n",
    "#     a_or_r = [du[11:13]; QuaternionR(u[1:4])*du[8:10] + bracket(u[11:13])* QuaternionR(u[1:4])*u[8:10]]\n",
    "    Trans_Matrix = [I(3) -bracket(rel_position); zeros((3,3)) I(3)]\n",
    "    inversQuater = [I(3) zeros((3,3)); zeros((3,3)) invQuaternionR(u[1:4])]\n",
    "    v_oc_c = Trans_Matrix*v_or_r \n",
    "#     a_oc_c = Trans_Matrix*a_or_r\n",
    "#     MOI_matrix*a_oc_c + ad_transpose(v_oc_c)*MOI_matrix*v_oc_c + [0;0;0;Trans_Matrix*Force] = 0\n",
    "    du[8:13] = inversQuater*(-inv(Trans_Matrix)*inv_inertia_mat*(ad_transpose(v_oc_c)*MOI_matrix*v_oc_c +[0;0;0;QuaternionR(u[1:4])*Force]) - bracket(u[11:13])* QuaternionR(u[1:4])*u[8:10])\n",
    "#     d[1:4] = 0.5*QuaternionR(u[])\n",
    "    du[1:4] = (1/2)*BraketQuart(u[11:13])*u[1:4]+1*(1-(norm(u[1:4]))^2)*u[1:4]\n",
    "end\n",
    "p0=[0.0; 0.0; 0.0]#initial linear velocity body frame\n",
    "p_dot0=[10; 2; 30]#initial angular velocity rotation rate body frame\n",
    "e0=[0.8; -0.128; 0.312; sqrt(1-0.8^2 - 0.128^2 - 0.312^2)] #initial position inertial frame\n",
    "omega0=[10; 15; 20]#initial Euler Angle [roll, pitch, yaw]\n",
    "tspan=(0.0,2.0);#time span\n",
    "u0=[e0; p0; p_dot0; omega0]\n",
    "prob=ODEProblem(Body3D!,u0,tspan)\n",
    "sol=solve(prob,reltol=1e-8,Tsit5())\n",
    "a=plot(sol,vars=(0,[1,2,3,4]),title=\"Angle wrb origin\",ylab = \"θ [rad]\",titlefontsize=8)\n",
    "b=plot(sol,vars=(0,[5,6,7]),title=\"Angular velocity wrb to origin\",ylab = \"ω [rad/s]\",titlefontsize=8)\n",
    "c=plot(sol,vars=(0,[8,9,10]),title=\"Torque applied from the origin\",labels=[\"τ_x\" \"τ_y\" ],ylab = \" τ[N*m]\",titlefontsize=8)\n",
    "d=plot(sol,vars=(0,[11,12,13]),title=\"Force applied from the origin\",labels=[\"F_x\" \"F_y\" \"F_z\"],ylab = \"F [N]\",titlefontsize=8)\n",
    "# e=plot(sol,vars=(0,[13,14,15]),title=\"Position wrb to inertia frame\",labels=[\"x_i\" \"y_i\" \"z_i\"],ylab = \"x_i [m]\",titlefontsize=8)\n",
    "# f=plot(sol,vars=(0,[16,17,18]),title=\"Velocity wrb to inertia frame\",labels=[\"u_i\" \"v_i\" \"w_i\"],ylab = \"V_i [m/s]\",titlefontsize=8)\n",
    "plot(a,b,c,d,layout=(2,2))"
   ]
  },
  {
   "cell_type": "code",
   "execution_count": 9,
   "id": "e1a24962",
   "metadata": {},
   "outputs": [
    {
     "data": {
      "text/plain": [
       "6×6 SparseArrays.SparseMatrixCSC{Float64, Int64} with 6 stored entries:\n",
       " 1.0   ⋅    ⋅    ⋅    ⋅    ⋅ \n",
       "  ⋅   1.0   ⋅    ⋅    ⋅    ⋅ \n",
       "  ⋅    ⋅   1.0   ⋅    ⋅    ⋅ \n",
       "  ⋅    ⋅    ⋅   0.4   ⋅    ⋅ \n",
       "  ⋅    ⋅    ⋅    ⋅   0.4   ⋅ \n",
       "  ⋅    ⋅    ⋅    ⋅    ⋅   0.4"
      ]
     },
     "execution_count": 9,
     "metadata": {},
     "output_type": "execute_result"
    }
   ],
   "source": [
    "MOI_matrix = [MOI zeros((3,3));zeros((3,3)) m*I(3)]\n",
    "inv_inertia_mat = [inv(MOI) zeros(3,3);zeros(3,3) I(3)/m]\n",
    "inv_inertia_mat"
   ]
  },
  {
   "cell_type": "code",
   "execution_count": null,
   "id": "b802eef2",
   "metadata": {},
   "outputs": [],
   "source": []
  }
 ],
 "metadata": {
  "kernelspec": {
   "display_name": "Julia 1.6.2",
   "language": "julia",
   "name": "julia-1.6"
  },
  "language_info": {
   "file_extension": ".jl",
   "mimetype": "application/julia",
   "name": "julia",
   "version": "1.6.2"
  }
 },
 "nbformat": 4,
 "nbformat_minor": 5
}
