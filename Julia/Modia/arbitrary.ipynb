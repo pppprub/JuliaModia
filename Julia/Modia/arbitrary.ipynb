{
 "cells": [
  {
   "cell_type": "code",
   "execution_count": 12,
   "id": "9ee8957b",
   "metadata": {},
   "outputs": [
    {
     "name": "stdout",
     "output_type": "stream",
     "text": [
      "using ModiaPlot_PyPlot\n",
      "\n",
      "Instantiating model Main.FirstOrder2\n",
      "startValues = Any[0.6]\n",
      "mappedParameters = OrderedCollections.OrderedDict{Any, Any}(:T => 0.4, :x => 0.6)\n",
      "code = quote\n",
      "    function getDerivatives(_der_x, _x, _m, _time)::Nothing\n",
      "        _m.time = ModiaLang.getValue(_time)\n",
      "        _m.nGetDerivatives += 1\n",
      "        instantiatedModel = _m\n",
      "        _p = _m.evaluatedParameters\n",
      "        _leq_mode = nothing\n",
      "        time = _time * upreferred(u\"s\")\n",
      "        x = _x[1]\n",
      "        u = inputSignal(time / u\"s\")\n",
      "        var\"der(x)\" = -((x - u)) / _p[:T]\n",
      "        y = 2x\n",
      "        _der_x[1] = ModiaLang.stripUnit(var\"der(x)\")\n",
      "        if _m.storeResult\n",
      "            ModiaLang.addToResult!(_m, _der_x, time, u, y)\n",
      "        end\n",
      "        return nothing\n",
      "    end\n",
      "end\n",
      "parameters = OrderedDict(\n",
      "  T = 0.6,\n",
      "  x = 0.9,\n",
      "),\n",
      "\n"
     ]
    },
    {
     "ename": "LoadError",
     "evalue": "MethodError: no method matching haskey(::SimulationModel{Float64, OrderedCollections.OrderedDict{Symbol, Any}, OrderedCollections.OrderedDict{Symbol, Any}, Float64}, ::String)\n\u001b[0mClosest candidates are:\n\u001b[0m  haskey(\u001b[91m::Union{AbstractPlotting.Attributes, AbstractPlotting.AbstractPlot}\u001b[39m, ::Any) at C:\\Users\\clair\\.julia\\packages\\AbstractPlotting\\2A5iv\\src\\dictlike.jl:184\n\u001b[0m  haskey(\u001b[91m::CategoricalArrays.CategoricalInvRefPool{T, P} where P\u001b[39m, ::Any) where T at C:\\Users\\clair\\.julia\\packages\\CategoricalArrays\\Fr04b\\src\\array.jl:1118\n\u001b[0m  haskey(\u001b[91m::DataStructures.DefaultDict\u001b[39m, ::Any...) at C:\\Users\\clair\\.julia\\packages\\DataStructures\\nBjdy\\src\\delegate.jl:21\n\u001b[0m  ...",
     "output_type": "error",
     "traceback": [
      "MethodError: no method matching haskey(::SimulationModel{Float64, OrderedCollections.OrderedDict{Symbol, Any}, OrderedCollections.OrderedDict{Symbol, Any}, Float64}, ::String)\n\u001b[0mClosest candidates are:\n\u001b[0m  haskey(\u001b[91m::Union{AbstractPlotting.Attributes, AbstractPlotting.AbstractPlot}\u001b[39m, ::Any) at C:\\Users\\clair\\.julia\\packages\\AbstractPlotting\\2A5iv\\src\\dictlike.jl:184\n\u001b[0m  haskey(\u001b[91m::CategoricalArrays.CategoricalInvRefPool{T, P} where P\u001b[39m, ::Any) where T at C:\\Users\\clair\\.julia\\packages\\CategoricalArrays\\Fr04b\\src\\array.jl:1118\n\u001b[0m  haskey(\u001b[91m::DataStructures.DefaultDict\u001b[39m, ::Any...) at C:\\Users\\clair\\.julia\\packages\\DataStructures\\nBjdy\\src\\delegate.jl:21\n\u001b[0m  ...",
      "",
      "Stacktrace:",
      "  [1] hasSignal(result::SimulationModel{Float64, OrderedCollections.OrderedDict{Symbol, Any}, OrderedCollections.OrderedDict{Symbol, Any}, Float64}, name::String)",
      "    @ ModiaPlot C:\\Users\\clair\\.julia\\packages\\ModiaPlot\\rYPfb\\src\\plot_base.jl:20",
      "  [2] getSignal(result::SimulationModel{Float64, OrderedCollections.OrderedDict{Symbol, Any}, OrderedCollections.OrderedDict{Symbol, Any}, Float64}, name::String)",
      "    @ ModiaPlot C:\\Users\\clair\\.julia\\packages\\ModiaPlot\\rYPfb\\src\\plot_base.jl:134",
      "  [3] getSignalWithWarning(result::SimulationModel{Float64, OrderedCollections.OrderedDict{Symbol, Any}, OrderedCollections.OrderedDict{Symbol, Any}, Float64}, name::String)",
      "    @ ModiaPlot C:\\Users\\clair\\.julia\\packages\\ModiaPlot\\rYPfb\\src\\plot_base.jl:183",
      "  [4] getPlotSignal(result::SimulationModel{Float64, OrderedCollections.OrderedDict{Symbol, Any}, OrderedCollections.OrderedDict{Symbol, Any}, Float64}, xsigName::String, ysigName::String)",
      "    @ ModiaPlot C:\\Users\\clair\\.julia\\packages\\ModiaPlot\\rYPfb\\src\\plot_base.jl:224",
      "  [5] addPlot(names::Tuple{String, String}, diagram::ModiaPlot.Diagram, result::SimulationModel{Float64, OrderedCollections.OrderedDict{Symbol, Any}, OrderedCollections.OrderedDict{Symbol, Any}, Float64}, grid::Bool, xLabel::Bool, xAxis::String, prefix::String, reuse::Bool, maxLegend::Int64, MonteCarloAsArea::Bool)",
      "    @ ModiaPlot C:\\Users\\clair\\.julia\\packages\\ModiaPlot\\rYPfb\\src\\plot_with_GLMakie.jl:216",
      "  [6] plot(result::SimulationModel{Float64, OrderedCollections.OrderedDict{Symbol, Any}, OrderedCollections.OrderedDict{Symbol, Any}, Float64}, names::Matrix{Any}; heading::String, grid::Bool, xAxis::String, figure::Int64, prefix::String, reuse::Bool, maxLegend::Int64, minXaxisTickLabels::Bool, MonteCarloAsArea::Bool)",
      "    @ ModiaPlot C:\\Users\\clair\\.julia\\packages\\ModiaPlot\\rYPfb\\src\\plot_with_GLMakie.jl:290",
      "  [7] #plot#10",
      "    @ C:\\Users\\clair\\.julia\\packages\\ModiaPlot\\rYPfb\\src\\plot_base.jl:513 [inlined]",
      "  [8] top-level scope",
      "    @ In[12]:30",
      "  [9] eval",
      "    @ .\\boot.jl:360 [inlined]",
      " [10] include_string(mapexpr::typeof(REPL.softscope), mod::Module, code::String, filename::String)",
      "    @ Base .\\loading.jl:1116"
     ]
    }
   ],
   "source": [
    "using Modia\n",
    "using ModiaLang\n",
    "using ModiaPlot\n",
    "using DifferentialEquations\n",
    "@usingModiaPlot \n",
    "Modia.usePlotPackage(\"PyPlot\")\n",
    "# Define model\n",
    "inputSignal(t) = sin(t)\n",
    "\n",
    "FirstOrder = Model(\n",
    "    T = 0.2,\n",
    "    x = Var(init=0.3),\n",
    "    equations = :[u = inputSignal(time/u\"s\"),\n",
    "                  T * der(x) + x = u,\n",
    "                  y = 2*x]\n",
    ")\n",
    "\n",
    "# Modify parameters and initial values of model\n",
    "FirstOrder2 = FirstOrder | Map(T = 0.4, x = Var(init=0.6))\n",
    "\n",
    "# Instantiate model\n",
    "firstOrder = @instantiateModel(FirstOrder2, logCode=true)\n",
    "\n",
    "\n",
    "# Simulate with automatically selected algorithm and \n",
    "# modified parameter and initial values\n",
    "simulate!(firstOrder, stopTime = 1.0, merge = Map(T = 0.6, x = 0.9), logParameters=true)\n",
    "\n",
    "# Plot variables \"x\", \"u\" in diagram 1, \"der(x)\" in diagram 2, both diagrams in figure 3\n",
    "plot(firstOrder, [(\"x\",\"u\"), \"der(x)\"], figure=3)\n",
    "\n",
    "# # Retrieve \"time\" and \"u\" values:\n",
    "# get_result(firstOrder, \"time\")\n",
    "# get_result(firstOrder, \"u\")\n",
    "    \n",
    "    \n",
    "# # Simulate with Runge-Kutta 5/4 with step-size control\n",
    "# simulate!(firstOrder, Tsit5(), stopTime = 1.0)\n",
    "\n",
    "# # Simulate with Runge-Kutta 4 with fixed step size\n",
    "# simulate!(firstOrder, RK4(), stopTime = 1.0, adaptive=false)\n",
    "\n",
    "# # Simulate with algorithm that switches between \n",
    "# # Verners Runge-Kutta 6/5 algorithm if non-stiff region and\n",
    "# # Rosenbrock 4 (= A-stable method) if stiff region with step-size control\n",
    "# simulate!(firstOrder, AutoVern6(Rodas4()), stopTime = 1.0)\n",
    "\n",
    "# # Simulate with Sundials CVODE (BDF method with variable order 1-5) with step-size control\n",
    "# using Sundials\n",
    "# simulate!(firstOrder, CVODE_BDF(), stopTime = 1.0)"
   ]
  },
  {
   "cell_type": "code",
   "execution_count": 9,
   "id": "96057712",
   "metadata": {},
   "outputs": [
    {
     "name": "stdout",
     "output_type": "stream",
     "text": [
      "using ModiaPlot_PyPlot\n"
     ]
    },
    {
     "name": "stderr",
     "output_type": "stream",
     "text": [
      "WARNING: using ModiaPlot_PyPlot.saveFigure in module Main conflicts with an existing identifier.\n",
      "WARNING: using ModiaPlot_PyPlot.showFigure in module Main conflicts with an existing identifier.\n",
      "WARNING: using ModiaPlot_PyPlot.plot in module Main conflicts with an existing identifier.\n",
      "WARNING: using ModiaPlot_PyPlot.closeFigure in module Main conflicts with an existing identifier.\n",
      "WARNING: using ModiaPlot_PyPlot.closeAllFigures in module Main conflicts with an existing identifier.\n"
     ]
    },
    {
     "ename": "LoadError",
     "evalue": "MethodError: no method matching haskey(::SimulationModel{Float64, OrderedCollections.OrderedDict{Symbol, Any}, OrderedCollections.OrderedDict{Symbol, Any}, Float64}, ::String)\n\u001b[0mClosest candidates are:\n\u001b[0m  haskey(\u001b[91m::Union{AbstractPlotting.Attributes, AbstractPlotting.AbstractPlot}\u001b[39m, ::Any) at C:\\Users\\clair\\.julia\\packages\\AbstractPlotting\\2A5iv\\src\\dictlike.jl:184\n\u001b[0m  haskey(\u001b[91m::CategoricalArrays.CategoricalInvRefPool{T, P} where P\u001b[39m, ::Any) where T at C:\\Users\\clair\\.julia\\packages\\CategoricalArrays\\Fr04b\\src\\array.jl:1118\n\u001b[0m  haskey(\u001b[91m::DataStructures.DefaultDict\u001b[39m, ::Any...) at C:\\Users\\clair\\.julia\\packages\\DataStructures\\nBjdy\\src\\delegate.jl:21\n\u001b[0m  ...",
     "output_type": "error",
     "traceback": [
      "MethodError: no method matching haskey(::SimulationModel{Float64, OrderedCollections.OrderedDict{Symbol, Any}, OrderedCollections.OrderedDict{Symbol, Any}, Float64}, ::String)\n\u001b[0mClosest candidates are:\n\u001b[0m  haskey(\u001b[91m::Union{AbstractPlotting.Attributes, AbstractPlotting.AbstractPlot}\u001b[39m, ::Any) at C:\\Users\\clair\\.julia\\packages\\AbstractPlotting\\2A5iv\\src\\dictlike.jl:184\n\u001b[0m  haskey(\u001b[91m::CategoricalArrays.CategoricalInvRefPool{T, P} where P\u001b[39m, ::Any) where T at C:\\Users\\clair\\.julia\\packages\\CategoricalArrays\\Fr04b\\src\\array.jl:1118\n\u001b[0m  haskey(\u001b[91m::DataStructures.DefaultDict\u001b[39m, ::Any...) at C:\\Users\\clair\\.julia\\packages\\DataStructures\\nBjdy\\src\\delegate.jl:21\n\u001b[0m  ...",
      "",
      "Stacktrace:",
      "  [1] hasSignal(result::SimulationModel{Float64, OrderedCollections.OrderedDict{Symbol, Any}, OrderedCollections.OrderedDict{Symbol, Any}, Float64}, name::String)",
      "    @ ModiaPlot C:\\Users\\clair\\.julia\\packages\\ModiaPlot\\rYPfb\\src\\plot_base.jl:20",
      "  [2] getSignal(result::SimulationModel{Float64, OrderedCollections.OrderedDict{Symbol, Any}, OrderedCollections.OrderedDict{Symbol, Any}, Float64}, name::String)",
      "    @ ModiaPlot C:\\Users\\clair\\.julia\\packages\\ModiaPlot\\rYPfb\\src\\plot_base.jl:134",
      "  [3] getSignalWithWarning(result::SimulationModel{Float64, OrderedCollections.OrderedDict{Symbol, Any}, OrderedCollections.OrderedDict{Symbol, Any}, Float64}, name::String)",
      "    @ ModiaPlot C:\\Users\\clair\\.julia\\packages\\ModiaPlot\\rYPfb\\src\\plot_base.jl:183",
      "  [4] getPlotSignal(result::SimulationModel{Float64, OrderedCollections.OrderedDict{Symbol, Any}, OrderedCollections.OrderedDict{Symbol, Any}, Float64}, xsigName::String, ysigName::String)",
      "    @ ModiaPlot C:\\Users\\clair\\.julia\\packages\\ModiaPlot\\rYPfb\\src\\plot_base.jl:224",
      "  [5] addPlot(names::Tuple{String, String}, diagram::ModiaPlot.Diagram, result::SimulationModel{Float64, OrderedCollections.OrderedDict{Symbol, Any}, OrderedCollections.OrderedDict{Symbol, Any}, Float64}, grid::Bool, xLabel::Bool, xAxis::String, prefix::String, reuse::Bool, maxLegend::Int64, MonteCarloAsArea::Bool)",
      "    @ ModiaPlot C:\\Users\\clair\\.julia\\packages\\ModiaPlot\\rYPfb\\src\\plot_with_GLMakie.jl:216",
      "  [6] plot(result::SimulationModel{Float64, OrderedCollections.OrderedDict{Symbol, Any}, OrderedCollections.OrderedDict{Symbol, Any}, Float64}, names::Matrix{Any}; heading::String, grid::Bool, xAxis::String, figure::Int64, prefix::String, reuse::Bool, maxLegend::Int64, minXaxisTickLabels::Bool, MonteCarloAsArea::Bool)",
      "    @ ModiaPlot C:\\Users\\clair\\.julia\\packages\\ModiaPlot\\rYPfb\\src\\plot_with_GLMakie.jl:290",
      "  [7] #plot#10",
      "    @ C:\\Users\\clair\\.julia\\packages\\ModiaPlot\\rYPfb\\src\\plot_base.jl:513 [inlined]",
      "  [8] top-level scope",
      "    @ In[9]:4",
      "  [9] eval",
      "    @ .\\boot.jl:360 [inlined]",
      " [10] include_string(mapexpr::typeof(REPL.softscope), mod::Module, code::String, filename::String)",
      "    @ Base .\\loading.jl:1116"
     ]
    }
   ],
   "source": [
    "using Modia\n",
    "@usingModiaPlot \n",
    "Modia.usePlotPackage(\"PyPlot\")\n",
    "plot(firstOrder, [(\"x\",\"u\"), \"der(x)\"], figure=3)"
   ]
  },
  {
   "cell_type": "code",
   "execution_count": null,
   "id": "2987487b",
   "metadata": {},
   "outputs": [],
   "source": []
  }
 ],
 "metadata": {
  "kernelspec": {
   "display_name": "Julia 1.6.2",
   "language": "julia",
   "name": "julia-1.6"
  },
  "language_info": {
   "file_extension": ".jl",
   "mimetype": "application/julia",
   "name": "julia",
   "version": "1.6.2"
  }
 },
 "nbformat": 4,
 "nbformat_minor": 5
}
