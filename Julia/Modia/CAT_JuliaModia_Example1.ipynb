{
 "cells": [
  {
   "cell_type": "markdown",
   "id": "aaffc8c7",
   "metadata": {},
   "source": [
    "1. Start from the rigid body formulation, using carden angle (mentioned in the paper), show pro/con versus using quaternion\n",
    "2. Show the formulation of body-joint and how it used to model the \"Youbot robot\" \n",
    "3. Study structure of Modia 3d based on ModiaLang and ModiaBase\n",
    "4. Study the solution sequence outlined in the paper andou the index reduction of DAE\n",
    "5. Study the solution sequence of ModiaLang Tool kit"
   ]
  },
  {
   "cell_type": "code",
   "execution_count": 20,
   "id": "b2030aff",
   "metadata": {},
   "outputs": [
    {
     "name": "stdout",
     "output_type": "stream",
     "text": [
      "using ModiaPlot_PyPlot"
     ]
    },
    {
     "name": "stderr",
     "output_type": "stream",
     "text": [
      "WARNING: replacing module Pendulum1.\n"
     ]
    },
    {
     "name": "stdout",
     "output_type": "stream",
     "text": [
      "\n",
      "\n",
      "Instantiating model Main.Pendulum1.buildModia3D(Pendulum)\n"
     ]
    },
    {
     "ename": "LoadError",
     "evalue": "MethodError: no method matching addPlot(::Float64, ::Vector{Float64}, ::Bool, ::Bool, ::Nothing, ::String, ::Bool, ::Int64, ::Bool)\n\u001b[0mClosest candidates are:\n\u001b[0m  addPlot(\u001b[91m::Tuple\u001b[39m, ::Any, ::Bool, ::Bool, ::Any, ::AbstractString, ::Bool, ::Integer, ::Bool) at C:\\Users\\clair\\.julia\\packages\\ModiaPlot_PyPlot\\n6Rca\\src\\ModiaPlot_PyPlot.jl:109\n\u001b[0m  addPlot(\u001b[91m::AbstractString\u001b[39m, ::Any...) at C:\\Users\\clair\\.julia\\packages\\ModiaPlot_PyPlot\\n6Rca\\src\\ModiaPlot_PyPlot.jl:138\n\u001b[0m  addPlot(\u001b[91m::Symbol\u001b[39m, ::Any...) at C:\\Users\\clair\\.julia\\packages\\ModiaPlot_PyPlot\\n6Rca\\src\\ModiaPlot_PyPlot.jl:139",
     "output_type": "error",
     "traceback": [
      "MethodError: no method matching addPlot(::Float64, ::Vector{Float64}, ::Bool, ::Bool, ::Nothing, ::String, ::Bool, ::Int64, ::Bool)\n\u001b[0mClosest candidates are:\n\u001b[0m  addPlot(\u001b[91m::Tuple\u001b[39m, ::Any, ::Bool, ::Bool, ::Any, ::AbstractString, ::Bool, ::Integer, ::Bool) at C:\\Users\\clair\\.julia\\packages\\ModiaPlot_PyPlot\\n6Rca\\src\\ModiaPlot_PyPlot.jl:109\n\u001b[0m  addPlot(\u001b[91m::AbstractString\u001b[39m, ::Any...) at C:\\Users\\clair\\.julia\\packages\\ModiaPlot_PyPlot\\n6Rca\\src\\ModiaPlot_PyPlot.jl:138\n\u001b[0m  addPlot(\u001b[91m::Symbol\u001b[39m, ::Any...) at C:\\Users\\clair\\.julia\\packages\\ModiaPlot_PyPlot\\n6Rca\\src\\ModiaPlot_PyPlot.jl:139",
      "",
      "Stacktrace:",
      " [1] plot(result::Vector{Float64}, names::Matrix{Float64}; heading::String, grid::Bool, xAxis::Nothing, figure::Int64, prefix::String, reuse::Bool, maxLegend::Int64, minXaxisTickLabels::Bool, MonteCarloAsArea::Bool)",
      "   @ ModiaPlot_PyPlot C:\\Users\\clair\\.julia\\packages\\ModiaPlot_PyPlot\\n6Rca\\src\\ModiaPlot_PyPlot.jl:181",
      " [2] plot",
      "   @ C:\\Users\\clair\\.julia\\packages\\ModiaPlot_PyPlot\\n6Rca\\src\\ModiaPlot_PyPlot.jl:148 [inlined]",
      " [3] #plot#4",
      "   @ C:\\Users\\clair\\.julia\\packages\\ModiaResult\\EHs5K\\src\\plot.jl:139 [inlined]",
      " [4] plot(result::Vector{Float64}, names::Vector{Float64})",
      "   @ ModiaPlot_PyPlot C:\\Users\\clair\\.julia\\packages\\ModiaResult\\EHs5K\\src\\plot.jl:139",
      " [5] top-level scope",
      "   @ In[20]:24",
      " [6] eval",
      "   @ .\\boot.jl:360 [inlined]",
      " [7] include_string(mapexpr::typeof(REPL.softscope), mod::Module, code::String, filename::String)",
      "   @ Base .\\loading.jl:1116"
     ]
    }
   ],
   "source": [
    "module Pendulum1\n",
    "# import Modia3D\n",
    "using Modia\n",
    "@usingModiaPlot \n",
    "Modia.usePlotPackage(\"PyPlot\")\n",
    "Pendulum = Model(\n",
    "    world     = Object3D(feature=Scene()),\n",
    "    body      = Object3D(feature=Solid(massProperties=MassProperties(mass=1.0))),\n",
    "    bodyFrame = Object3D(parent=:body, translation=[-0.5, 0.0, 0.0]),\n",
    "    rev       = Revolute(obj1=:world, obj2=:bodyFrame)\n",
    ")\n",
    "\n",
    "# Pendulum = Pendulum | Map( bodyFrame = Object3D(parent=:body, translation=[-0.3, 0.0, 0.0]))\n",
    "\n",
    "pendulum = @instantiateModel(buildModia3D(Pendulum), unitless=true)\n",
    "simulate!(pendulum, stopTime=3.0u\"s\", merge = Map(bodyFrame = Object3D(parent=:body, translation=[-0.3, 0.0, 0.0])))\n",
    "time=get_result(pendulum,\"time\")\n",
    "angle=get_result(pendulum,\"rev.phi\")\n",
    "# simulate!(pendulum, stopTime=3.0)\n",
    "\n",
    "# @usingModiaPlot    ENV[\"MODIA_PLOT\"] = \"PyPlot\" # use the plot package defined by ENV[\"MODIA_PLOT\"]\n",
    "# ModiaPlot_PyPlot.plot(pendulum, \"rev.phi\")\n",
    "# plot(pendulum, \"rev.phi\")\n",
    "plot(ustrip(time),ustrip(angle))\n",
    "end"
   ]
  },
  {
   "cell_type": "code",
   "execution_count": null,
   "id": "198d8a97",
   "metadata": {},
   "outputs": [],
   "source": []
  },
  {
   "cell_type": "code",
   "execution_count": 34,
   "id": "022f313e",
   "metadata": {},
   "outputs": [
    {
     "name": "stdout",
     "output_type": "stream",
     "text": [
      "\n",
      "Instantiating model Main.Pendulum2.buildModia3D(Pendulum)\n"
     ]
    },
    {
     "name": "stderr",
     "output_type": "stream",
     "text": [
      "WARNING: replacing module Pendulum2.\n"
     ]
    },
    {
     "name": "stdout",
     "output_type": "stream",
     "text": [
      "Export animation to Pendulum2.json ... done.\n",
      "using ModiaPlot_PyPlot\n"
     ]
    },
    {
     "data": {
      "text/plain": [
       "Main.Pendulum2"
      ]
     },
     "execution_count": 34,
     "metadata": {},
     "output_type": "execute_result"
    }
   ],
   "source": [
    "module Pendulum2\n",
    "\n",
    "using Modia\n",
    "# import Modia3D\n",
    "\n",
    "Pendulum = Model(\n",
    "    world = Object3D(feature=Scene(animationFile=\"Pendulum2.json\")),\n",
    "#     obj1  = Object3D(feature=Solid(shape=Cone(axis=1, diameter=1.0, length=1.0, topDiameter=0.0),\n",
    "#                 solidMaterial=\"Steel\", visualMaterial=VisualMaterial(color=\"Blue\"))),\n",
    "    \n",
    "        obj1  = Object3D(feature=Solid(shape=Box(lengthX=1.0, lengthY=0.2, lengthZ=0.2),\n",
    "                solidMaterial=\"Steel\", visualMaterial=VisualMaterial(color=\"Blue\"))),\n",
    "    \n",
    "#     obj1  = Object3D(feature=Solid(shape=Beam(axis=1, length=1.0, width=0.2, thickness=0.2),\n",
    "#                 solidMaterial=\"Steel\", visualMaterial=VisualMaterial(color=\"Blue\"))),\n",
    "    obj2  = Object3D(parent=:obj1, feature=Visual(shape=Cylinder(diameter=0.1, length=0.21),\n",
    "                visualMaterial=VisualMaterial(color=\"Red\")), translation=[-0.5, 0.0, 0.0]),\n",
    "    rev   = Revolute(obj1=:world, obj2=:obj2)\n",
    ")\n",
    "\n",
    "pendulum = @instantiateModel(buildModia3D(Pendulum), unitless=true)\n",
    "simulate!(pendulum, stopTime=3.0)\n",
    "\n",
    "@usingModiaPlot\n",
    "plot(pendulum, \"rev.phi\")\n",
    "\n",
    "end"
   ]
  },
  {
   "cell_type": "code",
   "execution_count": null,
   "id": "632cb327",
   "metadata": {},
   "outputs": [],
   "source": []
  },
  {
   "cell_type": "code",
   "execution_count": 35,
   "id": "23512766",
   "metadata": {},
   "outputs": [
    {
     "name": "stdout",
     "output_type": "stream",
     "text": [
      "\n",
      "Instantiating model Main.Pendulum3.buildModia3D(Pendulum)\n",
      "Export animation to Pendulum3.json ... done.\n",
      "using ModiaPlot_PyPlot\n"
     ]
    },
    {
     "data": {
      "text/plain": [
       "Main.Pendulum3"
      ]
     },
     "execution_count": 35,
     "metadata": {},
     "output_type": "execute_result"
    }
   ],
   "source": [
    "module Pendulum3\n",
    "\n",
    "using Modia\n",
    "\n",
    "# Modia equation-based models\n",
    "include(\"$(Modia.modelsPath)/AllModels.jl\")\n",
    "\n",
    "Pendulum = Model(\n",
    "    world = Object3D(feature=Scene(animationFile=\"Pendulum3.json\")),\n",
    "#     obj1  = Object3D(feature=Solid(shape=Beam(axis=1, length=1.0, width=0.2, thickness=0.2),\n",
    "#                 solidMaterial=\"Steel\", visualMaterial=VisualMaterial(color=\"Blue\"))),\n",
    "    obj1  = Object3D(feature=Solid(shape=Box(lengthX=1.0, lengthY=0.2, lengthZ=0.2),\n",
    "                solidMaterial=\"Steel\", visualMaterial=VisualMaterial(color=\"Blue\"))),\n",
    "    \n",
    "    obj2  = Object3D(parent=:obj1, feature=Visual(shape=Cylinder(diameter=0.1, length=0.21),\n",
    "                visualMaterial=VisualMaterial(color=\"Red\")), translation=[-0.5, 0.0, 0.0]),\n",
    "    rev   = RevoluteWithFlange(obj1=:world, obj2=:obj2),\n",
    "\n",
    "    damper  = Damper | Map(d=100.0),\n",
    "    fixed   = Fixed,\n",
    "    connect = :[(damper.flange_b, rev.flange),\n",
    "                (damper.flange_a, fixed.flange)]\n",
    ")\n",
    "\n",
    "pendulum = @instantiateModel(buildModia3D(Pendulum), unitless=true)\n",
    "simulate!(pendulum, stopTime=3.0)\n",
    "\n",
    "@usingModiaPlot\n",
    "plot(pendulum, \"rev.phi\")\n",
    "\n",
    "end"
   ]
  },
  {
   "cell_type": "markdown",
   "id": "bc10494b",
   "metadata": {},
   "source": [
    "# Function of RevoluteWithFlange: \n",
    "How the RevoluteWithFlange function has been written"
   ]
  },
  {
   "cell_type": "code",
   "execution_count": null,
   "id": "22ab68f2",
   "metadata": {},
   "outputs": [],
   "source": [
    "RevoluteWithFlange(; obj1, obj2, axis=3, phi=Var(init=0.0), w=Var(init=0.0),canCollide=true) \n",
    "\n",
    "\n",
    "= Model(;_constructor = Par(value =:(Modia3D.Composition.Revolute),_jointType = :RevoluteWithFlange),\n",
    "obj1 = Par(value = obj1),\n",
    "obj2 = Par(value = obj2),\n",
    "axis = Par(value = axis),\n",
    "canCollide = Par(value = canCollide),\n",
    "flange = Flange, # defined in Rotational\n",
    "phi = phi,\n",
    "w = w,\n",
    "equations = :[\n",
    "phi = flange.phi\n",
    "w = der(phi)])"
   ]
  },
  {
   "cell_type": "code",
   "execution_count": 70,
   "id": "bda42060",
   "metadata": {},
   "outputs": [
    {
     "name": "stdout",
     "output_type": "stream",
     "text": [
      "\n",
      "Instantiating model Main.Pendulum3.buildModia3D(Pendulum)"
     ]
    },
    {
     "name": "stderr",
     "output_type": "stream",
     "text": [
      "WARNING: replacing module Pendulum3.\n"
     ]
    },
    {
     "name": "stdout",
     "output_type": "stream",
     "text": [
      "\n",
      "Export animation to Pendulum3.json ... done.\n",
      "using ModiaPlot_PyPlot\n"
     ]
    },
    {
     "data": {
      "text/plain": [
       "Main.Pendulum3"
      ]
     },
     "execution_count": 70,
     "metadata": {},
     "output_type": "execute_result"
    }
   ],
   "source": [
    "import Modia3D\n",
    "include(\"$(Modia3D.path)/test/Tutorial/Pendulum3.jl\")"
   ]
  },
  {
   "cell_type": "code",
   "execution_count": 71,
   "id": "8cb8dbc4",
   "metadata": {},
   "outputs": [
    {
     "ename": "LoadError",
     "evalue": "SystemError: opening file \"C:\\\\Users\\\\clair\\\\.julia\\\\packages\\\\Modia3D\\\\cpwrJ\\\\test\\\\Tutorial\\\\BouncingSphere.jl\": No such file or directory",
     "output_type": "error",
     "traceback": [
      "SystemError: opening file \"C:\\\\Users\\\\clair\\\\.julia\\\\packages\\\\Modia3D\\\\cpwrJ\\\\test\\\\Tutorial\\\\BouncingSphere.jl\": No such file or directory",
      "",
      "Stacktrace:",
      "  [1] systemerror(p::String, errno::Int32; extrainfo::Nothing)",
      "    @ Base .\\error.jl:168",
      "  [2] #systemerror#62",
      "    @ .\\error.jl:167 [inlined]",
      "  [3] systemerror",
      "    @ .\\error.jl:167 [inlined]",
      "  [4] open(fname::String; lock::Bool, read::Nothing, write::Nothing, create::Nothing, truncate::Nothing, append::Nothing)",
      "    @ Base .\\iostream.jl:293",
      "  [5] open",
      "    @ .\\iostream.jl:282 [inlined]",
      "  [6] open(f::Base.var\"#326#327\"{String}, args::String; kwargs::Base.Iterators.Pairs{Union{}, Union{}, Tuple{}, NamedTuple{(), Tuple{}}})",
      "    @ Base .\\io.jl:328",
      "  [7] open",
      "    @ .\\io.jl:328 [inlined]",
      "  [8] read",
      "    @ .\\io.jl:434 [inlined]",
      "  [9] _include(mapexpr::Function, mod::Module, _path::String)",
      "    @ Base .\\loading.jl:1166",
      " [10] include(fname::String)",
      "    @ Base.MainInclude .\\client.jl:444",
      " [11] top-level scope",
      "    @ In[71]:2",
      " [12] eval",
      "    @ .\\boot.jl:360 [inlined]",
      " [13] include_string(mapexpr::typeof(REPL.softscope), mod::Module, code::String, filename::String)",
      "    @ Base .\\loading.jl:1116"
     ]
    }
   ],
   "source": [
    "import Modia3D\n",
    "include(\"$(Modia3D.path)/test/Tutorial/BouncingSphere.jl\")"
   ]
  },
  {
   "cell_type": "code",
   "execution_count": 65,
   "id": "9776472b",
   "metadata": {},
   "outputs": [
    {
     "name": "stdout",
     "output_type": "stream",
     "text": [
      "\n",
      "Instantiating model Main.Pendulum1.buildModia3D(Pendulum)\n"
     ]
    },
    {
     "name": "stderr",
     "output_type": "stream",
     "text": [
      "WARNING: replacing module Pendulum1.\n"
     ]
    },
    {
     "name": "stdout",
     "output_type": "stream",
     "text": [
      "using ModiaPlot_PyPlot\n"
     ]
    },
    {
     "data": {
      "text/plain": [
       "Main.Pendulum1"
      ]
     },
     "execution_count": 65,
     "metadata": {},
     "output_type": "execute_result"
    }
   ],
   "source": [
    "import Modia3D\n",
    "include(\"$(Modia3D.path)/test/Tutorial/Pendulum1.jl\")"
   ]
  },
  {
   "cell_type": "code",
   "execution_count": 76,
   "id": "e7cc6269",
   "metadata": {},
   "outputs": [
    {
     "name": "stdout",
     "output_type": "stream",
     "text": [
      "\n",
      "Instantiating model Main.Pendulum2.buildModia3D(Pendulum)"
     ]
    },
    {
     "name": "stderr",
     "output_type": "stream",
     "text": [
      "WARNING: replacing module Pendulum2.\n"
     ]
    },
    {
     "name": "stdout",
     "output_type": "stream",
     "text": [
      "\n",
      "Export animation to Pendulum2.json ... done.\n",
      "using ModiaPlot_PyPlot\n"
     ]
    },
    {
     "data": {
      "text/plain": [
       "Main.Pendulum2"
      ]
     },
     "execution_count": 76,
     "metadata": {},
     "output_type": "execute_result"
    }
   ],
   "source": [
    "import Modia3D\n",
    "include(\"$(Modia3D.path)/test/Tutorial/Pendulum2.jl\")"
   ]
  },
  {
   "cell_type": "code",
   "execution_count": 75,
   "id": "f4e07b41",
   "metadata": {},
   "outputs": [
    {
     "name": "stdout",
     "output_type": "stream",
     "text": [
      "\n",
      "Instantiating model Main.Pendulum\n",
      "... Simulate model Pendulum\n",
      "      Initialization at time = 0.0 s\n",
      "      Termination of Pendulum at time = 10.0 s\n",
      "        cpuTime         = 0.114 s\n",
      "        allocated       = 4.13 MiB\n",
      "        algorithm       = Tsit5\n",
      "        FloatType       = Float64\n",
      "        interval        = 0.02 s\n",
      "        tolerance       = 1.0e-6 (relative tolerance)\n",
      "        nStates         = 2\n",
      "        nResults        = 501\n",
      "        nGetDerivatives = 1476 (total number of getDerivatives! calls)\n",
      "        nf              = 973 (number of getDerivatives! calls from integrator)\n",
      "        nZeroCrossings  = 0 (number of getDerivatives! calls for zero crossing detection)\n",
      "        nJac            = 0 (number of Jacobian computations)\n",
      "        nAcceptedSteps  = 162\n",
      "        nRejectedSteps  = 0\n",
      "        nErrTestFails   = 0\n",
      "        nTimeEvents     = 0\n",
      "        nStateEvents    = 0\n",
      "        nRestartEvents  = 0\n"
     ]
    }
   ],
   "source": [
    "using Modia\n",
    "Modia.usePlotPackage(\"PyPlot\")\n",
    "# @usingModiaPlot  # Use plot package defined with \n",
    "                 # ENV[\"MODIA_PLOT\"] or Modia.usePlotPackage(..)\n",
    "# Modia.usePlotPackage(\"PyPlot\")\n",
    "Pendulum = Model(\n",
    "   L = 0.8u\"m\",\n",
    "   m = 1.0u\"kg\",\n",
    "   d = 0.5u\"N*m*s/rad\",\n",
    "   g = 9.81u\"m/s^2\",\n",
    "   phi = Var(init = 1.57*u\"rad\"),\n",
    "   w   = Var(init = 0u\"rad/s\"),\n",
    "   equations = :[\n",
    "          w = der(phi)\n",
    "        0.0 = m*L^2*der(w) + d*w + m*g*L*sin(phi)\n",
    "          r = [L*cos(phi), -L*sin(phi)]\n",
    "   ]\n",
    ")\n",
    "\n",
    "pendulum1 = @instantiateModel(Pendulum)\n",
    "simulate!(pendulum1, Tsit5(), stopTime = 10.0u\"s\", log=true)\n",
    "ModiaPlot_PyPlot.plot(pendulum1, [(\"phi\", \"w\"); \"r\"], figure = 1)"
   ]
  },
  {
   "cell_type": "code",
   "execution_count": 26,
   "id": "cc82798d",
   "metadata": {},
   "outputs": [
    {
     "name": "stdout",
     "output_type": "stream",
     "text": [
      "using ModiaPlot_PyPlot\n",
      "\n",
      "Instantiating model Main.Pendulum\n",
      "... Simulate model Pendulum\n",
      "      Initialization at time = 0.0 s\n",
      "      Termination of Pendulum at time = 10.0 s\n",
      "        cpuTime         = 0.0555 s\n",
      "        allocated       = 4.11 MiB\n",
      "        algorithm       = Tsit5\n",
      "        FloatType       = Float64\n",
      "        interval        = 0.02 s\n",
      "        tolerance       = 1.0e-6 (relative tolerance)\n",
      "        nStates         = 2\n",
      "        nResults        = 501\n",
      "        nGetDerivatives = 1416 (total number of getDerivatives! calls)\n",
      "        nf              = 913 (number of getDerivatives! calls from integrator)\n",
      "        nZeroCrossings  = 0 (number of getDerivatives! calls for zero crossing detection)\n",
      "        nJac            = 0 (number of Jacobian computations)\n",
      "        nAcceptedSteps  = 152\n",
      "        nRejectedSteps  = 0\n",
      "        nErrTestFails   = 0\n",
      "        nTimeEvents     = 0\n",
      "        nStateEvents    = 0\n",
      "        nRestartEvents  = 0\n"
     ]
    }
   ],
   "source": [
    "using Modia\n",
    "@usingModiaPlot #ENV[\"MODIA_PLOT\"] = \"PyPlot\"  # Use plot package defined with \n",
    "Modia.usePlotPackage(\"PyPlot\")           # ENV[\"MODIA_PLOT\"] or Modia.usePlotPackage(..)\n",
    "\n",
    "Pendulum = Model(\n",
    "   L = 0.8u\"m\",\n",
    "   m = 1.0u\"kg\",\n",
    "   d = 0.5u\"N*m*s/rad\",\n",
    "   g = 9.81u\"m/s^2\",\n",
    "   phi = Var(init = 1.57*u\"rad\"),\n",
    "   w   = Var(init = 0u\"rad/s\"),\n",
    "   equations = :[\n",
    "          w = der(phi)\n",
    "        0.0 = m*L^2*der(w) + d*w + m*g*L*sin(phi)\n",
    "          r = [L*cos(phi), -L*sin(phi)]\n",
    "   ]\n",
    ")\n",
    "Pendulum = Pendulum | Map(L = 0.5u\"m\")\n",
    "pendulum1 = @instantiateModel(Pendulum)\n",
    "simulate!(pendulum1, Tsit5(), stopTime = 10.0u\"s\", log=true)\n",
    "# ENV[\"MODIA_PLOT\"] = \"PyPlot\"\n",
    "# ModiaResult.activate(\"PyPlot\")\n",
    "ModiaPlot_PyPlot.plot(pendulum1, [(\"phi\", \"w\"); \"r\"], figure = 1)"
   ]
  },
  {
   "cell_type": "markdown",
   "id": "6a80fbf0",
   "metadata": {},
   "source": [
    "***ModiaBase provides functions to support the transformation from a DAE to explicit ODE**"
   ]
  },
  {
   "cell_type": "code",
   "execution_count": null,
   "id": "f29a4955",
   "metadata": {},
   "outputs": [],
   "source": []
  }
 ],
 "metadata": {
  "kernelspec": {
   "display_name": "Julia 1.6.2",
   "language": "julia",
   "name": "julia-1.6"
  },
  "language_info": {
   "file_extension": ".jl",
   "mimetype": "application/julia",
   "name": "julia",
   "version": "1.6.2"
  }
 },
 "nbformat": 4,
 "nbformat_minor": 5
}
