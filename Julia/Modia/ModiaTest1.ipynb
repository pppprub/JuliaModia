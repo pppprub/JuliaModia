{
 "cells": [
  {
   "cell_type": "code",
   "execution_count": null,
   "id": "bc3dc957",
   "metadata": {},
   "outputs": [],
   "source": [
    "using Modia"
   ]
  },
  {
   "cell_type": "code",
   "execution_count": null,
   "id": "41c94261",
   "metadata": {},
   "outputs": [],
   "source": [
    "@usingModiaPlot"
   ]
  },
  {
   "cell_type": "code",
   "execution_count": 10,
   "id": "0563c6e5",
   "metadata": {},
   "outputs": [
    {
     "name": "stdout",
     "output_type": "stream",
     "text": [
      "\n",
      "Instantiating model Main.SimpleModel\n"
     ]
    },
    {
     "data": {
      "text/plain": [
       "retcode: Success\n",
       "Interpolation: 1st order linear\n",
       "t: 501-element Vector{Float64}:\n",
       " 0.0\n",
       " 0.0024\n",
       " 0.0048\n",
       " 0.0072\n",
       " 0.0096\n",
       " 0.012\n",
       " 0.0144\n",
       " 0.0168\n",
       " 0.0192\n",
       " 0.0216\n",
       " 0.024\n",
       " 0.0264\n",
       " 0.0288\n",
       " ⋮\n",
       " 1.1736\n",
       " 1.176\n",
       " 1.1784\n",
       " 1.1808\n",
       " 1.1832\n",
       " 1.1856\n",
       " 1.188\n",
       " 1.1904\n",
       " 1.1928\n",
       " 1.1952\n",
       " 1.1976\n",
       " 1.2\n",
       "u: 501-element Vector{Vector{Float64}}:\n",
       " [0.2]\n",
       " [0.2047856287568517]\n",
       " [0.20954262971347107]\n",
       " [0.21427117411908617]\n",
       " [0.2189714321974651]\n",
       " [0.22364357316135436]\n",
       " [0.22828776521255087]\n",
       " [0.23290417554233248]\n",
       " [0.2374929703652941]\n",
       " [0.24205431486297474]\n",
       " [0.24658837321721042]\n",
       " [0.2510953086465408]\n",
       " [0.2555752834062094]\n",
       " ⋮\n",
       " [0.9574528884505216]\n",
       " [0.9577074067358784]\n",
       " [0.9579604024817859]\n",
       " [0.958211884800929]\n",
       " [0.9584618627510041]\n",
       " [0.9587103453347189]\n",
       " [0.9589573414997925]\n",
       " [0.959202860138956]\n",
       " [0.9594469100899512]\n",
       " [0.959689500135532]\n",
       " [0.9599306390034635]\n",
       " [0.9601703353665224]"
      ]
     },
     "execution_count": 10,
     "metadata": {},
     "output_type": "execute_result"
    }
   ],
   "source": [
    "SimpleModel = Model(\n",
    "    T = 0.4,\n",
    "    x = Var(init=0.2),\n",
    "    y= output,\n",
    "    equation = :[T * der(x) + x = 1\n",
    "        y = x ],\n",
    ")\n",
    "# Transform to ODE form\n",
    "simpleModel = @instantiateModel(SimpleModel)\n",
    "\n",
    "# Simulate with default integrator Sundials.CVODE_BDF\n",
    "simulate!(simpleModel, stopTime = 1.2)\n",
    "\n",
    "# Simulate with a specific integrator (Tsit5) and use a unit for stopTime\n",
    "simulate!(simpleModel, Tsit5(), stopTime = 1.2u\"s\")\n",
    "\n",
    "# Produce a line plot"
   ]
  },
  {
   "cell_type": "code",
   "execution_count": null,
   "id": "2b12cfae",
   "metadata": {},
   "outputs": [],
   "source": []
  },
  {
   "cell_type": "code",
   "execution_count": null,
   "id": "a2cd15d4",
   "metadata": {},
   "outputs": [],
   "source": []
  }
 ],
 "metadata": {
  "kernelspec": {
   "display_name": "Julia 1.6.2",
   "language": "julia",
   "name": "julia-1.6"
  },
  "language_info": {
   "file_extension": ".jl",
   "mimetype": "application/julia",
   "name": "julia",
   "version": "1.6.2"
  }
 },
 "nbformat": 4,
 "nbformat_minor": 5
}
