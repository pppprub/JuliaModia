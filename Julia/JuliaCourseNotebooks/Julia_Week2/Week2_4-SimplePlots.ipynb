{
 "cells": [
  {
   "cell_type": "code",
   "execution_count": 1,
   "metadata": {},
   "outputs": [
    {
     "data": {
      "text/html": [
       "<link href='http://fonts.googleapis.com/css?family=Alegreya+Sans:100,300,400,500,700,800,900,100italic,300italic,400italic,500italic,700italic,800italic,900italic' rel='stylesheet' type='text/css'>\r\n",
       "<link href='http://fonts.googleapis.com/css?family=Arvo:400,700,400italic' rel='stylesheet' type='text/css'>\r\n",
       "<link href='http://fonts.googleapis.com/css?family=PT+Mono' rel='stylesheet' type='text/css'>\r\n",
       "<link href='http://fonts.googleapis.com/css?family=Shadows+Into+Light' rel='stylesheet' type='text/css'>\r\n",
       "<link href='http://fonts.googleapis.com/css?family=Philosopher:400,700,400italic,700italic' rel='stylesheet' type='text/css'>\r\n",
       "\r\n",
       "<style>\r\n",
       "\r\n",
       "@font-face {\r\n",
       "    font-family: \"Computer Modern\";\r\n",
       "    src: url('http://mirrors.ctan.org/fonts/cm-unicode/fonts/otf/cmunss.otf');\r\n",
       "}\r\n",
       "\r\n",
       "\r\n",
       "\r\n",
       "/* Formatting for header cells */\r\n",
       ".text_cell_render h1 {\r\n",
       "    font-family: 'Philosopher', sans-serif;\r\n",
       "    font-weight: 400;\r\n",
       "    font-size: 2.2em;\r\n",
       "    line-height: 100%;\r\n",
       "    color: rgb(0, 80, 120);\r\n",
       "    margin-bottom: 0.1em;\r\n",
       "    margin-top: 0.1em;\r\n",
       "    display: block;\r\n",
       "}\t\r\n",
       ".text_cell_render h2 {\r\n",
       "    font-family: 'Philosopher', serif;\r\n",
       "    font-weight: 400;\r\n",
       "    font-size: 1.9em;\r\n",
       "    line-height: 100%;\r\n",
       "    color: rgb(200,100,0);\r\n",
       "    margin-bottom: 0.1em;\r\n",
       "    margin-top: 0.1em;\r\n",
       "    display: block;\r\n",
       "}\t\r\n",
       "\r\n",
       ".text_cell_render h3 {\r\n",
       "    font-family: 'Philosopher', serif;\r\n",
       "    margin-top:12px;\r\n",
       "    margin-bottom: 3px;\r\n",
       "    font-style: italic;\r\n",
       "    color: rgb(94,127,192);\r\n",
       "}\r\n",
       "\r\n",
       ".text_cell_render h4 {\r\n",
       "    font-family: 'Philosopher', serif;\r\n",
       "}\r\n",
       "\r\n",
       ".text_cell_render h5 {\r\n",
       "    font-family: 'Alegreya Sans', sans-serif;\r\n",
       "    font-weight: 300;\r\n",
       "    font-size: 16pt;\r\n",
       "    color: grey;\r\n",
       "    font-style: italic;\r\n",
       "    margin-bottom: .1em;\r\n",
       "    margin-top: 0.1em;\r\n",
       "    display: block;\r\n",
       "}\r\n",
       "\r\n",
       ".text_cell_render h6 {\r\n",
       "    font-family: 'PT Mono', sans-serif;\r\n",
       "    font-weight: 300;\r\n",
       "    font-size: 10pt;\r\n",
       "    color: grey;\r\n",
       "    margin-bottom: 1px;\r\n",
       "    margin-top: 1px;\r\n",
       "}\r\n",
       "\r\n",
       ".CodeMirror{\r\n",
       "        font-family: \"PT Mono\";\r\n",
       "        font-size: 100%;\r\n",
       "}\r\n",
       "\r\n",
       "</style>\r\n",
       "\r\n"
      ],
      "text/plain": [
       "HTML{String}(\"<link href='http://fonts.googleapis.com/css?family=Alegreya+Sans:100,300,400,500,700,800,900,100italic,300italic,400italic,500italic,700italic,800italic,900italic' rel='stylesheet' type='text/css'>\\r\\n<link href='http://fonts.googleapis.com/css?family=Arvo:400,700,400italic' rel='stylesheet' type='text/css'>\\r\\n<link href='http://fonts.googleapis.com/css?family=PT+Mono' rel='stylesheet' type='text/css'>\\r\\n<link href='http://fonts.googleapis.com/css?family=Shadows+Into+Light' rel='stylesheet' type='text/css'>\\r\\n<link href='http://fonts.googleapis.com/css?family=Philosopher:400,700,400italic,700italic' rel='stylesheet' type='text/css'>\\r\\n\\r\\n<style>\\r\\n\\r\\n@font-face {\\r\\n    font-family: \\\"Computer Modern\\\";\\r\\n    src: url('http://mirrors.ctan.org/fonts/cm-unicode/fonts/otf/cmunss.otf');\\r\\n}\\r\\n\\r\\n\\r\\n\\r\\n/* Formatting for header cells */\\r\\n.text_cell_render h1 {\\r\\n    font-family: 'Philosopher', sans-serif;\\r\\n    font-weight: 400;\\r\\n    font-size: 2.2em;\\r\\n    line-height: 100%;\\r\\n    color: rgb(0, 80, 120);\\r\\n    margin-bottom: 0.1em;\\r\\n    margin-top: 0.1em;\\r\\n    display: block;\\r\\n}\\t\\r\\n.text_cell_render h2 {\\r\\n    font-family: 'Philosopher', serif;\\r\\n    font-weight: 400;\\r\\n    font-size: 1.9em;\\r\\n    line-height: 100%;\\r\\n    color: rgb(200,100,0);\\r\\n    margin-bottom: 0.1em;\\r\\n    margin-top: 0.1em;\\r\\n    display: block;\\r\\n}\\t\\r\\n\\r\\n.text_cell_render h3 {\\r\\n    font-family: 'Philosopher', serif;\\r\\n    margin-top:12px;\\r\\n    margin-bottom: 3px;\\r\\n    font-style: italic;\\r\\n    color: rgb(94,127,192);\\r\\n}\\r\\n\\r\\n.text_cell_render h4 {\\r\\n    font-family: 'Philosopher', serif;\\r\\n}\\r\\n\\r\\n.text_cell_render h5 {\\r\\n    font-family: 'Alegreya Sans', sans-serif;\\r\\n    font-weight: 300;\\r\\n    font-size: 16pt;\\r\\n    color: grey;\\r\\n    font-style: italic;\\r\\n    margin-bottom: .1em;\\r\\n    margin-top: 0.1em;\\r\\n    display: block;\\r\\n}\\r\\n\\r\\n.text_cell_render h6 {\\r\\n    font-family: 'PT Mono', sans-serif;\\r\\n    font-weight: 300;\\r\\n    font-size: 10pt;\\r\\n    color: grey;\\r\\n    margin-bottom: 1px;\\r\\n    margin-top: 1px;\\r\\n}\\r\\n\\r\\n.CodeMirror{\\r\\n        font-family: \\\"PT Mono\\\";\\r\\n        font-size: 100%;\\r\\n}\\r\\n\\r\\n</style>\\r\\n\\r\\n\")"
      ]
     },
     "execution_count": 1,
     "metadata": {},
     "output_type": "execute_result"
    }
   ],
   "source": [
    "# Setting up a custom stylesheet in IJulia\n",
    "file = open(\"style.css\") # A .css file in the same folder as this notebook file\n",
    "styl = read(file,String) # Read the file\n",
    "HTML(\"$styl\") # Output as HTML"
   ]
  },
  {
   "cell_type": "markdown",
   "metadata": {},
   "source": [
    "<h1> Simple plots with the Plots package </h1>"
   ]
  },
  {
   "cell_type": "markdown",
   "metadata": {},
   "source": [
    "<h2>In this lecture</h2>\n",
    "\n",
    "- [Outcome](#Outcome)\n",
    "- [Load the Plots package into a current notebook](#Load-the-Plots-package-into-a-current-notebook)\n",
    "- [Activate the GR backend for use with Plots](#Activate-the-GR-backend-for-use-with-Plots)\n",
    "- [Plot a curve from coordinate data](#Plot-a-curve-from-coordinate-data)\n",
    "- [Tweak the current plot](#Tweak-the-current-plot)\n",
    "- [Save the current plot](#Save-the-current-plot)\n"
   ]
  },
  {
   "cell_type": "markdown",
   "metadata": {},
   "source": [
    "[Back to the top](#In-this-lecture)"
   ]
  },
  {
   "cell_type": "markdown",
   "metadata": {},
   "source": [
    "<h2>Outcome</h2>\n",
    "\n",
    "After this lecture, you will be able to\n",
    "- Explain how the Plots package relates to other plotting projects in Julia\n",
    "- Load the Plots package into a current notebook and the GR backend for use with Plots\n",
    "- Plot coordinate data as lines in the default style supplied by Plots\n",
    "- Modify the current plot style: replace lines with markers, add title and labels, remove legend and grid lines\n",
    "- Save the current plot in .png and .pdf format\n",
    "\n",
    "[Back to the top](#In-this-lecture)"
   ]
  },
  {
   "cell_type": "markdown",
   "metadata": {},
   "source": [
    "To start, we load the data that we saved last time (the *converted* data, of course), and we create the x- and y-coordinates of the points we want to plot. Those are of course just columns 1 and 2 of the data.\n",
    "\n",
    "We use array slicing to extract the data we need---note the use of  the ``:`` operator"
   ]
  },
  {
   "cell_type": "code",
   "execution_count": 6,
   "metadata": {},
   "outputs": [
    {
     "data": {
      "text/plain": [
       "54-element Vector{Any}:\n",
       " 28637\n",
       " 28634\n",
       " 28635\n",
       " 28607\n",
       " 28539\n",
       " 28476\n",
       " 28454\n",
       " 28388\n",
       " 28295\n",
       " 28220\n",
       " 28147\n",
       " 28073\n",
       " 27952\n",
       "     ⋮\n",
       "  1835\n",
       "  1437\n",
       "  1201\n",
       "   982\n",
       "   779\n",
       "   528\n",
       "   309\n",
       "   260\n",
       "   239\n",
       "   176\n",
       "   130\n",
       "    49"
      ]
     },
     "execution_count": 6,
     "metadata": {},
     "output_type": "execute_result"
    }
   ],
   "source": [
    "using DelimitedFiles\n",
    "EVDdata = DelimitedFiles.readdlm(\"wikipediaEVDdatesconverted.csv\", ',')  # don't forget the delimiter!\n",
    "epidays = EVDdata[:, 1]  # Here \":\" means all the entries in all rows of the specified columns\n",
    "allcases = EVDdata[:, 2] # ditto---here, the specified columns is just column 2"
   ]
  },
  {
   "cell_type": "markdown",
   "metadata": {},
   "source": [
    "<h2>Load the Plots package into a current notebook</h2>\n",
    "\n",
    "Julia has quite a few projects on visualising scientific and technical data, and  several of them are concerned mainly with making plots. \n",
    "\n",
    "We choose to offer you the Plots package, together with the GR backend.\n",
    "\n",
    "We load Plots with a simple command. This also works from your own home installation, though  you may have to add the Plots package by issuing ``Pkg.add(\"Plots\")``.\n",
    "\n",
    "WARNING: sadly, one pays substantial compilation cost for Plots. This is being worked on, but for now, the first time you load Plots in a notebook, as well the first plot you make, you'll wait as much as a minute or two."
   ]
  },
  {
   "cell_type": "code",
   "execution_count": 12,
   "metadata": {},
   "outputs": [],
   "source": [
    "# using Pkg\n",
    "# Pkg.add(\"Plots\") 在julia里打上这个\n",
    "using Plots   # this loads the Plots package into your current workspace. It may take a few seconds."
   ]
  },
  {
   "cell_type": "markdown",
   "metadata": {},
   "source": [
    "\n",
    "[Back to the top](#In-this-lecture)"
   ]
  },
  {
   "cell_type": "markdown",
   "metadata": {},
   "source": [
    "<h2>Activate the GR backend for use with Plots</h2>"
   ]
  },
  {
   "cell_type": "markdown",
   "metadata": {},
   "source": [
    "As I said above, having loaded Plots we need to specify which backend to use. The idea of Plots is that we specify a plot with *identical code*, irrrespective of backend. To change backends is then just to run the command for the new backend.\n",
    "\n",
    "However, not all backends do the same things, of course, so some things work better in some back-ends and other things in others. For more information, do consult the Plots homepage at https://juliaplots.github.io . The GR examples are at http://docs.juliaplots.org/latest/examples/gr/ .\n",
    "\n",
    "Here's how to specify GR as the backend for  Plots to use:"
   ]
  },
  {
   "cell_type": "code",
   "execution_count": 13,
   "metadata": {},
   "outputs": [
    {
     "data": {
      "text/plain": [
       "Plots.GRBackend()"
      ]
     },
     "execution_count": 13,
     "metadata": {},
     "output_type": "execute_result"
    }
   ],
   "source": [
    "gr()"
   ]
  },
  {
   "cell_type": "markdown",
   "metadata": {},
   "source": [
    "Note that it is enough to use ``gr()``. That is, no arguments are needed. Plots has reasonable default values it uses, but the user can override them. For example, you can  specify a picture size of your own liking."
   ]
  },
  {
   "cell_type": "markdown",
   "metadata": {},
   "source": [
    "[Back to the top](#In-this-lecture)"
   ]
  },
  {
   "cell_type": "markdown",
   "metadata": {},
   "source": [
    "<h2>Plot a curve from coordinate data</h2>\n",
    "\n",
    "For Plots to work as advertised, it must be extremely straightforward to plot the data. And it is:"
   ]
  },
  {
   "cell_type": "code",
   "execution_count": 14,
   "metadata": {},
   "outputs": [
    {
     "data": {
      "image/svg+xml": [
       "<?xml version=\"1.0\" encoding=\"utf-8\"?>\n",
       "<svg xmlns=\"http://www.w3.org/2000/svg\" xmlns:xlink=\"http://www.w3.org/1999/xlink\" width=\"600\" height=\"400\" viewBox=\"0 0 2400 1600\">\n",
       "<defs>\n",
       "  <clipPath id=\"clip550\">\n",
       "    <rect x=\"0\" y=\"0\" width=\"2400\" height=\"1600\"/>\n",
       "  </clipPath>\n",
       "</defs>\n",
       "<path clip-path=\"url(#clip550)\" d=\"\n",
       "M0 1600 L2400 1600 L2400 0 L0 0  Z\n",
       "  \" fill=\"#ffffff\" fill-rule=\"evenodd\" fill-opacity=\"1\"/>\n",
       "<defs>\n",
       "  <clipPath id=\"clip551\">\n",
       "    <rect x=\"480\" y=\"0\" width=\"1681\" height=\"1600\"/>\n",
       "  </clipPath>\n",
       "</defs>\n",
       "<path clip-path=\"url(#clip550)\" d=\"\n",
       "M306.435 1486.45 L2352.76 1486.45 L2352.76 47.2441 L306.435 47.2441  Z\n",
       "  \" fill=\"#ffffff\" fill-rule=\"evenodd\" fill-opacity=\"1\"/>\n",
       "<defs>\n",
       "  <clipPath id=\"clip552\">\n",
       "    <rect x=\"306\" y=\"47\" width=\"2047\" height=\"1440\"/>\n",
       "  </clipPath>\n",
       "</defs>\n",
       "<polyline clip-path=\"url(#clip552)\" style=\"stroke:#000000; stroke-linecap:butt; stroke-linejoin:round; stroke-width:2; stroke-opacity:0.1; fill:none\" points=\"\n",
       "  364.35,1486.45 364.35,47.2441 \n",
       "  \"/>\n",
       "<polyline clip-path=\"url(#clip552)\" style=\"stroke:#000000; stroke-linecap:butt; stroke-linejoin:round; stroke-width:2; stroke-opacity:0.1; fill:none\" points=\"\n",
       "  679.275,1486.45 679.275,47.2441 \n",
       "  \"/>\n",
       "<polyline clip-path=\"url(#clip552)\" style=\"stroke:#000000; stroke-linecap:butt; stroke-linejoin:round; stroke-width:2; stroke-opacity:0.1; fill:none\" points=\"\n",
       "  994.2,1486.45 994.2,47.2441 \n",
       "  \"/>\n",
       "<polyline clip-path=\"url(#clip552)\" style=\"stroke:#000000; stroke-linecap:butt; stroke-linejoin:round; stroke-width:2; stroke-opacity:0.1; fill:none\" points=\"\n",
       "  1309.13,1486.45 1309.13,47.2441 \n",
       "  \"/>\n",
       "<polyline clip-path=\"url(#clip552)\" style=\"stroke:#000000; stroke-linecap:butt; stroke-linejoin:round; stroke-width:2; stroke-opacity:0.1; fill:none\" points=\"\n",
       "  1624.05,1486.45 1624.05,47.2441 \n",
       "  \"/>\n",
       "<polyline clip-path=\"url(#clip552)\" style=\"stroke:#000000; stroke-linecap:butt; stroke-linejoin:round; stroke-width:2; stroke-opacity:0.1; fill:none\" points=\"\n",
       "  1938.98,1486.45 1938.98,47.2441 \n",
       "  \"/>\n",
       "<polyline clip-path=\"url(#clip552)\" style=\"stroke:#000000; stroke-linecap:butt; stroke-linejoin:round; stroke-width:2; stroke-opacity:0.1; fill:none\" points=\"\n",
       "  2253.9,1486.45 2253.9,47.2441 \n",
       "  \"/>\n",
       "<polyline clip-path=\"url(#clip550)\" style=\"stroke:#000000; stroke-linecap:butt; stroke-linejoin:round; stroke-width:4; stroke-opacity:1; fill:none\" points=\"\n",
       "  306.435,1486.45 2352.76,1486.45 \n",
       "  \"/>\n",
       "<polyline clip-path=\"url(#clip550)\" style=\"stroke:#000000; stroke-linecap:butt; stroke-linejoin:round; stroke-width:4; stroke-opacity:1; fill:none\" points=\"\n",
       "  364.35,1486.45 364.35,1467.55 \n",
       "  \"/>\n",
       "<polyline clip-path=\"url(#clip550)\" style=\"stroke:#000000; stroke-linecap:butt; stroke-linejoin:round; stroke-width:4; stroke-opacity:1; fill:none\" points=\"\n",
       "  679.275,1486.45 679.275,1467.55 \n",
       "  \"/>\n",
       "<polyline clip-path=\"url(#clip550)\" style=\"stroke:#000000; stroke-linecap:butt; stroke-linejoin:round; stroke-width:4; stroke-opacity:1; fill:none\" points=\"\n",
       "  994.2,1486.45 994.2,1467.55 \n",
       "  \"/>\n",
       "<polyline clip-path=\"url(#clip550)\" style=\"stroke:#000000; stroke-linecap:butt; stroke-linejoin:round; stroke-width:4; stroke-opacity:1; fill:none\" points=\"\n",
       "  1309.13,1486.45 1309.13,1467.55 \n",
       "  \"/>\n",
       "<polyline clip-path=\"url(#clip550)\" style=\"stroke:#000000; stroke-linecap:butt; stroke-linejoin:round; stroke-width:4; stroke-opacity:1; fill:none\" points=\"\n",
       "  1624.05,1486.45 1624.05,1467.55 \n",
       "  \"/>\n",
       "<polyline clip-path=\"url(#clip550)\" style=\"stroke:#000000; stroke-linecap:butt; stroke-linejoin:round; stroke-width:4; stroke-opacity:1; fill:none\" points=\"\n",
       "  1938.98,1486.45 1938.98,1467.55 \n",
       "  \"/>\n",
       "<polyline clip-path=\"url(#clip550)\" style=\"stroke:#000000; stroke-linecap:butt; stroke-linejoin:round; stroke-width:4; stroke-opacity:1; fill:none\" points=\"\n",
       "  2253.9,1486.45 2253.9,1467.55 \n",
       "  \"/>\n",
       "<path clip-path=\"url(#clip550)\" d=\"M364.35 1515.64 Q360.739 1515.64 358.91 1519.2 Q357.105 1522.75 357.105 1529.87 Q357.105 1536.98 358.91 1540.55 Q360.739 1544.09 364.35 1544.09 Q367.984 1544.09 369.79 1540.55 Q371.619 1536.98 371.619 1529.87 Q371.619 1522.75 369.79 1519.2 Q367.984 1515.64 364.35 1515.64 M364.35 1511.93 Q370.16 1511.93 373.216 1516.54 Q376.295 1521.12 376.295 1529.87 Q376.295 1538.6 373.216 1543.21 Q370.16 1547.79 364.35 1547.79 Q358.54 1547.79 355.461 1543.21 Q352.406 1538.6 352.406 1529.87 Q352.406 1521.12 355.461 1516.54 Q358.54 1511.93 364.35 1511.93 Z\" fill=\"#000000\" fill-rule=\"evenodd\" fill-opacity=\"1\" /><path clip-path=\"url(#clip550)\" d=\"M638.882 1543.18 L646.521 1543.18 L646.521 1516.82 L638.211 1518.49 L638.211 1514.23 L646.475 1512.56 L651.15 1512.56 L651.15 1543.18 L658.789 1543.18 L658.789 1547.12 L638.882 1547.12 L638.882 1543.18 Z\" fill=\"#000000\" fill-rule=\"evenodd\" fill-opacity=\"1\" /><path clip-path=\"url(#clip550)\" d=\"M678.234 1515.64 Q674.623 1515.64 672.794 1519.2 Q670.988 1522.75 670.988 1529.87 Q670.988 1536.98 672.794 1540.55 Q674.623 1544.09 678.234 1544.09 Q681.868 1544.09 683.673 1540.55 Q685.502 1536.98 685.502 1529.87 Q685.502 1522.75 683.673 1519.2 Q681.868 1515.64 678.234 1515.64 M678.234 1511.93 Q684.044 1511.93 687.099 1516.54 Q690.178 1521.12 690.178 1529.87 Q690.178 1538.6 687.099 1543.21 Q684.044 1547.79 678.234 1547.79 Q672.423 1547.79 669.345 1543.21 Q666.289 1538.6 666.289 1529.87 Q666.289 1521.12 669.345 1516.54 Q672.423 1511.93 678.234 1511.93 Z\" fill=\"#000000\" fill-rule=\"evenodd\" fill-opacity=\"1\" /><path clip-path=\"url(#clip550)\" d=\"M708.395 1515.64 Q704.784 1515.64 702.956 1519.2 Q701.15 1522.75 701.15 1529.87 Q701.15 1536.98 702.956 1540.55 Q704.784 1544.09 708.395 1544.09 Q712.03 1544.09 713.835 1540.55 Q715.664 1536.98 715.664 1529.87 Q715.664 1522.75 713.835 1519.2 Q712.03 1515.64 708.395 1515.64 M708.395 1511.93 Q714.206 1511.93 717.261 1516.54 Q720.34 1521.12 720.34 1529.87 Q720.34 1538.6 717.261 1543.21 Q714.206 1547.79 708.395 1547.79 Q702.585 1547.79 699.507 1543.21 Q696.451 1538.6 696.451 1529.87 Q696.451 1521.12 699.507 1516.54 Q702.585 1511.93 708.395 1511.93 Z\" fill=\"#000000\" fill-rule=\"evenodd\" fill-opacity=\"1\" /><path clip-path=\"url(#clip550)\" d=\"M957.893 1543.18 L974.212 1543.18 L974.212 1547.12 L952.268 1547.12 L952.268 1543.18 Q954.93 1540.43 959.513 1535.8 Q964.12 1531.15 965.3 1529.81 Q967.545 1527.28 968.425 1525.55 Q969.328 1523.79 969.328 1522.1 Q969.328 1519.34 967.383 1517.61 Q965.462 1515.87 962.36 1515.87 Q960.161 1515.87 957.708 1516.63 Q955.277 1517.4 952.499 1518.95 L952.499 1514.23 Q955.323 1513.09 957.777 1512.51 Q960.231 1511.93 962.268 1511.93 Q967.638 1511.93 970.832 1514.62 Q974.027 1517.31 974.027 1521.8 Q974.027 1523.93 973.217 1525.85 Q972.43 1527.74 970.323 1530.34 Q969.744 1531.01 966.643 1534.23 Q963.541 1537.42 957.893 1543.18 Z\" fill=\"#000000\" fill-rule=\"evenodd\" fill-opacity=\"1\" /><path clip-path=\"url(#clip550)\" d=\"M994.027 1515.64 Q990.416 1515.64 988.587 1519.2 Q986.781 1522.75 986.781 1529.87 Q986.781 1536.98 988.587 1540.55 Q990.416 1544.09 994.027 1544.09 Q997.661 1544.09 999.467 1540.55 Q1001.3 1536.98 1001.3 1529.87 Q1001.3 1522.75 999.467 1519.2 Q997.661 1515.64 994.027 1515.64 M994.027 1511.93 Q999.837 1511.93 1002.89 1516.54 Q1005.97 1521.12 1005.97 1529.87 Q1005.97 1538.6 1002.89 1543.21 Q999.837 1547.79 994.027 1547.79 Q988.217 1547.79 985.138 1543.21 Q982.082 1538.6 982.082 1529.87 Q982.082 1521.12 985.138 1516.54 Q988.217 1511.93 994.027 1511.93 Z\" fill=\"#000000\" fill-rule=\"evenodd\" fill-opacity=\"1\" /><path clip-path=\"url(#clip550)\" d=\"M1024.19 1515.64 Q1020.58 1515.64 1018.75 1519.2 Q1016.94 1522.75 1016.94 1529.87 Q1016.94 1536.98 1018.75 1540.55 Q1020.58 1544.09 1024.19 1544.09 Q1027.82 1544.09 1029.63 1540.55 Q1031.46 1536.98 1031.46 1529.87 Q1031.46 1522.75 1029.63 1519.2 Q1027.82 1515.64 1024.19 1515.64 M1024.19 1511.93 Q1030 1511.93 1033.05 1516.54 Q1036.13 1521.12 1036.13 1529.87 Q1036.13 1538.6 1033.05 1543.21 Q1030 1547.79 1024.19 1547.79 Q1018.38 1547.79 1015.3 1543.21 Q1012.24 1538.6 1012.24 1529.87 Q1012.24 1521.12 1015.3 1516.54 Q1018.38 1511.93 1024.19 1511.93 Z\" fill=\"#000000\" fill-rule=\"evenodd\" fill-opacity=\"1\" /><path clip-path=\"url(#clip550)\" d=\"M1282.89 1528.49 Q1286.24 1529.2 1288.12 1531.47 Q1290.02 1533.74 1290.02 1537.07 Q1290.02 1542.19 1286.5 1544.99 Q1282.98 1547.79 1276.5 1547.79 Q1274.32 1547.79 1272.01 1547.35 Q1269.72 1546.93 1267.26 1546.08 L1267.26 1541.56 Q1269.21 1542.7 1271.52 1543.28 Q1273.84 1543.86 1276.36 1543.86 Q1280.76 1543.86 1283.05 1542.12 Q1285.36 1540.38 1285.36 1537.07 Q1285.36 1534.02 1283.21 1532.31 Q1281.08 1530.57 1277.26 1530.57 L1273.23 1530.57 L1273.23 1526.73 L1277.45 1526.73 Q1280.9 1526.73 1282.73 1525.36 Q1284.55 1523.97 1284.55 1521.38 Q1284.55 1518.72 1282.66 1517.31 Q1280.78 1515.87 1277.26 1515.87 Q1275.34 1515.87 1273.14 1516.29 Q1270.94 1516.7 1268.3 1517.58 L1268.3 1513.42 Q1270.97 1512.68 1273.28 1512.31 Q1275.62 1511.93 1277.68 1511.93 Q1283 1511.93 1286.1 1514.37 Q1289.21 1516.77 1289.21 1520.89 Q1289.21 1523.76 1287.56 1525.75 Q1285.92 1527.72 1282.89 1528.49 Z\" fill=\"#000000\" fill-rule=\"evenodd\" fill-opacity=\"1\" /><path clip-path=\"url(#clip550)\" d=\"M1308.88 1515.64 Q1305.27 1515.64 1303.44 1519.2 Q1301.64 1522.75 1301.64 1529.87 Q1301.64 1536.98 1303.44 1540.55 Q1305.27 1544.09 1308.88 1544.09 Q1312.52 1544.09 1314.32 1540.55 Q1316.15 1536.98 1316.15 1529.87 Q1316.15 1522.75 1314.32 1519.2 Q1312.52 1515.64 1308.88 1515.64 M1308.88 1511.93 Q1314.69 1511.93 1317.75 1516.54 Q1320.83 1521.12 1320.83 1529.87 Q1320.83 1538.6 1317.75 1543.21 Q1314.69 1547.79 1308.88 1547.79 Q1303.07 1547.79 1299.99 1543.21 Q1296.94 1538.6 1296.94 1529.87 Q1296.94 1521.12 1299.99 1516.54 Q1303.07 1511.93 1308.88 1511.93 Z\" fill=\"#000000\" fill-rule=\"evenodd\" fill-opacity=\"1\" /><path clip-path=\"url(#clip550)\" d=\"M1339.04 1515.64 Q1335.43 1515.64 1333.6 1519.2 Q1331.8 1522.75 1331.8 1529.87 Q1331.8 1536.98 1333.6 1540.55 Q1335.43 1544.09 1339.04 1544.09 Q1342.68 1544.09 1344.48 1540.55 Q1346.31 1536.98 1346.31 1529.87 Q1346.31 1522.75 1344.48 1519.2 Q1342.68 1515.64 1339.04 1515.64 M1339.04 1511.93 Q1344.85 1511.93 1347.91 1516.54 Q1350.99 1521.12 1350.99 1529.87 Q1350.99 1538.6 1347.91 1543.21 Q1344.85 1547.79 1339.04 1547.79 Q1333.23 1547.79 1330.16 1543.21 Q1327.1 1538.6 1327.1 1529.87 Q1327.1 1521.12 1330.16 1516.54 Q1333.23 1511.93 1339.04 1511.93 Z\" fill=\"#000000\" fill-rule=\"evenodd\" fill-opacity=\"1\" /><path clip-path=\"url(#clip550)\" d=\"M1597.14 1516.63 L1585.34 1535.08 L1597.14 1535.08 L1597.14 1516.63 M1595.91 1512.56 L1601.79 1512.56 L1601.79 1535.08 L1606.72 1535.08 L1606.72 1538.97 L1601.79 1538.97 L1601.79 1547.12 L1597.14 1547.12 L1597.14 1538.97 L1581.54 1538.97 L1581.54 1534.46 L1595.91 1512.56 Z\" fill=\"#000000\" fill-rule=\"evenodd\" fill-opacity=\"1\" /><path clip-path=\"url(#clip550)\" d=\"M1624.46 1515.64 Q1620.84 1515.64 1619.02 1519.2 Q1617.21 1522.75 1617.21 1529.87 Q1617.21 1536.98 1619.02 1540.55 Q1620.84 1544.09 1624.46 1544.09 Q1628.09 1544.09 1629.9 1540.55 Q1631.72 1536.98 1631.72 1529.87 Q1631.72 1522.75 1629.9 1519.2 Q1628.09 1515.64 1624.46 1515.64 M1624.46 1511.93 Q1630.27 1511.93 1633.32 1516.54 Q1636.4 1521.12 1636.4 1529.87 Q1636.4 1538.6 1633.32 1543.21 Q1630.27 1547.79 1624.46 1547.79 Q1618.65 1547.79 1615.57 1543.21 Q1612.51 1538.6 1612.51 1529.87 Q1612.51 1521.12 1615.57 1516.54 Q1618.65 1511.93 1624.46 1511.93 Z\" fill=\"#000000\" fill-rule=\"evenodd\" fill-opacity=\"1\" /><path clip-path=\"url(#clip550)\" d=\"M1654.62 1515.64 Q1651.01 1515.64 1649.18 1519.2 Q1647.37 1522.75 1647.37 1529.87 Q1647.37 1536.98 1649.18 1540.55 Q1651.01 1544.09 1654.62 1544.09 Q1658.25 1544.09 1660.06 1540.55 Q1661.89 1536.98 1661.89 1529.87 Q1661.89 1522.75 1660.06 1519.2 Q1658.25 1515.64 1654.62 1515.64 M1654.62 1511.93 Q1660.43 1511.93 1663.48 1516.54 Q1666.56 1521.12 1666.56 1529.87 Q1666.56 1538.6 1663.48 1543.21 Q1660.43 1547.79 1654.62 1547.79 Q1648.81 1547.79 1645.73 1543.21 Q1642.67 1538.6 1642.67 1529.87 Q1642.67 1521.12 1645.73 1516.54 Q1648.81 1511.93 1654.62 1511.93 Z\" fill=\"#000000\" fill-rule=\"evenodd\" fill-opacity=\"1\" /><path clip-path=\"url(#clip550)\" d=\"M1898.59 1512.56 L1916.95 1512.56 L1916.95 1516.5 L1902.88 1516.5 L1902.88 1524.97 Q1903.89 1524.62 1904.91 1524.46 Q1905.93 1524.27 1906.95 1524.27 Q1912.74 1524.27 1916.12 1527.44 Q1919.5 1530.62 1919.5 1536.03 Q1919.5 1541.61 1916.02 1544.71 Q1912.55 1547.79 1906.23 1547.79 Q1904.06 1547.79 1901.79 1547.42 Q1899.54 1547.05 1897.14 1546.31 L1897.14 1541.61 Q1899.22 1542.74 1901.44 1543.3 Q1903.66 1543.86 1906.14 1543.86 Q1910.14 1543.86 1912.48 1541.75 Q1914.82 1539.64 1914.82 1536.03 Q1914.82 1532.42 1912.48 1530.31 Q1910.14 1528.21 1906.14 1528.21 Q1904.27 1528.21 1902.39 1528.62 Q1900.54 1529.04 1898.59 1529.92 L1898.59 1512.56 Z\" fill=\"#000000\" fill-rule=\"evenodd\" fill-opacity=\"1\" /><path clip-path=\"url(#clip550)\" d=\"M1938.71 1515.64 Q1935.1 1515.64 1933.27 1519.2 Q1931.46 1522.75 1931.46 1529.87 Q1931.46 1536.98 1933.27 1540.55 Q1935.1 1544.09 1938.71 1544.09 Q1942.34 1544.09 1944.15 1540.55 Q1945.98 1536.98 1945.98 1529.87 Q1945.98 1522.75 1944.15 1519.2 Q1942.34 1515.64 1938.71 1515.64 M1938.71 1511.93 Q1944.52 1511.93 1947.58 1516.54 Q1950.65 1521.12 1950.65 1529.87 Q1950.65 1538.6 1947.58 1543.21 Q1944.52 1547.79 1938.71 1547.79 Q1932.9 1547.79 1929.82 1543.21 Q1926.77 1538.6 1926.77 1529.87 Q1926.77 1521.12 1929.82 1516.54 Q1932.9 1511.93 1938.71 1511.93 Z\" fill=\"#000000\" fill-rule=\"evenodd\" fill-opacity=\"1\" /><path clip-path=\"url(#clip550)\" d=\"M1968.87 1515.64 Q1965.26 1515.64 1963.43 1519.2 Q1961.63 1522.75 1961.63 1529.87 Q1961.63 1536.98 1963.43 1540.55 Q1965.26 1544.09 1968.87 1544.09 Q1972.51 1544.09 1974.31 1540.55 Q1976.14 1536.98 1976.14 1529.87 Q1976.14 1522.75 1974.31 1519.2 Q1972.51 1515.64 1968.87 1515.64 M1968.87 1511.93 Q1974.68 1511.93 1977.74 1516.54 Q1980.82 1521.12 1980.82 1529.87 Q1980.82 1538.6 1977.74 1543.21 Q1974.68 1547.79 1968.87 1547.79 Q1963.06 1547.79 1959.98 1543.21 Q1956.93 1538.6 1956.93 1529.87 Q1956.93 1521.12 1959.98 1516.54 Q1963.06 1511.93 1968.87 1511.93 Z\" fill=\"#000000\" fill-rule=\"evenodd\" fill-opacity=\"1\" /><path clip-path=\"url(#clip550)\" d=\"M2224.23 1527.98 Q2221.08 1527.98 2219.23 1530.13 Q2217.4 1532.28 2217.4 1536.03 Q2217.4 1539.76 2219.23 1541.93 Q2221.08 1544.09 2224.23 1544.09 Q2227.37 1544.09 2229.2 1541.93 Q2231.05 1539.76 2231.05 1536.03 Q2231.05 1532.28 2229.2 1530.13 Q2227.37 1527.98 2224.23 1527.98 M2233.51 1513.32 L2233.51 1517.58 Q2231.75 1516.75 2229.94 1516.31 Q2228.16 1515.87 2226.4 1515.87 Q2221.77 1515.87 2219.32 1519 Q2216.89 1522.12 2216.54 1528.44 Q2217.91 1526.43 2219.97 1525.36 Q2222.03 1524.27 2224.5 1524.27 Q2229.71 1524.27 2232.72 1527.44 Q2235.75 1530.59 2235.75 1536.03 Q2235.75 1541.36 2232.6 1544.57 Q2229.46 1547.79 2224.23 1547.79 Q2218.23 1547.79 2215.06 1543.21 Q2211.89 1538.6 2211.89 1529.87 Q2211.89 1521.68 2215.78 1516.82 Q2219.66 1511.93 2226.22 1511.93 Q2227.98 1511.93 2229.76 1512.28 Q2231.56 1512.63 2233.51 1513.32 Z\" fill=\"#000000\" fill-rule=\"evenodd\" fill-opacity=\"1\" /><path clip-path=\"url(#clip550)\" d=\"M2253.81 1515.64 Q2250.2 1515.64 2248.37 1519.2 Q2246.56 1522.75 2246.56 1529.87 Q2246.56 1536.98 2248.37 1540.55 Q2250.2 1544.09 2253.81 1544.09 Q2257.44 1544.09 2259.25 1540.55 Q2261.08 1536.98 2261.08 1529.87 Q2261.08 1522.75 2259.25 1519.2 Q2257.44 1515.64 2253.81 1515.64 M2253.81 1511.93 Q2259.62 1511.93 2262.67 1516.54 Q2265.75 1521.12 2265.75 1529.87 Q2265.75 1538.6 2262.67 1543.21 Q2259.62 1547.79 2253.81 1547.79 Q2248 1547.79 2244.92 1543.21 Q2241.86 1538.6 2241.86 1529.87 Q2241.86 1521.12 2244.92 1516.54 Q2248 1511.93 2253.81 1511.93 Z\" fill=\"#000000\" fill-rule=\"evenodd\" fill-opacity=\"1\" /><path clip-path=\"url(#clip550)\" d=\"M2283.97 1515.64 Q2280.36 1515.64 2278.53 1519.2 Q2276.72 1522.75 2276.72 1529.87 Q2276.72 1536.98 2278.53 1540.55 Q2280.36 1544.09 2283.97 1544.09 Q2287.6 1544.09 2289.41 1540.55 Q2291.24 1536.98 2291.24 1529.87 Q2291.24 1522.75 2289.41 1519.2 Q2287.6 1515.64 2283.97 1515.64 M2283.97 1511.93 Q2289.78 1511.93 2292.84 1516.54 Q2295.91 1521.12 2295.91 1529.87 Q2295.91 1538.6 2292.84 1543.21 Q2289.78 1547.79 2283.97 1547.79 Q2278.16 1547.79 2275.08 1543.21 Q2272.03 1538.6 2272.03 1529.87 Q2272.03 1521.12 2275.08 1516.54 Q2278.16 1511.93 2283.97 1511.93 Z\" fill=\"#000000\" fill-rule=\"evenodd\" fill-opacity=\"1\" /><polyline clip-path=\"url(#clip552)\" style=\"stroke:#000000; stroke-linecap:butt; stroke-linejoin:round; stroke-width:2; stroke-opacity:0.1; fill:none\" points=\"\n",
       "  306.435,1448.04 2352.76,1448.04 \n",
       "  \"/>\n",
       "<polyline clip-path=\"url(#clip552)\" style=\"stroke:#000000; stroke-linecap:butt; stroke-linejoin:round; stroke-width:2; stroke-opacity:0.1; fill:none\" points=\"\n",
       "  306.435,1210.58 2352.76,1210.58 \n",
       "  \"/>\n",
       "<polyline clip-path=\"url(#clip552)\" style=\"stroke:#000000; stroke-linecap:butt; stroke-linejoin:round; stroke-width:2; stroke-opacity:0.1; fill:none\" points=\"\n",
       "  306.435,973.11 2352.76,973.11 \n",
       "  \"/>\n",
       "<polyline clip-path=\"url(#clip552)\" style=\"stroke:#000000; stroke-linecap:butt; stroke-linejoin:round; stroke-width:2; stroke-opacity:0.1; fill:none\" points=\"\n",
       "  306.435,735.643 2352.76,735.643 \n",
       "  \"/>\n",
       "<polyline clip-path=\"url(#clip552)\" style=\"stroke:#000000; stroke-linecap:butt; stroke-linejoin:round; stroke-width:2; stroke-opacity:0.1; fill:none\" points=\"\n",
       "  306.435,498.176 2352.76,498.176 \n",
       "  \"/>\n",
       "<polyline clip-path=\"url(#clip552)\" style=\"stroke:#000000; stroke-linecap:butt; stroke-linejoin:round; stroke-width:2; stroke-opacity:0.1; fill:none\" points=\"\n",
       "  306.435,260.71 2352.76,260.71 \n",
       "  \"/>\n",
       "<polyline clip-path=\"url(#clip550)\" style=\"stroke:#000000; stroke-linecap:butt; stroke-linejoin:round; stroke-width:4; stroke-opacity:1; fill:none\" points=\"\n",
       "  306.435,1486.45 306.435,47.2441 \n",
       "  \"/>\n",
       "<polyline clip-path=\"url(#clip550)\" style=\"stroke:#000000; stroke-linecap:butt; stroke-linejoin:round; stroke-width:4; stroke-opacity:1; fill:none\" points=\"\n",
       "  306.435,1448.04 325.333,1448.04 \n",
       "  \"/>\n",
       "<polyline clip-path=\"url(#clip550)\" style=\"stroke:#000000; stroke-linecap:butt; stroke-linejoin:round; stroke-width:4; stroke-opacity:1; fill:none\" points=\"\n",
       "  306.435,1210.58 325.333,1210.58 \n",
       "  \"/>\n",
       "<polyline clip-path=\"url(#clip550)\" style=\"stroke:#000000; stroke-linecap:butt; stroke-linejoin:round; stroke-width:4; stroke-opacity:1; fill:none\" points=\"\n",
       "  306.435,973.11 325.333,973.11 \n",
       "  \"/>\n",
       "<polyline clip-path=\"url(#clip550)\" style=\"stroke:#000000; stroke-linecap:butt; stroke-linejoin:round; stroke-width:4; stroke-opacity:1; fill:none\" points=\"\n",
       "  306.435,735.643 325.333,735.643 \n",
       "  \"/>\n",
       "<polyline clip-path=\"url(#clip550)\" style=\"stroke:#000000; stroke-linecap:butt; stroke-linejoin:round; stroke-width:4; stroke-opacity:1; fill:none\" points=\"\n",
       "  306.435,498.176 325.333,498.176 \n",
       "  \"/>\n",
       "<polyline clip-path=\"url(#clip550)\" style=\"stroke:#000000; stroke-linecap:butt; stroke-linejoin:round; stroke-width:4; stroke-opacity:1; fill:none\" points=\"\n",
       "  306.435,260.71 325.333,260.71 \n",
       "  \"/>\n",
       "<path clip-path=\"url(#clip550)\" d=\"M258.491 1433.84 Q254.88 1433.84 253.051 1437.41 Q251.246 1440.95 251.246 1448.08 Q251.246 1455.18 253.051 1458.75 Q254.88 1462.29 258.491 1462.29 Q262.125 1462.29 263.931 1458.75 Q265.759 1455.18 265.759 1448.08 Q265.759 1440.95 263.931 1437.41 Q262.125 1433.84 258.491 1433.84 M258.491 1430.14 Q264.301 1430.14 267.357 1434.74 Q270.435 1439.33 270.435 1448.08 Q270.435 1456.8 267.357 1461.41 Q264.301 1465.99 258.491 1465.99 Q252.681 1465.99 249.602 1461.41 Q246.547 1456.8 246.547 1448.08 Q246.547 1439.33 249.602 1434.74 Q252.681 1430.14 258.491 1430.14 Z\" fill=\"#000000\" fill-rule=\"evenodd\" fill-opacity=\"1\" /><path clip-path=\"url(#clip550)\" d=\"M54.6105 1199.74 L72.9668 1199.74 L72.9668 1203.68 L58.8928 1203.68 L58.8928 1212.15 Q59.9113 1211.8 60.9299 1211.64 Q61.9484 1211.46 62.9669 1211.46 Q68.7539 1211.46 72.1335 1214.63 Q75.5131 1217.8 75.5131 1223.22 Q75.5131 1228.79 72.0409 1231.9 Q68.5687 1234.98 62.2493 1234.98 Q60.0734 1234.98 57.8049 1234.6 Q55.5595 1234.23 53.1521 1233.49 L53.1521 1228.79 Q55.2354 1229.93 57.4577 1230.48 Q59.6799 1231.04 62.1567 1231.04 Q66.1613 1231.04 68.4993 1228.93 Q70.8372 1226.83 70.8372 1223.22 Q70.8372 1219.6 68.4993 1217.5 Q66.1613 1215.39 62.1567 1215.39 Q60.2817 1215.39 58.4067 1215.81 Q56.5549 1216.23 54.6105 1217.1 L54.6105 1199.74 Z\" fill=\"#000000\" fill-rule=\"evenodd\" fill-opacity=\"1\" /><path clip-path=\"url(#clip550)\" d=\"M84.726 1228.42 L89.6103 1228.42 L89.6103 1234.3 L84.726 1234.3 L84.726 1228.42 Z\" fill=\"#000000\" fill-rule=\"evenodd\" fill-opacity=\"1\" /><path clip-path=\"url(#clip550)\" d=\"M109.795 1202.82 Q106.184 1202.82 104.356 1206.39 Q102.55 1209.93 102.55 1217.06 Q102.55 1224.16 104.356 1227.73 Q106.184 1231.27 109.795 1231.27 Q113.43 1231.27 115.235 1227.73 Q117.064 1224.16 117.064 1217.06 Q117.064 1209.93 115.235 1206.39 Q113.43 1202.82 109.795 1202.82 M109.795 1199.12 Q115.605 1199.12 118.661 1203.73 Q121.74 1208.31 121.74 1217.06 Q121.74 1225.79 118.661 1230.39 Q115.605 1234.98 109.795 1234.98 Q103.985 1234.98 100.906 1230.39 Q97.851 1225.79 97.851 1217.06 Q97.851 1208.31 100.906 1203.73 Q103.985 1199.12 109.795 1199.12 Z\" fill=\"#000000\" fill-rule=\"evenodd\" fill-opacity=\"1\" /><path clip-path=\"url(#clip550)\" d=\"M139.957 1202.82 Q136.346 1202.82 134.517 1206.39 Q132.712 1209.93 132.712 1217.06 Q132.712 1224.16 134.517 1227.73 Q136.346 1231.27 139.957 1231.27 Q143.591 1231.27 145.397 1227.73 Q147.226 1224.16 147.226 1217.06 Q147.226 1209.93 145.397 1206.39 Q143.591 1202.82 139.957 1202.82 M139.957 1199.12 Q145.767 1199.12 148.823 1203.73 Q151.902 1208.31 151.902 1217.06 Q151.902 1225.79 148.823 1230.39 Q145.767 1234.98 139.957 1234.98 Q134.147 1234.98 131.068 1230.39 Q128.013 1225.79 128.013 1217.06 Q128.013 1208.31 131.068 1203.73 Q134.147 1199.12 139.957 1199.12 Z\" fill=\"#000000\" fill-rule=\"evenodd\" fill-opacity=\"1\" /><path clip-path=\"url(#clip550)\" d=\"M188.29 1208.84 L177.712 1219.47 L188.29 1230.04 L185.536 1232.85 L174.911 1222.22 L164.286 1232.85 L161.554 1230.04 L172.11 1219.47 L161.554 1208.84 L164.286 1206.04 L174.911 1216.67 L185.536 1206.04 L188.29 1208.84 Z\" fill=\"#000000\" fill-rule=\"evenodd\" fill-opacity=\"1\" /><path clip-path=\"url(#clip550)\" d=\"M200.651 1230.37 L208.29 1230.37 L208.29 1204 L199.98 1205.67 L199.98 1201.41 L208.244 1199.74 L212.92 1199.74 L212.92 1230.37 L220.559 1230.37 L220.559 1234.3 L200.651 1234.3 L200.651 1230.37 Z\" fill=\"#000000\" fill-rule=\"evenodd\" fill-opacity=\"1\" /><path clip-path=\"url(#clip550)\" d=\"M240.003 1202.82 Q236.392 1202.82 234.563 1206.39 Q232.758 1209.93 232.758 1217.06 Q232.758 1224.16 234.563 1227.73 Q236.392 1231.27 240.003 1231.27 Q243.637 1231.27 245.443 1227.73 Q247.271 1224.16 247.271 1217.06 Q247.271 1209.93 245.443 1206.39 Q243.637 1202.82 240.003 1202.82 M240.003 1199.12 Q245.813 1199.12 248.869 1203.73 Q251.947 1208.31 251.947 1217.06 Q251.947 1225.79 248.869 1230.39 Q245.813 1234.98 240.003 1234.98 Q234.193 1234.98 231.114 1230.39 Q228.059 1225.79 228.059 1217.06 Q228.059 1208.31 231.114 1203.73 Q234.193 1199.12 240.003 1199.12 Z\" fill=\"#000000\" fill-rule=\"evenodd\" fill-opacity=\"1\" /><path clip-path=\"url(#clip550)\" d=\"M264.643 1191.75 Q267.37 1192.34 268.893 1194.18 Q270.435 1196.02 270.435 1198.73 Q270.435 1202.89 267.577 1205.16 Q264.718 1207.44 259.452 1207.44 Q257.684 1207.44 255.803 1207.08 Q253.941 1206.74 251.947 1206.05 L251.947 1202.38 Q253.527 1203.3 255.408 1203.77 Q257.289 1204.24 259.339 1204.24 Q262.912 1204.24 264.774 1202.83 Q266.655 1201.42 266.655 1198.73 Q266.655 1196.25 264.906 1194.86 Q263.176 1193.45 260.072 1193.45 L256.8 1193.45 L256.8 1190.32 L260.223 1190.32 Q263.025 1190.32 264.511 1189.21 Q265.997 1188.09 265.997 1185.98 Q265.997 1183.82 264.455 1182.67 Q262.931 1181.5 260.072 1181.5 Q258.511 1181.5 256.725 1181.84 Q254.938 1182.18 252.794 1182.89 L252.794 1179.51 Q254.957 1178.91 256.837 1178.61 Q258.737 1178.31 260.411 1178.31 Q264.737 1178.31 267.257 1180.28 Q269.777 1182.24 269.777 1185.58 Q269.777 1187.92 268.442 1189.53 Q267.106 1191.13 264.643 1191.75 Z\" fill=\"#000000\" fill-rule=\"evenodd\" fill-opacity=\"1\" /><path clip-path=\"url(#clip550)\" d=\"M53.3995 992.902 L61.0384 992.902 L61.0384 966.536 L52.7282 968.203 L52.7282 963.944 L60.9921 962.277 L65.668 962.277 L65.668 992.902 L73.3068 992.902 L73.3068 996.837 L53.3995 996.837 L53.3995 992.902 Z\" fill=\"#000000\" fill-rule=\"evenodd\" fill-opacity=\"1\" /><path clip-path=\"url(#clip550)\" d=\"M82.7512 990.958 L87.6354 990.958 L87.6354 996.837 L82.7512 996.837 L82.7512 990.958 Z\" fill=\"#000000\" fill-rule=\"evenodd\" fill-opacity=\"1\" /><path clip-path=\"url(#clip550)\" d=\"M107.821 965.356 Q104.209 965.356 102.381 968.921 Q100.575 972.462 100.575 979.592 Q100.575 986.698 102.381 990.263 Q104.209 993.805 107.821 993.805 Q111.455 993.805 113.26 990.263 Q115.089 986.698 115.089 979.592 Q115.089 972.462 113.26 968.921 Q111.455 965.356 107.821 965.356 M107.821 961.652 Q113.631 961.652 116.686 966.259 Q119.765 970.842 119.765 979.592 Q119.765 988.319 116.686 992.925 Q113.631 997.508 107.821 997.508 Q102.01 997.508 98.9317 992.925 Q95.8761 988.319 95.8761 979.592 Q95.8761 970.842 98.9317 966.259 Q102.01 961.652 107.821 961.652 Z\" fill=\"#000000\" fill-rule=\"evenodd\" fill-opacity=\"1\" /><path clip-path=\"url(#clip550)\" d=\"M137.982 965.356 Q134.371 965.356 132.543 968.921 Q130.737 972.462 130.737 979.592 Q130.737 986.698 132.543 990.263 Q134.371 993.805 137.982 993.805 Q141.617 993.805 143.422 990.263 Q145.251 986.698 145.251 979.592 Q145.251 972.462 143.422 968.921 Q141.617 965.356 137.982 965.356 M137.982 961.652 Q143.793 961.652 146.848 966.259 Q149.927 970.842 149.927 979.592 Q149.927 988.319 146.848 992.925 Q143.793 997.508 137.982 997.508 Q132.172 997.508 129.094 992.925 Q126.038 988.319 126.038 979.592 Q126.038 970.842 129.094 966.259 Q132.172 961.652 137.982 961.652 Z\" fill=\"#000000\" fill-rule=\"evenodd\" fill-opacity=\"1\" /><path clip-path=\"url(#clip550)\" d=\"M186.315 971.374 L175.737 981.999 L186.315 992.578 L183.561 995.379 L172.936 984.754 L162.311 995.379 L159.58 992.578 L170.135 981.999 L159.58 971.374 L162.311 968.573 L172.936 979.198 L183.561 968.573 L186.315 971.374 Z\" fill=\"#000000\" fill-rule=\"evenodd\" fill-opacity=\"1\" /><path clip-path=\"url(#clip550)\" d=\"M198.677 992.902 L206.315 992.902 L206.315 966.536 L198.005 968.203 L198.005 963.944 L206.269 962.277 L210.945 962.277 L210.945 992.902 L218.584 992.902 L218.584 996.837 L198.677 996.837 L198.677 992.902 Z\" fill=\"#000000\" fill-rule=\"evenodd\" fill-opacity=\"1\" /><path clip-path=\"url(#clip550)\" d=\"M238.028 965.356 Q234.417 965.356 232.588 968.921 Q230.783 972.462 230.783 979.592 Q230.783 986.698 232.588 990.263 Q234.417 993.805 238.028 993.805 Q241.662 993.805 243.468 990.263 Q245.297 986.698 245.297 979.592 Q245.297 972.462 243.468 968.921 Q241.662 965.356 238.028 965.356 M238.028 961.652 Q243.838 961.652 246.894 966.259 Q249.973 970.842 249.973 979.592 Q249.973 988.319 246.894 992.925 Q243.838 997.508 238.028 997.508 Q232.218 997.508 229.139 992.925 Q226.084 988.319 226.084 979.592 Q226.084 970.842 229.139 966.259 Q232.218 961.652 238.028 961.652 Z\" fill=\"#000000\" fill-rule=\"evenodd\" fill-opacity=\"1\" /><path clip-path=\"url(#clip550)\" d=\"M262.649 944.657 L253.057 959.647 L262.649 959.647 L262.649 944.657 M261.652 941.347 L266.429 941.347 L266.429 959.647 L270.435 959.647 L270.435 962.806 L266.429 962.806 L266.429 969.427 L262.649 969.427 L262.649 962.806 L249.973 962.806 L249.973 959.139 L261.652 941.347 Z\" fill=\"#000000\" fill-rule=\"evenodd\" fill-opacity=\"1\" /><path clip-path=\"url(#clip550)\" d=\"M53.3995 755.435 L61.0384 755.435 L61.0384 729.07 L52.7282 730.736 L52.7282 726.477 L60.9921 724.81 L65.668 724.81 L65.668 755.435 L73.3068 755.435 L73.3068 759.37 L53.3995 759.37 L53.3995 755.435 Z\" fill=\"#000000\" fill-rule=\"evenodd\" fill-opacity=\"1\" /><path clip-path=\"url(#clip550)\" d=\"M82.7512 753.491 L87.6354 753.491 L87.6354 759.37 L82.7512 759.37 L82.7512 753.491 Z\" fill=\"#000000\" fill-rule=\"evenodd\" fill-opacity=\"1\" /><path clip-path=\"url(#clip550)\" d=\"M97.8669 724.81 L116.223 724.81 L116.223 728.746 L102.149 728.746 L102.149 737.218 Q103.168 736.871 104.186 736.709 Q105.205 736.523 106.223 736.523 Q112.01 736.523 115.39 739.695 Q118.77 742.866 118.77 748.283 Q118.77 753.861 115.297 756.963 Q111.825 760.042 105.506 760.042 Q103.33 760.042 101.061 759.671 Q98.8159 759.301 96.4085 758.56 L96.4085 753.861 Q98.4919 754.995 100.714 755.551 Q102.936 756.107 105.413 756.107 Q109.418 756.107 111.756 754 Q114.094 751.894 114.094 748.283 Q114.094 744.671 111.756 742.565 Q109.418 740.459 105.413 740.459 Q103.538 740.459 101.663 740.875 Q99.8113 741.292 97.8669 742.171 L97.8669 724.81 Z\" fill=\"#000000\" fill-rule=\"evenodd\" fill-opacity=\"1\" /><path clip-path=\"url(#clip550)\" d=\"M137.982 727.889 Q134.371 727.889 132.543 731.454 Q130.737 734.996 130.737 742.125 Q130.737 749.232 132.543 752.796 Q134.371 756.338 137.982 756.338 Q141.617 756.338 143.422 752.796 Q145.251 749.232 145.251 742.125 Q145.251 734.996 143.422 731.454 Q141.617 727.889 137.982 727.889 M137.982 724.185 Q143.793 724.185 146.848 728.792 Q149.927 733.375 149.927 742.125 Q149.927 750.852 146.848 755.458 Q143.793 760.042 137.982 760.042 Q132.172 760.042 129.094 755.458 Q126.038 750.852 126.038 742.125 Q126.038 733.375 129.094 728.792 Q132.172 724.185 137.982 724.185 Z\" fill=\"#000000\" fill-rule=\"evenodd\" fill-opacity=\"1\" /><path clip-path=\"url(#clip550)\" d=\"M186.315 733.908 L175.737 744.533 L186.315 755.111 L183.561 757.912 L172.936 747.287 L162.311 757.912 L159.58 755.111 L170.135 744.533 L159.58 733.908 L162.311 731.107 L172.936 741.732 L183.561 731.107 L186.315 733.908 Z\" fill=\"#000000\" fill-rule=\"evenodd\" fill-opacity=\"1\" /><path clip-path=\"url(#clip550)\" d=\"M198.677 755.435 L206.315 755.435 L206.315 729.07 L198.005 730.736 L198.005 726.477 L206.269 724.81 L210.945 724.81 L210.945 755.435 L218.584 755.435 L218.584 759.37 L198.677 759.37 L198.677 755.435 Z\" fill=\"#000000\" fill-rule=\"evenodd\" fill-opacity=\"1\" /><path clip-path=\"url(#clip550)\" d=\"M238.028 727.889 Q234.417 727.889 232.588 731.454 Q230.783 734.996 230.783 742.125 Q230.783 749.232 232.588 752.796 Q234.417 756.338 238.028 756.338 Q241.662 756.338 243.468 752.796 Q245.297 749.232 245.297 742.125 Q245.297 734.996 243.468 731.454 Q241.662 727.889 238.028 727.889 M238.028 724.185 Q243.838 724.185 246.894 728.792 Q249.973 733.375 249.973 742.125 Q249.973 750.852 246.894 755.458 Q243.838 760.042 238.028 760.042 Q232.218 760.042 229.139 755.458 Q226.084 750.852 226.084 742.125 Q226.084 733.375 229.139 728.792 Q232.218 724.185 238.028 724.185 Z\" fill=\"#000000\" fill-rule=\"evenodd\" fill-opacity=\"1\" /><path clip-path=\"url(#clip550)\" d=\"M262.649 707.19 L253.057 722.18 L262.649 722.18 L262.649 707.19 M261.652 703.88 L266.429 703.88 L266.429 722.18 L270.435 722.18 L270.435 725.34 L266.429 725.34 L266.429 731.96 L262.649 731.96 L262.649 725.34 L249.973 725.34 L249.973 721.672 L261.652 703.88 Z\" fill=\"#000000\" fill-rule=\"evenodd\" fill-opacity=\"1\" /><path clip-path=\"url(#clip550)\" d=\"M56.6171 517.969 L72.9365 517.969 L72.9365 521.904 L50.9921 521.904 L50.9921 517.969 Q53.6541 515.214 58.2375 510.584 Q62.8439 505.932 64.0245 504.589 Q66.2698 502.066 67.1494 500.33 Q68.0522 498.571 68.0522 496.881 Q68.0522 494.126 66.1078 492.39 Q64.1865 490.654 61.0847 490.654 Q58.8856 490.654 56.4319 491.418 Q54.0014 492.182 51.2236 493.733 L51.2236 489.01 Q54.0477 487.876 56.5014 487.298 Q58.955 486.719 60.9921 486.719 Q66.3624 486.719 69.5568 489.404 Q72.7513 492.089 72.7513 496.58 Q72.7513 498.709 71.9411 500.631 Q71.1541 502.529 69.0476 505.121 Q68.4689 505.793 65.367 509.01 Q62.2652 512.205 56.6171 517.969 Z\" fill=\"#000000\" fill-rule=\"evenodd\" fill-opacity=\"1\" /><path clip-path=\"url(#clip550)\" d=\"M82.7512 516.024 L87.6354 516.024 L87.6354 521.904 L82.7512 521.904 L82.7512 516.024 Z\" fill=\"#000000\" fill-rule=\"evenodd\" fill-opacity=\"1\" /><path clip-path=\"url(#clip550)\" d=\"M107.821 490.422 Q104.209 490.422 102.381 493.987 Q100.575 497.529 100.575 504.659 Q100.575 511.765 102.381 515.33 Q104.209 518.871 107.821 518.871 Q111.455 518.871 113.26 515.33 Q115.089 511.765 115.089 504.659 Q115.089 497.529 113.26 493.987 Q111.455 490.422 107.821 490.422 M107.821 486.719 Q113.631 486.719 116.686 491.325 Q119.765 495.909 119.765 504.659 Q119.765 513.385 116.686 517.992 Q113.631 522.575 107.821 522.575 Q102.01 522.575 98.9317 517.992 Q95.8761 513.385 95.8761 504.659 Q95.8761 495.909 98.9317 491.325 Q102.01 486.719 107.821 486.719 Z\" fill=\"#000000\" fill-rule=\"evenodd\" fill-opacity=\"1\" /><path clip-path=\"url(#clip550)\" d=\"M137.982 490.422 Q134.371 490.422 132.543 493.987 Q130.737 497.529 130.737 504.659 Q130.737 511.765 132.543 515.33 Q134.371 518.871 137.982 518.871 Q141.617 518.871 143.422 515.33 Q145.251 511.765 145.251 504.659 Q145.251 497.529 143.422 493.987 Q141.617 490.422 137.982 490.422 M137.982 486.719 Q143.793 486.719 146.848 491.325 Q149.927 495.909 149.927 504.659 Q149.927 513.385 146.848 517.992 Q143.793 522.575 137.982 522.575 Q132.172 522.575 129.094 517.992 Q126.038 513.385 126.038 504.659 Q126.038 495.909 129.094 491.325 Q132.172 486.719 137.982 486.719 Z\" fill=\"#000000\" fill-rule=\"evenodd\" fill-opacity=\"1\" /><path clip-path=\"url(#clip550)\" d=\"M186.315 496.441 L175.737 507.066 L186.315 517.645 L183.561 520.445 L172.936 509.821 L162.311 520.445 L159.58 517.645 L170.135 507.066 L159.58 496.441 L162.311 493.64 L172.936 504.265 L183.561 493.64 L186.315 496.441 Z\" fill=\"#000000\" fill-rule=\"evenodd\" fill-opacity=\"1\" /><path clip-path=\"url(#clip550)\" d=\"M198.677 517.969 L206.315 517.969 L206.315 491.603 L198.005 493.27 L198.005 489.01 L206.269 487.344 L210.945 487.344 L210.945 517.969 L218.584 517.969 L218.584 521.904 L198.677 521.904 L198.677 517.969 Z\" fill=\"#000000\" fill-rule=\"evenodd\" fill-opacity=\"1\" /><path clip-path=\"url(#clip550)\" d=\"M238.028 490.422 Q234.417 490.422 232.588 493.987 Q230.783 497.529 230.783 504.659 Q230.783 511.765 232.588 515.33 Q234.417 518.871 238.028 518.871 Q241.662 518.871 243.468 515.33 Q245.297 511.765 245.297 504.659 Q245.297 497.529 243.468 493.987 Q241.662 490.422 238.028 490.422 M238.028 486.719 Q243.838 486.719 246.894 491.325 Q249.973 495.909 249.973 504.659 Q249.973 513.385 246.894 517.992 Q243.838 522.575 238.028 522.575 Q232.218 522.575 229.139 517.992 Q226.084 513.385 226.084 504.659 Q226.084 495.909 229.139 491.325 Q232.218 486.719 238.028 486.719 Z\" fill=\"#000000\" fill-rule=\"evenodd\" fill-opacity=\"1\" /><path clip-path=\"url(#clip550)\" d=\"M262.649 469.724 L253.057 484.713 L262.649 484.713 L262.649 469.724 M261.652 466.413 L266.429 466.413 L266.429 484.713 L270.435 484.713 L270.435 487.873 L266.429 487.873 L266.429 494.493 L262.649 494.493 L262.649 487.873 L249.973 487.873 L249.973 484.206 L261.652 466.413 Z\" fill=\"#000000\" fill-rule=\"evenodd\" fill-opacity=\"1\" /><path clip-path=\"url(#clip550)\" d=\"M56.6171 280.502 L72.9365 280.502 L72.9365 284.437 L50.9921 284.437 L50.9921 280.502 Q53.6541 277.747 58.2375 273.118 Q62.8439 268.465 64.0245 267.122 Q66.2698 264.599 67.1494 262.863 Q68.0522 261.104 68.0522 259.414 Q68.0522 256.66 66.1078 254.923 Q64.1865 253.187 61.0847 253.187 Q58.8856 253.187 56.4319 253.951 Q54.0014 254.715 51.2236 256.266 L51.2236 251.544 Q54.0477 250.41 56.5014 249.831 Q58.955 249.252 60.9921 249.252 Q66.3624 249.252 69.5568 251.937 Q72.7513 254.622 72.7513 259.113 Q72.7513 261.243 71.9411 263.164 Q71.1541 265.062 69.0476 267.655 Q68.4689 268.326 65.367 271.544 Q62.2652 274.738 56.6171 280.502 Z\" fill=\"#000000\" fill-rule=\"evenodd\" fill-opacity=\"1\" /><path clip-path=\"url(#clip550)\" d=\"M82.7512 278.558 L87.6354 278.558 L87.6354 284.437 L82.7512 284.437 L82.7512 278.558 Z\" fill=\"#000000\" fill-rule=\"evenodd\" fill-opacity=\"1\" /><path clip-path=\"url(#clip550)\" d=\"M97.8669 249.877 L116.223 249.877 L116.223 253.812 L102.149 253.812 L102.149 262.284 Q103.168 261.937 104.186 261.775 Q105.205 261.59 106.223 261.59 Q112.01 261.59 115.39 264.761 Q118.77 267.933 118.77 273.349 Q118.77 278.928 115.297 282.03 Q111.825 285.108 105.506 285.108 Q103.33 285.108 101.061 284.738 Q98.8159 284.368 96.4085 283.627 L96.4085 278.928 Q98.4919 280.062 100.714 280.618 Q102.936 281.173 105.413 281.173 Q109.418 281.173 111.756 279.067 Q114.094 276.96 114.094 273.349 Q114.094 269.738 111.756 267.632 Q109.418 265.525 105.413 265.525 Q103.538 265.525 101.663 265.942 Q99.8113 266.359 97.8669 267.238 L97.8669 249.877 Z\" fill=\"#000000\" fill-rule=\"evenodd\" fill-opacity=\"1\" /><path clip-path=\"url(#clip550)\" d=\"M137.982 252.956 Q134.371 252.956 132.543 256.521 Q130.737 260.062 130.737 267.192 Q130.737 274.298 132.543 277.863 Q134.371 281.405 137.982 281.405 Q141.617 281.405 143.422 277.863 Q145.251 274.298 145.251 267.192 Q145.251 260.062 143.422 256.521 Q141.617 252.956 137.982 252.956 M137.982 249.252 Q143.793 249.252 146.848 253.859 Q149.927 258.442 149.927 267.192 Q149.927 275.919 146.848 280.525 Q143.793 285.108 137.982 285.108 Q132.172 285.108 129.094 280.525 Q126.038 275.919 126.038 267.192 Q126.038 258.442 129.094 253.859 Q132.172 249.252 137.982 249.252 Z\" fill=\"#000000\" fill-rule=\"evenodd\" fill-opacity=\"1\" /><path clip-path=\"url(#clip550)\" d=\"M186.315 258.974 L175.737 269.599 L186.315 280.178 L183.561 282.979 L172.936 272.354 L162.311 282.979 L159.58 280.178 L170.135 269.599 L159.58 258.974 L162.311 256.173 L172.936 266.798 L183.561 256.173 L186.315 258.974 Z\" fill=\"#000000\" fill-rule=\"evenodd\" fill-opacity=\"1\" /><path clip-path=\"url(#clip550)\" d=\"M198.677 280.502 L206.315 280.502 L206.315 254.136 L198.005 255.803 L198.005 251.544 L206.269 249.877 L210.945 249.877 L210.945 280.502 L218.584 280.502 L218.584 284.437 L198.677 284.437 L198.677 280.502 Z\" fill=\"#000000\" fill-rule=\"evenodd\" fill-opacity=\"1\" /><path clip-path=\"url(#clip550)\" d=\"M238.028 252.956 Q234.417 252.956 232.588 256.521 Q230.783 260.062 230.783 267.192 Q230.783 274.298 232.588 277.863 Q234.417 281.405 238.028 281.405 Q241.662 281.405 243.468 277.863 Q245.297 274.298 245.297 267.192 Q245.297 260.062 243.468 256.521 Q241.662 252.956 238.028 252.956 M238.028 249.252 Q243.838 249.252 246.894 253.859 Q249.973 258.442 249.973 267.192 Q249.973 275.919 246.894 280.525 Q243.838 285.108 238.028 285.108 Q232.218 285.108 229.139 280.525 Q226.084 275.919 226.084 267.192 Q226.084 258.442 229.139 253.859 Q232.218 249.252 238.028 249.252 Z\" fill=\"#000000\" fill-rule=\"evenodd\" fill-opacity=\"1\" /><path clip-path=\"url(#clip550)\" d=\"M262.649 232.257 L253.057 247.247 L262.649 247.247 L262.649 232.257 M261.652 228.947 L266.429 228.947 L266.429 247.247 L270.435 247.247 L270.435 250.406 L266.429 250.406 L266.429 257.027 L262.649 257.027 L262.649 250.406 L249.973 250.406 L249.973 246.739 L261.652 228.947 Z\" fill=\"#000000\" fill-rule=\"evenodd\" fill-opacity=\"1\" /><polyline clip-path=\"url(#clip552)\" style=\"stroke:#009af9; stroke-linecap:butt; stroke-linejoin:round; stroke-width:4; stroke-opacity:1; fill:none\" points=\"\n",
       "  2294.84,87.9763 2272.8,88.1188 2250.75,88.0713 2228.71,89.4011 2197.21,92.6306 2175.17,95.6227 2153.12,96.6676 2109.04,99.8021 2086.99,104.219 2064.95,107.781 \n",
       "  2042.9,111.248 2020.86,114.763 1976.77,120.509 1954.72,121.602 1910.63,130.198 1866.54,135.232 1844.5,138.509 1822.45,141.311 1800.41,144.683 1778.36,151.237 \n",
       "  1734.27,160.499 1690.18,170.567 1646.1,186.715 1602.01,212.789 1557.92,237.913 1513.83,268.451 1469.74,294.81 1425.65,324.398 1381.56,364.055 1337.47,402.145 \n",
       "  1293.38,439.949 1249.29,490.055 1205.2,566.329 1161.11,635.432 1123.32,721.822 1072.93,829.917 1028.84,977.336 1006.8,1022.98 962.708,1107.56 918.618,1195.05 \n",
       "  874.529,1274.03 827.29,1342.37 805.245,1360.89 773.753,1379.79 751.708,1391 723.365,1401.4 685.574,1411.05 638.335,1422.97 572.201,1433.37 524.962,1435.69 \n",
       "  490.32,1436.69 436.783,1439.68 392.693,1441.87 364.35,1445.72 \n",
       "  \"/>\n",
       "<path clip-path=\"url(#clip550)\" d=\"\n",
       "M2004.75 198.898 L2284.55 198.898 L2284.55 95.2176 L2004.75 95.2176  Z\n",
       "  \" fill=\"#ffffff\" fill-rule=\"evenodd\" fill-opacity=\"1\"/>\n",
       "<polyline clip-path=\"url(#clip550)\" style=\"stroke:#000000; stroke-linecap:butt; stroke-linejoin:round; stroke-width:4; stroke-opacity:1; fill:none\" points=\"\n",
       "  2004.75,198.898 2284.55,198.898 2284.55,95.2176 2004.75,95.2176 2004.75,198.898 \n",
       "  \"/>\n",
       "<polyline clip-path=\"url(#clip550)\" style=\"stroke:#009af9; stroke-linecap:butt; stroke-linejoin:round; stroke-width:4; stroke-opacity:1; fill:none\" points=\"\n",
       "  2027.48,147.058 2163.9,147.058 \n",
       "  \"/>\n",
       "<path clip-path=\"url(#clip550)\" d=\"M2200.48 166.745 Q2198.68 171.375 2196.97 172.787 Q2195.25 174.199 2192.38 174.199 L2188.98 174.199 L2188.98 170.634 L2191.48 170.634 Q2193.24 170.634 2194.21 169.8 Q2195.18 168.967 2196.36 165.865 L2197.13 163.921 L2186.64 138.412 L2191.16 138.412 L2199.26 158.689 L2207.36 138.412 L2211.87 138.412 L2200.48 166.745 Z\" fill=\"#000000\" fill-rule=\"evenodd\" fill-opacity=\"1\" /><path clip-path=\"url(#clip550)\" d=\"M2219.16 160.402 L2226.8 160.402 L2226.8 134.037 L2218.49 135.703 L2218.49 131.444 L2226.76 129.778 L2231.43 129.778 L2231.43 160.402 L2239.07 160.402 L2239.07 164.338 L2219.16 164.338 L2219.16 160.402 Z\" fill=\"#000000\" fill-rule=\"evenodd\" fill-opacity=\"1\" /></svg>\n"
      ]
     },
     "execution_count": 14,
     "metadata": {},
     "output_type": "execute_result"
    }
   ],
   "source": [
    "plot(epidays, allcases)"
   ]
  },
  {
   "cell_type": "markdown",
   "metadata": {},
   "source": [
    "Hm, not too bad! Good choice of scale for the two axes. A light blue for the curve is not that readable for some people, but it looks pretty. The default is to show a legend but neither title nor axis labels.\n",
    "\n",
    "Plots lives up to its billing---simple to use, good pictures produced."
   ]
  },
  {
   "cell_type": "markdown",
   "metadata": {},
   "source": [
    "[Back to the top](#In-this-lecture)"
   ]
  },
  {
   "cell_type": "markdown",
   "metadata": {},
   "source": [
    "<h2>Tweak the current plot</h2>"
   ]
  },
  {
   "cell_type": "markdown",
   "metadata": {},
   "source": [
    "We choose different attributes by specifying the values of keywords. Plots provides many ways to do this, but I'll show only a few. For more information, see the Plots homepage https://juliaplots.github.io/ .\n",
    "\n",
    "I think the plot would be better if it used symbols for the data points. Let's also omit the line. That means the line type is set to ``scatter``. The keyword for the symbol that is plotted is ``marker``, and I  choose ``diamond`` as its value. Note the use of the colon in the syntax below!"
   ]
  },
  {
   "cell_type": "code",
   "execution_count": 15,
   "metadata": {},
   "outputs": [
    {
     "data": {
      "image/svg+xml": [
       "<?xml version=\"1.0\" encoding=\"utf-8\"?>\n",
       "<svg xmlns=\"http://www.w3.org/2000/svg\" xmlns:xlink=\"http://www.w3.org/1999/xlink\" width=\"600\" height=\"400\" viewBox=\"0 0 2400 1600\">\n",
       "<defs>\n",
       "  <clipPath id=\"clip590\">\n",
       "    <rect x=\"0\" y=\"0\" width=\"2400\" height=\"1600\"/>\n",
       "  </clipPath>\n",
       "</defs>\n",
       "<path clip-path=\"url(#clip590)\" d=\"\n",
       "M0 1600 L2400 1600 L2400 0 L0 0  Z\n",
       "  \" fill=\"#ffffff\" fill-rule=\"evenodd\" fill-opacity=\"1\"/>\n",
       "<defs>\n",
       "  <clipPath id=\"clip591\">\n",
       "    <rect x=\"480\" y=\"0\" width=\"1681\" height=\"1600\"/>\n",
       "  </clipPath>\n",
       "</defs>\n",
       "<path clip-path=\"url(#clip590)\" d=\"\n",
       "M306.435 1486.45 L2352.76 1486.45 L2352.76 47.2441 L306.435 47.2441  Z\n",
       "  \" fill=\"#ffffff\" fill-rule=\"evenodd\" fill-opacity=\"1\"/>\n",
       "<defs>\n",
       "  <clipPath id=\"clip592\">\n",
       "    <rect x=\"306\" y=\"47\" width=\"2047\" height=\"1440\"/>\n",
       "  </clipPath>\n",
       "</defs>\n",
       "<polyline clip-path=\"url(#clip592)\" style=\"stroke:#000000; stroke-linecap:butt; stroke-linejoin:round; stroke-width:2; stroke-opacity:0.1; fill:none\" points=\"\n",
       "  364.35,1486.45 364.35,47.2441 \n",
       "  \"/>\n",
       "<polyline clip-path=\"url(#clip592)\" style=\"stroke:#000000; stroke-linecap:butt; stroke-linejoin:round; stroke-width:2; stroke-opacity:0.1; fill:none\" points=\"\n",
       "  679.275,1486.45 679.275,47.2441 \n",
       "  \"/>\n",
       "<polyline clip-path=\"url(#clip592)\" style=\"stroke:#000000; stroke-linecap:butt; stroke-linejoin:round; stroke-width:2; stroke-opacity:0.1; fill:none\" points=\"\n",
       "  994.2,1486.45 994.2,47.2441 \n",
       "  \"/>\n",
       "<polyline clip-path=\"url(#clip592)\" style=\"stroke:#000000; stroke-linecap:butt; stroke-linejoin:round; stroke-width:2; stroke-opacity:0.1; fill:none\" points=\"\n",
       "  1309.13,1486.45 1309.13,47.2441 \n",
       "  \"/>\n",
       "<polyline clip-path=\"url(#clip592)\" style=\"stroke:#000000; stroke-linecap:butt; stroke-linejoin:round; stroke-width:2; stroke-opacity:0.1; fill:none\" points=\"\n",
       "  1624.05,1486.45 1624.05,47.2441 \n",
       "  \"/>\n",
       "<polyline clip-path=\"url(#clip592)\" style=\"stroke:#000000; stroke-linecap:butt; stroke-linejoin:round; stroke-width:2; stroke-opacity:0.1; fill:none\" points=\"\n",
       "  1938.98,1486.45 1938.98,47.2441 \n",
       "  \"/>\n",
       "<polyline clip-path=\"url(#clip592)\" style=\"stroke:#000000; stroke-linecap:butt; stroke-linejoin:round; stroke-width:2; stroke-opacity:0.1; fill:none\" points=\"\n",
       "  2253.9,1486.45 2253.9,47.2441 \n",
       "  \"/>\n",
       "<polyline clip-path=\"url(#clip590)\" style=\"stroke:#000000; stroke-linecap:butt; stroke-linejoin:round; stroke-width:4; stroke-opacity:1; fill:none\" points=\"\n",
       "  306.435,1486.45 2352.76,1486.45 \n",
       "  \"/>\n",
       "<polyline clip-path=\"url(#clip590)\" style=\"stroke:#000000; stroke-linecap:butt; stroke-linejoin:round; stroke-width:4; stroke-opacity:1; fill:none\" points=\"\n",
       "  364.35,1486.45 364.35,1467.55 \n",
       "  \"/>\n",
       "<polyline clip-path=\"url(#clip590)\" style=\"stroke:#000000; stroke-linecap:butt; stroke-linejoin:round; stroke-width:4; stroke-opacity:1; fill:none\" points=\"\n",
       "  679.275,1486.45 679.275,1467.55 \n",
       "  \"/>\n",
       "<polyline clip-path=\"url(#clip590)\" style=\"stroke:#000000; stroke-linecap:butt; stroke-linejoin:round; stroke-width:4; stroke-opacity:1; fill:none\" points=\"\n",
       "  994.2,1486.45 994.2,1467.55 \n",
       "  \"/>\n",
       "<polyline clip-path=\"url(#clip590)\" style=\"stroke:#000000; stroke-linecap:butt; stroke-linejoin:round; stroke-width:4; stroke-opacity:1; fill:none\" points=\"\n",
       "  1309.13,1486.45 1309.13,1467.55 \n",
       "  \"/>\n",
       "<polyline clip-path=\"url(#clip590)\" style=\"stroke:#000000; stroke-linecap:butt; stroke-linejoin:round; stroke-width:4; stroke-opacity:1; fill:none\" points=\"\n",
       "  1624.05,1486.45 1624.05,1467.55 \n",
       "  \"/>\n",
       "<polyline clip-path=\"url(#clip590)\" style=\"stroke:#000000; stroke-linecap:butt; stroke-linejoin:round; stroke-width:4; stroke-opacity:1; fill:none\" points=\"\n",
       "  1938.98,1486.45 1938.98,1467.55 \n",
       "  \"/>\n",
       "<polyline clip-path=\"url(#clip590)\" style=\"stroke:#000000; stroke-linecap:butt; stroke-linejoin:round; stroke-width:4; stroke-opacity:1; fill:none\" points=\"\n",
       "  2253.9,1486.45 2253.9,1467.55 \n",
       "  \"/>\n",
       "<path clip-path=\"url(#clip590)\" d=\"M364.35 1515.64 Q360.739 1515.64 358.91 1519.2 Q357.105 1522.75 357.105 1529.87 Q357.105 1536.98 358.91 1540.55 Q360.739 1544.09 364.35 1544.09 Q367.984 1544.09 369.79 1540.55 Q371.619 1536.98 371.619 1529.87 Q371.619 1522.75 369.79 1519.2 Q367.984 1515.64 364.35 1515.64 M364.35 1511.93 Q370.16 1511.93 373.216 1516.54 Q376.295 1521.12 376.295 1529.87 Q376.295 1538.6 373.216 1543.21 Q370.16 1547.79 364.35 1547.79 Q358.54 1547.79 355.461 1543.21 Q352.406 1538.6 352.406 1529.87 Q352.406 1521.12 355.461 1516.54 Q358.54 1511.93 364.35 1511.93 Z\" fill=\"#000000\" fill-rule=\"evenodd\" fill-opacity=\"1\" /><path clip-path=\"url(#clip590)\" d=\"M638.882 1543.18 L646.521 1543.18 L646.521 1516.82 L638.211 1518.49 L638.211 1514.23 L646.475 1512.56 L651.15 1512.56 L651.15 1543.18 L658.789 1543.18 L658.789 1547.12 L638.882 1547.12 L638.882 1543.18 Z\" fill=\"#000000\" fill-rule=\"evenodd\" fill-opacity=\"1\" /><path clip-path=\"url(#clip590)\" d=\"M678.234 1515.64 Q674.623 1515.64 672.794 1519.2 Q670.988 1522.75 670.988 1529.87 Q670.988 1536.98 672.794 1540.55 Q674.623 1544.09 678.234 1544.09 Q681.868 1544.09 683.673 1540.55 Q685.502 1536.98 685.502 1529.87 Q685.502 1522.75 683.673 1519.2 Q681.868 1515.64 678.234 1515.64 M678.234 1511.93 Q684.044 1511.93 687.099 1516.54 Q690.178 1521.12 690.178 1529.87 Q690.178 1538.6 687.099 1543.21 Q684.044 1547.79 678.234 1547.79 Q672.423 1547.79 669.345 1543.21 Q666.289 1538.6 666.289 1529.87 Q666.289 1521.12 669.345 1516.54 Q672.423 1511.93 678.234 1511.93 Z\" fill=\"#000000\" fill-rule=\"evenodd\" fill-opacity=\"1\" /><path clip-path=\"url(#clip590)\" d=\"M708.395 1515.64 Q704.784 1515.64 702.956 1519.2 Q701.15 1522.75 701.15 1529.87 Q701.15 1536.98 702.956 1540.55 Q704.784 1544.09 708.395 1544.09 Q712.03 1544.09 713.835 1540.55 Q715.664 1536.98 715.664 1529.87 Q715.664 1522.75 713.835 1519.2 Q712.03 1515.64 708.395 1515.64 M708.395 1511.93 Q714.206 1511.93 717.261 1516.54 Q720.34 1521.12 720.34 1529.87 Q720.34 1538.6 717.261 1543.21 Q714.206 1547.79 708.395 1547.79 Q702.585 1547.79 699.507 1543.21 Q696.451 1538.6 696.451 1529.87 Q696.451 1521.12 699.507 1516.54 Q702.585 1511.93 708.395 1511.93 Z\" fill=\"#000000\" fill-rule=\"evenodd\" fill-opacity=\"1\" /><path clip-path=\"url(#clip590)\" d=\"M957.893 1543.18 L974.212 1543.18 L974.212 1547.12 L952.268 1547.12 L952.268 1543.18 Q954.93 1540.43 959.513 1535.8 Q964.12 1531.15 965.3 1529.81 Q967.545 1527.28 968.425 1525.55 Q969.328 1523.79 969.328 1522.1 Q969.328 1519.34 967.383 1517.61 Q965.462 1515.87 962.36 1515.87 Q960.161 1515.87 957.708 1516.63 Q955.277 1517.4 952.499 1518.95 L952.499 1514.23 Q955.323 1513.09 957.777 1512.51 Q960.231 1511.93 962.268 1511.93 Q967.638 1511.93 970.832 1514.62 Q974.027 1517.31 974.027 1521.8 Q974.027 1523.93 973.217 1525.85 Q972.43 1527.74 970.323 1530.34 Q969.744 1531.01 966.643 1534.23 Q963.541 1537.42 957.893 1543.18 Z\" fill=\"#000000\" fill-rule=\"evenodd\" fill-opacity=\"1\" /><path clip-path=\"url(#clip590)\" d=\"M994.027 1515.64 Q990.416 1515.64 988.587 1519.2 Q986.781 1522.75 986.781 1529.87 Q986.781 1536.98 988.587 1540.55 Q990.416 1544.09 994.027 1544.09 Q997.661 1544.09 999.467 1540.55 Q1001.3 1536.98 1001.3 1529.87 Q1001.3 1522.75 999.467 1519.2 Q997.661 1515.64 994.027 1515.64 M994.027 1511.93 Q999.837 1511.93 1002.89 1516.54 Q1005.97 1521.12 1005.97 1529.87 Q1005.97 1538.6 1002.89 1543.21 Q999.837 1547.79 994.027 1547.79 Q988.217 1547.79 985.138 1543.21 Q982.082 1538.6 982.082 1529.87 Q982.082 1521.12 985.138 1516.54 Q988.217 1511.93 994.027 1511.93 Z\" fill=\"#000000\" fill-rule=\"evenodd\" fill-opacity=\"1\" /><path clip-path=\"url(#clip590)\" d=\"M1024.19 1515.64 Q1020.58 1515.64 1018.75 1519.2 Q1016.94 1522.75 1016.94 1529.87 Q1016.94 1536.98 1018.75 1540.55 Q1020.58 1544.09 1024.19 1544.09 Q1027.82 1544.09 1029.63 1540.55 Q1031.46 1536.98 1031.46 1529.87 Q1031.46 1522.75 1029.63 1519.2 Q1027.82 1515.64 1024.19 1515.64 M1024.19 1511.93 Q1030 1511.93 1033.05 1516.54 Q1036.13 1521.12 1036.13 1529.87 Q1036.13 1538.6 1033.05 1543.21 Q1030 1547.79 1024.19 1547.79 Q1018.38 1547.79 1015.3 1543.21 Q1012.24 1538.6 1012.24 1529.87 Q1012.24 1521.12 1015.3 1516.54 Q1018.38 1511.93 1024.19 1511.93 Z\" fill=\"#000000\" fill-rule=\"evenodd\" fill-opacity=\"1\" /><path clip-path=\"url(#clip590)\" d=\"M1282.89 1528.49 Q1286.24 1529.2 1288.12 1531.47 Q1290.02 1533.74 1290.02 1537.07 Q1290.02 1542.19 1286.5 1544.99 Q1282.98 1547.79 1276.5 1547.79 Q1274.32 1547.79 1272.01 1547.35 Q1269.72 1546.93 1267.26 1546.08 L1267.26 1541.56 Q1269.21 1542.7 1271.52 1543.28 Q1273.84 1543.86 1276.36 1543.86 Q1280.76 1543.86 1283.05 1542.12 Q1285.36 1540.38 1285.36 1537.07 Q1285.36 1534.02 1283.21 1532.31 Q1281.08 1530.57 1277.26 1530.57 L1273.23 1530.57 L1273.23 1526.73 L1277.45 1526.73 Q1280.9 1526.73 1282.73 1525.36 Q1284.55 1523.97 1284.55 1521.38 Q1284.55 1518.72 1282.66 1517.31 Q1280.78 1515.87 1277.26 1515.87 Q1275.34 1515.87 1273.14 1516.29 Q1270.94 1516.7 1268.3 1517.58 L1268.3 1513.42 Q1270.97 1512.68 1273.28 1512.31 Q1275.62 1511.93 1277.68 1511.93 Q1283 1511.93 1286.1 1514.37 Q1289.21 1516.77 1289.21 1520.89 Q1289.21 1523.76 1287.56 1525.75 Q1285.92 1527.72 1282.89 1528.49 Z\" fill=\"#000000\" fill-rule=\"evenodd\" fill-opacity=\"1\" /><path clip-path=\"url(#clip590)\" d=\"M1308.88 1515.64 Q1305.27 1515.64 1303.44 1519.2 Q1301.64 1522.75 1301.64 1529.87 Q1301.64 1536.98 1303.44 1540.55 Q1305.27 1544.09 1308.88 1544.09 Q1312.52 1544.09 1314.32 1540.55 Q1316.15 1536.98 1316.15 1529.87 Q1316.15 1522.75 1314.32 1519.2 Q1312.52 1515.64 1308.88 1515.64 M1308.88 1511.93 Q1314.69 1511.93 1317.75 1516.54 Q1320.83 1521.12 1320.83 1529.87 Q1320.83 1538.6 1317.75 1543.21 Q1314.69 1547.79 1308.88 1547.79 Q1303.07 1547.79 1299.99 1543.21 Q1296.94 1538.6 1296.94 1529.87 Q1296.94 1521.12 1299.99 1516.54 Q1303.07 1511.93 1308.88 1511.93 Z\" fill=\"#000000\" fill-rule=\"evenodd\" fill-opacity=\"1\" /><path clip-path=\"url(#clip590)\" d=\"M1339.04 1515.64 Q1335.43 1515.64 1333.6 1519.2 Q1331.8 1522.75 1331.8 1529.87 Q1331.8 1536.98 1333.6 1540.55 Q1335.43 1544.09 1339.04 1544.09 Q1342.68 1544.09 1344.48 1540.55 Q1346.31 1536.98 1346.31 1529.87 Q1346.31 1522.75 1344.48 1519.2 Q1342.68 1515.64 1339.04 1515.64 M1339.04 1511.93 Q1344.85 1511.93 1347.91 1516.54 Q1350.99 1521.12 1350.99 1529.87 Q1350.99 1538.6 1347.91 1543.21 Q1344.85 1547.79 1339.04 1547.79 Q1333.23 1547.79 1330.16 1543.21 Q1327.1 1538.6 1327.1 1529.87 Q1327.1 1521.12 1330.16 1516.54 Q1333.23 1511.93 1339.04 1511.93 Z\" fill=\"#000000\" fill-rule=\"evenodd\" fill-opacity=\"1\" /><path clip-path=\"url(#clip590)\" d=\"M1597.14 1516.63 L1585.34 1535.08 L1597.14 1535.08 L1597.14 1516.63 M1595.91 1512.56 L1601.79 1512.56 L1601.79 1535.08 L1606.72 1535.08 L1606.72 1538.97 L1601.79 1538.97 L1601.79 1547.12 L1597.14 1547.12 L1597.14 1538.97 L1581.54 1538.97 L1581.54 1534.46 L1595.91 1512.56 Z\" fill=\"#000000\" fill-rule=\"evenodd\" fill-opacity=\"1\" /><path clip-path=\"url(#clip590)\" d=\"M1624.46 1515.64 Q1620.84 1515.64 1619.02 1519.2 Q1617.21 1522.75 1617.21 1529.87 Q1617.21 1536.98 1619.02 1540.55 Q1620.84 1544.09 1624.46 1544.09 Q1628.09 1544.09 1629.9 1540.55 Q1631.72 1536.98 1631.72 1529.87 Q1631.72 1522.75 1629.9 1519.2 Q1628.09 1515.64 1624.46 1515.64 M1624.46 1511.93 Q1630.27 1511.93 1633.32 1516.54 Q1636.4 1521.12 1636.4 1529.87 Q1636.4 1538.6 1633.32 1543.21 Q1630.27 1547.79 1624.46 1547.79 Q1618.65 1547.79 1615.57 1543.21 Q1612.51 1538.6 1612.51 1529.87 Q1612.51 1521.12 1615.57 1516.54 Q1618.65 1511.93 1624.46 1511.93 Z\" fill=\"#000000\" fill-rule=\"evenodd\" fill-opacity=\"1\" /><path clip-path=\"url(#clip590)\" d=\"M1654.62 1515.64 Q1651.01 1515.64 1649.18 1519.2 Q1647.37 1522.75 1647.37 1529.87 Q1647.37 1536.98 1649.18 1540.55 Q1651.01 1544.09 1654.62 1544.09 Q1658.25 1544.09 1660.06 1540.55 Q1661.89 1536.98 1661.89 1529.87 Q1661.89 1522.75 1660.06 1519.2 Q1658.25 1515.64 1654.62 1515.64 M1654.62 1511.93 Q1660.43 1511.93 1663.48 1516.54 Q1666.56 1521.12 1666.56 1529.87 Q1666.56 1538.6 1663.48 1543.21 Q1660.43 1547.79 1654.62 1547.79 Q1648.81 1547.79 1645.73 1543.21 Q1642.67 1538.6 1642.67 1529.87 Q1642.67 1521.12 1645.73 1516.54 Q1648.81 1511.93 1654.62 1511.93 Z\" fill=\"#000000\" fill-rule=\"evenodd\" fill-opacity=\"1\" /><path clip-path=\"url(#clip590)\" d=\"M1898.59 1512.56 L1916.95 1512.56 L1916.95 1516.5 L1902.88 1516.5 L1902.88 1524.97 Q1903.89 1524.62 1904.91 1524.46 Q1905.93 1524.27 1906.95 1524.27 Q1912.74 1524.27 1916.12 1527.44 Q1919.5 1530.62 1919.5 1536.03 Q1919.5 1541.61 1916.02 1544.71 Q1912.55 1547.79 1906.23 1547.79 Q1904.06 1547.79 1901.79 1547.42 Q1899.54 1547.05 1897.14 1546.31 L1897.14 1541.61 Q1899.22 1542.74 1901.44 1543.3 Q1903.66 1543.86 1906.14 1543.86 Q1910.14 1543.86 1912.48 1541.75 Q1914.82 1539.64 1914.82 1536.03 Q1914.82 1532.42 1912.48 1530.31 Q1910.14 1528.21 1906.14 1528.21 Q1904.27 1528.21 1902.39 1528.62 Q1900.54 1529.04 1898.59 1529.92 L1898.59 1512.56 Z\" fill=\"#000000\" fill-rule=\"evenodd\" fill-opacity=\"1\" /><path clip-path=\"url(#clip590)\" d=\"M1938.71 1515.64 Q1935.1 1515.64 1933.27 1519.2 Q1931.46 1522.75 1931.46 1529.87 Q1931.46 1536.98 1933.27 1540.55 Q1935.1 1544.09 1938.71 1544.09 Q1942.34 1544.09 1944.15 1540.55 Q1945.98 1536.98 1945.98 1529.87 Q1945.98 1522.75 1944.15 1519.2 Q1942.34 1515.64 1938.71 1515.64 M1938.71 1511.93 Q1944.52 1511.93 1947.58 1516.54 Q1950.65 1521.12 1950.65 1529.87 Q1950.65 1538.6 1947.58 1543.21 Q1944.52 1547.79 1938.71 1547.79 Q1932.9 1547.79 1929.82 1543.21 Q1926.77 1538.6 1926.77 1529.87 Q1926.77 1521.12 1929.82 1516.54 Q1932.9 1511.93 1938.71 1511.93 Z\" fill=\"#000000\" fill-rule=\"evenodd\" fill-opacity=\"1\" /><path clip-path=\"url(#clip590)\" d=\"M1968.87 1515.64 Q1965.26 1515.64 1963.43 1519.2 Q1961.63 1522.75 1961.63 1529.87 Q1961.63 1536.98 1963.43 1540.55 Q1965.26 1544.09 1968.87 1544.09 Q1972.51 1544.09 1974.31 1540.55 Q1976.14 1536.98 1976.14 1529.87 Q1976.14 1522.75 1974.31 1519.2 Q1972.51 1515.64 1968.87 1515.64 M1968.87 1511.93 Q1974.68 1511.93 1977.74 1516.54 Q1980.82 1521.12 1980.82 1529.87 Q1980.82 1538.6 1977.74 1543.21 Q1974.68 1547.79 1968.87 1547.79 Q1963.06 1547.79 1959.98 1543.21 Q1956.93 1538.6 1956.93 1529.87 Q1956.93 1521.12 1959.98 1516.54 Q1963.06 1511.93 1968.87 1511.93 Z\" fill=\"#000000\" fill-rule=\"evenodd\" fill-opacity=\"1\" /><path clip-path=\"url(#clip590)\" d=\"M2224.23 1527.98 Q2221.08 1527.98 2219.23 1530.13 Q2217.4 1532.28 2217.4 1536.03 Q2217.4 1539.76 2219.23 1541.93 Q2221.08 1544.09 2224.23 1544.09 Q2227.37 1544.09 2229.2 1541.93 Q2231.05 1539.76 2231.05 1536.03 Q2231.05 1532.28 2229.2 1530.13 Q2227.37 1527.98 2224.23 1527.98 M2233.51 1513.32 L2233.51 1517.58 Q2231.75 1516.75 2229.94 1516.31 Q2228.16 1515.87 2226.4 1515.87 Q2221.77 1515.87 2219.32 1519 Q2216.89 1522.12 2216.54 1528.44 Q2217.91 1526.43 2219.97 1525.36 Q2222.03 1524.27 2224.5 1524.27 Q2229.71 1524.27 2232.72 1527.44 Q2235.75 1530.59 2235.75 1536.03 Q2235.75 1541.36 2232.6 1544.57 Q2229.46 1547.79 2224.23 1547.79 Q2218.23 1547.79 2215.06 1543.21 Q2211.89 1538.6 2211.89 1529.87 Q2211.89 1521.68 2215.78 1516.82 Q2219.66 1511.93 2226.22 1511.93 Q2227.98 1511.93 2229.76 1512.28 Q2231.56 1512.63 2233.51 1513.32 Z\" fill=\"#000000\" fill-rule=\"evenodd\" fill-opacity=\"1\" /><path clip-path=\"url(#clip590)\" d=\"M2253.81 1515.64 Q2250.2 1515.64 2248.37 1519.2 Q2246.56 1522.75 2246.56 1529.87 Q2246.56 1536.98 2248.37 1540.55 Q2250.2 1544.09 2253.81 1544.09 Q2257.44 1544.09 2259.25 1540.55 Q2261.08 1536.98 2261.08 1529.87 Q2261.08 1522.75 2259.25 1519.2 Q2257.44 1515.64 2253.81 1515.64 M2253.81 1511.93 Q2259.62 1511.93 2262.67 1516.54 Q2265.75 1521.12 2265.75 1529.87 Q2265.75 1538.6 2262.67 1543.21 Q2259.62 1547.79 2253.81 1547.79 Q2248 1547.79 2244.92 1543.21 Q2241.86 1538.6 2241.86 1529.87 Q2241.86 1521.12 2244.92 1516.54 Q2248 1511.93 2253.81 1511.93 Z\" fill=\"#000000\" fill-rule=\"evenodd\" fill-opacity=\"1\" /><path clip-path=\"url(#clip590)\" d=\"M2283.97 1515.64 Q2280.36 1515.64 2278.53 1519.2 Q2276.72 1522.75 2276.72 1529.87 Q2276.72 1536.98 2278.53 1540.55 Q2280.36 1544.09 2283.97 1544.09 Q2287.6 1544.09 2289.41 1540.55 Q2291.24 1536.98 2291.24 1529.87 Q2291.24 1522.75 2289.41 1519.2 Q2287.6 1515.64 2283.97 1515.64 M2283.97 1511.93 Q2289.78 1511.93 2292.84 1516.54 Q2295.91 1521.12 2295.91 1529.87 Q2295.91 1538.6 2292.84 1543.21 Q2289.78 1547.79 2283.97 1547.79 Q2278.16 1547.79 2275.08 1543.21 Q2272.03 1538.6 2272.03 1529.87 Q2272.03 1521.12 2275.08 1516.54 Q2278.16 1511.93 2283.97 1511.93 Z\" fill=\"#000000\" fill-rule=\"evenodd\" fill-opacity=\"1\" /><polyline clip-path=\"url(#clip592)\" style=\"stroke:#000000; stroke-linecap:butt; stroke-linejoin:round; stroke-width:2; stroke-opacity:0.1; fill:none\" points=\"\n",
       "  306.435,1448.04 2352.76,1448.04 \n",
       "  \"/>\n",
       "<polyline clip-path=\"url(#clip592)\" style=\"stroke:#000000; stroke-linecap:butt; stroke-linejoin:round; stroke-width:2; stroke-opacity:0.1; fill:none\" points=\"\n",
       "  306.435,1210.58 2352.76,1210.58 \n",
       "  \"/>\n",
       "<polyline clip-path=\"url(#clip592)\" style=\"stroke:#000000; stroke-linecap:butt; stroke-linejoin:round; stroke-width:2; stroke-opacity:0.1; fill:none\" points=\"\n",
       "  306.435,973.11 2352.76,973.11 \n",
       "  \"/>\n",
       "<polyline clip-path=\"url(#clip592)\" style=\"stroke:#000000; stroke-linecap:butt; stroke-linejoin:round; stroke-width:2; stroke-opacity:0.1; fill:none\" points=\"\n",
       "  306.435,735.643 2352.76,735.643 \n",
       "  \"/>\n",
       "<polyline clip-path=\"url(#clip592)\" style=\"stroke:#000000; stroke-linecap:butt; stroke-linejoin:round; stroke-width:2; stroke-opacity:0.1; fill:none\" points=\"\n",
       "  306.435,498.176 2352.76,498.176 \n",
       "  \"/>\n",
       "<polyline clip-path=\"url(#clip592)\" style=\"stroke:#000000; stroke-linecap:butt; stroke-linejoin:round; stroke-width:2; stroke-opacity:0.1; fill:none\" points=\"\n",
       "  306.435,260.71 2352.76,260.71 \n",
       "  \"/>\n",
       "<polyline clip-path=\"url(#clip590)\" style=\"stroke:#000000; stroke-linecap:butt; stroke-linejoin:round; stroke-width:4; stroke-opacity:1; fill:none\" points=\"\n",
       "  306.435,1486.45 306.435,47.2441 \n",
       "  \"/>\n",
       "<polyline clip-path=\"url(#clip590)\" style=\"stroke:#000000; stroke-linecap:butt; stroke-linejoin:round; stroke-width:4; stroke-opacity:1; fill:none\" points=\"\n",
       "  306.435,1448.04 325.333,1448.04 \n",
       "  \"/>\n",
       "<polyline clip-path=\"url(#clip590)\" style=\"stroke:#000000; stroke-linecap:butt; stroke-linejoin:round; stroke-width:4; stroke-opacity:1; fill:none\" points=\"\n",
       "  306.435,1210.58 325.333,1210.58 \n",
       "  \"/>\n",
       "<polyline clip-path=\"url(#clip590)\" style=\"stroke:#000000; stroke-linecap:butt; stroke-linejoin:round; stroke-width:4; stroke-opacity:1; fill:none\" points=\"\n",
       "  306.435,973.11 325.333,973.11 \n",
       "  \"/>\n",
       "<polyline clip-path=\"url(#clip590)\" style=\"stroke:#000000; stroke-linecap:butt; stroke-linejoin:round; stroke-width:4; stroke-opacity:1; fill:none\" points=\"\n",
       "  306.435,735.643 325.333,735.643 \n",
       "  \"/>\n",
       "<polyline clip-path=\"url(#clip590)\" style=\"stroke:#000000; stroke-linecap:butt; stroke-linejoin:round; stroke-width:4; stroke-opacity:1; fill:none\" points=\"\n",
       "  306.435,498.176 325.333,498.176 \n",
       "  \"/>\n",
       "<polyline clip-path=\"url(#clip590)\" style=\"stroke:#000000; stroke-linecap:butt; stroke-linejoin:round; stroke-width:4; stroke-opacity:1; fill:none\" points=\"\n",
       "  306.435,260.71 325.333,260.71 \n",
       "  \"/>\n",
       "<path clip-path=\"url(#clip590)\" d=\"M258.491 1433.84 Q254.88 1433.84 253.051 1437.41 Q251.246 1440.95 251.246 1448.08 Q251.246 1455.18 253.051 1458.75 Q254.88 1462.29 258.491 1462.29 Q262.125 1462.29 263.931 1458.75 Q265.759 1455.18 265.759 1448.08 Q265.759 1440.95 263.931 1437.41 Q262.125 1433.84 258.491 1433.84 M258.491 1430.14 Q264.301 1430.14 267.357 1434.74 Q270.435 1439.33 270.435 1448.08 Q270.435 1456.8 267.357 1461.41 Q264.301 1465.99 258.491 1465.99 Q252.681 1465.99 249.602 1461.41 Q246.547 1456.8 246.547 1448.08 Q246.547 1439.33 249.602 1434.74 Q252.681 1430.14 258.491 1430.14 Z\" fill=\"#000000\" fill-rule=\"evenodd\" fill-opacity=\"1\" /><path clip-path=\"url(#clip590)\" d=\"M54.6105 1199.74 L72.9668 1199.74 L72.9668 1203.68 L58.8928 1203.68 L58.8928 1212.15 Q59.9113 1211.8 60.9299 1211.64 Q61.9484 1211.46 62.9669 1211.46 Q68.7539 1211.46 72.1335 1214.63 Q75.5131 1217.8 75.5131 1223.22 Q75.5131 1228.79 72.0409 1231.9 Q68.5687 1234.98 62.2493 1234.98 Q60.0734 1234.98 57.8049 1234.6 Q55.5595 1234.23 53.1521 1233.49 L53.1521 1228.79 Q55.2354 1229.93 57.4577 1230.48 Q59.6799 1231.04 62.1567 1231.04 Q66.1613 1231.04 68.4993 1228.93 Q70.8372 1226.83 70.8372 1223.22 Q70.8372 1219.6 68.4993 1217.5 Q66.1613 1215.39 62.1567 1215.39 Q60.2817 1215.39 58.4067 1215.81 Q56.5549 1216.23 54.6105 1217.1 L54.6105 1199.74 Z\" fill=\"#000000\" fill-rule=\"evenodd\" fill-opacity=\"1\" /><path clip-path=\"url(#clip590)\" d=\"M84.726 1228.42 L89.6103 1228.42 L89.6103 1234.3 L84.726 1234.3 L84.726 1228.42 Z\" fill=\"#000000\" fill-rule=\"evenodd\" fill-opacity=\"1\" /><path clip-path=\"url(#clip590)\" d=\"M109.795 1202.82 Q106.184 1202.82 104.356 1206.39 Q102.55 1209.93 102.55 1217.06 Q102.55 1224.16 104.356 1227.73 Q106.184 1231.27 109.795 1231.27 Q113.43 1231.27 115.235 1227.73 Q117.064 1224.16 117.064 1217.06 Q117.064 1209.93 115.235 1206.39 Q113.43 1202.82 109.795 1202.82 M109.795 1199.12 Q115.605 1199.12 118.661 1203.73 Q121.74 1208.31 121.74 1217.06 Q121.74 1225.79 118.661 1230.39 Q115.605 1234.98 109.795 1234.98 Q103.985 1234.98 100.906 1230.39 Q97.851 1225.79 97.851 1217.06 Q97.851 1208.31 100.906 1203.73 Q103.985 1199.12 109.795 1199.12 Z\" fill=\"#000000\" fill-rule=\"evenodd\" fill-opacity=\"1\" /><path clip-path=\"url(#clip590)\" d=\"M139.957 1202.82 Q136.346 1202.82 134.517 1206.39 Q132.712 1209.93 132.712 1217.06 Q132.712 1224.16 134.517 1227.73 Q136.346 1231.27 139.957 1231.27 Q143.591 1231.27 145.397 1227.73 Q147.226 1224.16 147.226 1217.06 Q147.226 1209.93 145.397 1206.39 Q143.591 1202.82 139.957 1202.82 M139.957 1199.12 Q145.767 1199.12 148.823 1203.73 Q151.902 1208.31 151.902 1217.06 Q151.902 1225.79 148.823 1230.39 Q145.767 1234.98 139.957 1234.98 Q134.147 1234.98 131.068 1230.39 Q128.013 1225.79 128.013 1217.06 Q128.013 1208.31 131.068 1203.73 Q134.147 1199.12 139.957 1199.12 Z\" fill=\"#000000\" fill-rule=\"evenodd\" fill-opacity=\"1\" /><path clip-path=\"url(#clip590)\" d=\"M188.29 1208.84 L177.712 1219.47 L188.29 1230.04 L185.536 1232.85 L174.911 1222.22 L164.286 1232.85 L161.554 1230.04 L172.11 1219.47 L161.554 1208.84 L164.286 1206.04 L174.911 1216.67 L185.536 1206.04 L188.29 1208.84 Z\" fill=\"#000000\" fill-rule=\"evenodd\" fill-opacity=\"1\" /><path clip-path=\"url(#clip590)\" d=\"M200.651 1230.37 L208.29 1230.37 L208.29 1204 L199.98 1205.67 L199.98 1201.41 L208.244 1199.74 L212.92 1199.74 L212.92 1230.37 L220.559 1230.37 L220.559 1234.3 L200.651 1234.3 L200.651 1230.37 Z\" fill=\"#000000\" fill-rule=\"evenodd\" fill-opacity=\"1\" /><path clip-path=\"url(#clip590)\" d=\"M240.003 1202.82 Q236.392 1202.82 234.563 1206.39 Q232.758 1209.93 232.758 1217.06 Q232.758 1224.16 234.563 1227.73 Q236.392 1231.27 240.003 1231.27 Q243.637 1231.27 245.443 1227.73 Q247.271 1224.16 247.271 1217.06 Q247.271 1209.93 245.443 1206.39 Q243.637 1202.82 240.003 1202.82 M240.003 1199.12 Q245.813 1199.12 248.869 1203.73 Q251.947 1208.31 251.947 1217.06 Q251.947 1225.79 248.869 1230.39 Q245.813 1234.98 240.003 1234.98 Q234.193 1234.98 231.114 1230.39 Q228.059 1225.79 228.059 1217.06 Q228.059 1208.31 231.114 1203.73 Q234.193 1199.12 240.003 1199.12 Z\" fill=\"#000000\" fill-rule=\"evenodd\" fill-opacity=\"1\" /><path clip-path=\"url(#clip590)\" d=\"M264.643 1191.75 Q267.37 1192.34 268.893 1194.18 Q270.435 1196.02 270.435 1198.73 Q270.435 1202.89 267.577 1205.16 Q264.718 1207.44 259.452 1207.44 Q257.684 1207.44 255.803 1207.08 Q253.941 1206.74 251.947 1206.05 L251.947 1202.38 Q253.527 1203.3 255.408 1203.77 Q257.289 1204.24 259.339 1204.24 Q262.912 1204.24 264.774 1202.83 Q266.655 1201.42 266.655 1198.73 Q266.655 1196.25 264.906 1194.86 Q263.176 1193.45 260.072 1193.45 L256.8 1193.45 L256.8 1190.32 L260.223 1190.32 Q263.025 1190.32 264.511 1189.21 Q265.997 1188.09 265.997 1185.98 Q265.997 1183.82 264.455 1182.67 Q262.931 1181.5 260.072 1181.5 Q258.511 1181.5 256.725 1181.84 Q254.938 1182.18 252.794 1182.89 L252.794 1179.51 Q254.957 1178.91 256.837 1178.61 Q258.737 1178.31 260.411 1178.31 Q264.737 1178.31 267.257 1180.28 Q269.777 1182.24 269.777 1185.58 Q269.777 1187.92 268.442 1189.53 Q267.106 1191.13 264.643 1191.75 Z\" fill=\"#000000\" fill-rule=\"evenodd\" fill-opacity=\"1\" /><path clip-path=\"url(#clip590)\" d=\"M53.3995 992.902 L61.0384 992.902 L61.0384 966.536 L52.7282 968.203 L52.7282 963.944 L60.9921 962.277 L65.668 962.277 L65.668 992.902 L73.3068 992.902 L73.3068 996.837 L53.3995 996.837 L53.3995 992.902 Z\" fill=\"#000000\" fill-rule=\"evenodd\" fill-opacity=\"1\" /><path clip-path=\"url(#clip590)\" d=\"M82.7512 990.958 L87.6354 990.958 L87.6354 996.837 L82.7512 996.837 L82.7512 990.958 Z\" fill=\"#000000\" fill-rule=\"evenodd\" fill-opacity=\"1\" /><path clip-path=\"url(#clip590)\" d=\"M107.821 965.356 Q104.209 965.356 102.381 968.921 Q100.575 972.462 100.575 979.592 Q100.575 986.698 102.381 990.263 Q104.209 993.805 107.821 993.805 Q111.455 993.805 113.26 990.263 Q115.089 986.698 115.089 979.592 Q115.089 972.462 113.26 968.921 Q111.455 965.356 107.821 965.356 M107.821 961.652 Q113.631 961.652 116.686 966.259 Q119.765 970.842 119.765 979.592 Q119.765 988.319 116.686 992.925 Q113.631 997.508 107.821 997.508 Q102.01 997.508 98.9317 992.925 Q95.8761 988.319 95.8761 979.592 Q95.8761 970.842 98.9317 966.259 Q102.01 961.652 107.821 961.652 Z\" fill=\"#000000\" fill-rule=\"evenodd\" fill-opacity=\"1\" /><path clip-path=\"url(#clip590)\" d=\"M137.982 965.356 Q134.371 965.356 132.543 968.921 Q130.737 972.462 130.737 979.592 Q130.737 986.698 132.543 990.263 Q134.371 993.805 137.982 993.805 Q141.617 993.805 143.422 990.263 Q145.251 986.698 145.251 979.592 Q145.251 972.462 143.422 968.921 Q141.617 965.356 137.982 965.356 M137.982 961.652 Q143.793 961.652 146.848 966.259 Q149.927 970.842 149.927 979.592 Q149.927 988.319 146.848 992.925 Q143.793 997.508 137.982 997.508 Q132.172 997.508 129.094 992.925 Q126.038 988.319 126.038 979.592 Q126.038 970.842 129.094 966.259 Q132.172 961.652 137.982 961.652 Z\" fill=\"#000000\" fill-rule=\"evenodd\" fill-opacity=\"1\" /><path clip-path=\"url(#clip590)\" d=\"M186.315 971.374 L175.737 981.999 L186.315 992.578 L183.561 995.379 L172.936 984.754 L162.311 995.379 L159.58 992.578 L170.135 981.999 L159.58 971.374 L162.311 968.573 L172.936 979.198 L183.561 968.573 L186.315 971.374 Z\" fill=\"#000000\" fill-rule=\"evenodd\" fill-opacity=\"1\" /><path clip-path=\"url(#clip590)\" d=\"M198.677 992.902 L206.315 992.902 L206.315 966.536 L198.005 968.203 L198.005 963.944 L206.269 962.277 L210.945 962.277 L210.945 992.902 L218.584 992.902 L218.584 996.837 L198.677 996.837 L198.677 992.902 Z\" fill=\"#000000\" fill-rule=\"evenodd\" fill-opacity=\"1\" /><path clip-path=\"url(#clip590)\" d=\"M238.028 965.356 Q234.417 965.356 232.588 968.921 Q230.783 972.462 230.783 979.592 Q230.783 986.698 232.588 990.263 Q234.417 993.805 238.028 993.805 Q241.662 993.805 243.468 990.263 Q245.297 986.698 245.297 979.592 Q245.297 972.462 243.468 968.921 Q241.662 965.356 238.028 965.356 M238.028 961.652 Q243.838 961.652 246.894 966.259 Q249.973 970.842 249.973 979.592 Q249.973 988.319 246.894 992.925 Q243.838 997.508 238.028 997.508 Q232.218 997.508 229.139 992.925 Q226.084 988.319 226.084 979.592 Q226.084 970.842 229.139 966.259 Q232.218 961.652 238.028 961.652 Z\" fill=\"#000000\" fill-rule=\"evenodd\" fill-opacity=\"1\" /><path clip-path=\"url(#clip590)\" d=\"M262.649 944.657 L253.057 959.647 L262.649 959.647 L262.649 944.657 M261.652 941.347 L266.429 941.347 L266.429 959.647 L270.435 959.647 L270.435 962.806 L266.429 962.806 L266.429 969.427 L262.649 969.427 L262.649 962.806 L249.973 962.806 L249.973 959.139 L261.652 941.347 Z\" fill=\"#000000\" fill-rule=\"evenodd\" fill-opacity=\"1\" /><path clip-path=\"url(#clip590)\" d=\"M53.3995 755.435 L61.0384 755.435 L61.0384 729.07 L52.7282 730.736 L52.7282 726.477 L60.9921 724.81 L65.668 724.81 L65.668 755.435 L73.3068 755.435 L73.3068 759.37 L53.3995 759.37 L53.3995 755.435 Z\" fill=\"#000000\" fill-rule=\"evenodd\" fill-opacity=\"1\" /><path clip-path=\"url(#clip590)\" d=\"M82.7512 753.491 L87.6354 753.491 L87.6354 759.37 L82.7512 759.37 L82.7512 753.491 Z\" fill=\"#000000\" fill-rule=\"evenodd\" fill-opacity=\"1\" /><path clip-path=\"url(#clip590)\" d=\"M97.8669 724.81 L116.223 724.81 L116.223 728.746 L102.149 728.746 L102.149 737.218 Q103.168 736.871 104.186 736.709 Q105.205 736.523 106.223 736.523 Q112.01 736.523 115.39 739.695 Q118.77 742.866 118.77 748.283 Q118.77 753.861 115.297 756.963 Q111.825 760.042 105.506 760.042 Q103.33 760.042 101.061 759.671 Q98.8159 759.301 96.4085 758.56 L96.4085 753.861 Q98.4919 754.995 100.714 755.551 Q102.936 756.107 105.413 756.107 Q109.418 756.107 111.756 754 Q114.094 751.894 114.094 748.283 Q114.094 744.671 111.756 742.565 Q109.418 740.459 105.413 740.459 Q103.538 740.459 101.663 740.875 Q99.8113 741.292 97.8669 742.171 L97.8669 724.81 Z\" fill=\"#000000\" fill-rule=\"evenodd\" fill-opacity=\"1\" /><path clip-path=\"url(#clip590)\" d=\"M137.982 727.889 Q134.371 727.889 132.543 731.454 Q130.737 734.996 130.737 742.125 Q130.737 749.232 132.543 752.796 Q134.371 756.338 137.982 756.338 Q141.617 756.338 143.422 752.796 Q145.251 749.232 145.251 742.125 Q145.251 734.996 143.422 731.454 Q141.617 727.889 137.982 727.889 M137.982 724.185 Q143.793 724.185 146.848 728.792 Q149.927 733.375 149.927 742.125 Q149.927 750.852 146.848 755.458 Q143.793 760.042 137.982 760.042 Q132.172 760.042 129.094 755.458 Q126.038 750.852 126.038 742.125 Q126.038 733.375 129.094 728.792 Q132.172 724.185 137.982 724.185 Z\" fill=\"#000000\" fill-rule=\"evenodd\" fill-opacity=\"1\" /><path clip-path=\"url(#clip590)\" d=\"M186.315 733.908 L175.737 744.533 L186.315 755.111 L183.561 757.912 L172.936 747.287 L162.311 757.912 L159.58 755.111 L170.135 744.533 L159.58 733.908 L162.311 731.107 L172.936 741.732 L183.561 731.107 L186.315 733.908 Z\" fill=\"#000000\" fill-rule=\"evenodd\" fill-opacity=\"1\" /><path clip-path=\"url(#clip590)\" d=\"M198.677 755.435 L206.315 755.435 L206.315 729.07 L198.005 730.736 L198.005 726.477 L206.269 724.81 L210.945 724.81 L210.945 755.435 L218.584 755.435 L218.584 759.37 L198.677 759.37 L198.677 755.435 Z\" fill=\"#000000\" fill-rule=\"evenodd\" fill-opacity=\"1\" /><path clip-path=\"url(#clip590)\" d=\"M238.028 727.889 Q234.417 727.889 232.588 731.454 Q230.783 734.996 230.783 742.125 Q230.783 749.232 232.588 752.796 Q234.417 756.338 238.028 756.338 Q241.662 756.338 243.468 752.796 Q245.297 749.232 245.297 742.125 Q245.297 734.996 243.468 731.454 Q241.662 727.889 238.028 727.889 M238.028 724.185 Q243.838 724.185 246.894 728.792 Q249.973 733.375 249.973 742.125 Q249.973 750.852 246.894 755.458 Q243.838 760.042 238.028 760.042 Q232.218 760.042 229.139 755.458 Q226.084 750.852 226.084 742.125 Q226.084 733.375 229.139 728.792 Q232.218 724.185 238.028 724.185 Z\" fill=\"#000000\" fill-rule=\"evenodd\" fill-opacity=\"1\" /><path clip-path=\"url(#clip590)\" d=\"M262.649 707.19 L253.057 722.18 L262.649 722.18 L262.649 707.19 M261.652 703.88 L266.429 703.88 L266.429 722.18 L270.435 722.18 L270.435 725.34 L266.429 725.34 L266.429 731.96 L262.649 731.96 L262.649 725.34 L249.973 725.34 L249.973 721.672 L261.652 703.88 Z\" fill=\"#000000\" fill-rule=\"evenodd\" fill-opacity=\"1\" /><path clip-path=\"url(#clip590)\" d=\"M56.6171 517.969 L72.9365 517.969 L72.9365 521.904 L50.9921 521.904 L50.9921 517.969 Q53.6541 515.214 58.2375 510.584 Q62.8439 505.932 64.0245 504.589 Q66.2698 502.066 67.1494 500.33 Q68.0522 498.571 68.0522 496.881 Q68.0522 494.126 66.1078 492.39 Q64.1865 490.654 61.0847 490.654 Q58.8856 490.654 56.4319 491.418 Q54.0014 492.182 51.2236 493.733 L51.2236 489.01 Q54.0477 487.876 56.5014 487.298 Q58.955 486.719 60.9921 486.719 Q66.3624 486.719 69.5568 489.404 Q72.7513 492.089 72.7513 496.58 Q72.7513 498.709 71.9411 500.631 Q71.1541 502.529 69.0476 505.121 Q68.4689 505.793 65.367 509.01 Q62.2652 512.205 56.6171 517.969 Z\" fill=\"#000000\" fill-rule=\"evenodd\" fill-opacity=\"1\" /><path clip-path=\"url(#clip590)\" d=\"M82.7512 516.024 L87.6354 516.024 L87.6354 521.904 L82.7512 521.904 L82.7512 516.024 Z\" fill=\"#000000\" fill-rule=\"evenodd\" fill-opacity=\"1\" /><path clip-path=\"url(#clip590)\" d=\"M107.821 490.422 Q104.209 490.422 102.381 493.987 Q100.575 497.529 100.575 504.659 Q100.575 511.765 102.381 515.33 Q104.209 518.871 107.821 518.871 Q111.455 518.871 113.26 515.33 Q115.089 511.765 115.089 504.659 Q115.089 497.529 113.26 493.987 Q111.455 490.422 107.821 490.422 M107.821 486.719 Q113.631 486.719 116.686 491.325 Q119.765 495.909 119.765 504.659 Q119.765 513.385 116.686 517.992 Q113.631 522.575 107.821 522.575 Q102.01 522.575 98.9317 517.992 Q95.8761 513.385 95.8761 504.659 Q95.8761 495.909 98.9317 491.325 Q102.01 486.719 107.821 486.719 Z\" fill=\"#000000\" fill-rule=\"evenodd\" fill-opacity=\"1\" /><path clip-path=\"url(#clip590)\" d=\"M137.982 490.422 Q134.371 490.422 132.543 493.987 Q130.737 497.529 130.737 504.659 Q130.737 511.765 132.543 515.33 Q134.371 518.871 137.982 518.871 Q141.617 518.871 143.422 515.33 Q145.251 511.765 145.251 504.659 Q145.251 497.529 143.422 493.987 Q141.617 490.422 137.982 490.422 M137.982 486.719 Q143.793 486.719 146.848 491.325 Q149.927 495.909 149.927 504.659 Q149.927 513.385 146.848 517.992 Q143.793 522.575 137.982 522.575 Q132.172 522.575 129.094 517.992 Q126.038 513.385 126.038 504.659 Q126.038 495.909 129.094 491.325 Q132.172 486.719 137.982 486.719 Z\" fill=\"#000000\" fill-rule=\"evenodd\" fill-opacity=\"1\" /><path clip-path=\"url(#clip590)\" d=\"M186.315 496.441 L175.737 507.066 L186.315 517.645 L183.561 520.445 L172.936 509.821 L162.311 520.445 L159.58 517.645 L170.135 507.066 L159.58 496.441 L162.311 493.64 L172.936 504.265 L183.561 493.64 L186.315 496.441 Z\" fill=\"#000000\" fill-rule=\"evenodd\" fill-opacity=\"1\" /><path clip-path=\"url(#clip590)\" d=\"M198.677 517.969 L206.315 517.969 L206.315 491.603 L198.005 493.27 L198.005 489.01 L206.269 487.344 L210.945 487.344 L210.945 517.969 L218.584 517.969 L218.584 521.904 L198.677 521.904 L198.677 517.969 Z\" fill=\"#000000\" fill-rule=\"evenodd\" fill-opacity=\"1\" /><path clip-path=\"url(#clip590)\" d=\"M238.028 490.422 Q234.417 490.422 232.588 493.987 Q230.783 497.529 230.783 504.659 Q230.783 511.765 232.588 515.33 Q234.417 518.871 238.028 518.871 Q241.662 518.871 243.468 515.33 Q245.297 511.765 245.297 504.659 Q245.297 497.529 243.468 493.987 Q241.662 490.422 238.028 490.422 M238.028 486.719 Q243.838 486.719 246.894 491.325 Q249.973 495.909 249.973 504.659 Q249.973 513.385 246.894 517.992 Q243.838 522.575 238.028 522.575 Q232.218 522.575 229.139 517.992 Q226.084 513.385 226.084 504.659 Q226.084 495.909 229.139 491.325 Q232.218 486.719 238.028 486.719 Z\" fill=\"#000000\" fill-rule=\"evenodd\" fill-opacity=\"1\" /><path clip-path=\"url(#clip590)\" d=\"M262.649 469.724 L253.057 484.713 L262.649 484.713 L262.649 469.724 M261.652 466.413 L266.429 466.413 L266.429 484.713 L270.435 484.713 L270.435 487.873 L266.429 487.873 L266.429 494.493 L262.649 494.493 L262.649 487.873 L249.973 487.873 L249.973 484.206 L261.652 466.413 Z\" fill=\"#000000\" fill-rule=\"evenodd\" fill-opacity=\"1\" /><path clip-path=\"url(#clip590)\" d=\"M56.6171 280.502 L72.9365 280.502 L72.9365 284.437 L50.9921 284.437 L50.9921 280.502 Q53.6541 277.747 58.2375 273.118 Q62.8439 268.465 64.0245 267.122 Q66.2698 264.599 67.1494 262.863 Q68.0522 261.104 68.0522 259.414 Q68.0522 256.66 66.1078 254.923 Q64.1865 253.187 61.0847 253.187 Q58.8856 253.187 56.4319 253.951 Q54.0014 254.715 51.2236 256.266 L51.2236 251.544 Q54.0477 250.41 56.5014 249.831 Q58.955 249.252 60.9921 249.252 Q66.3624 249.252 69.5568 251.937 Q72.7513 254.622 72.7513 259.113 Q72.7513 261.243 71.9411 263.164 Q71.1541 265.062 69.0476 267.655 Q68.4689 268.326 65.367 271.544 Q62.2652 274.738 56.6171 280.502 Z\" fill=\"#000000\" fill-rule=\"evenodd\" fill-opacity=\"1\" /><path clip-path=\"url(#clip590)\" d=\"M82.7512 278.558 L87.6354 278.558 L87.6354 284.437 L82.7512 284.437 L82.7512 278.558 Z\" fill=\"#000000\" fill-rule=\"evenodd\" fill-opacity=\"1\" /><path clip-path=\"url(#clip590)\" d=\"M97.8669 249.877 L116.223 249.877 L116.223 253.812 L102.149 253.812 L102.149 262.284 Q103.168 261.937 104.186 261.775 Q105.205 261.59 106.223 261.59 Q112.01 261.59 115.39 264.761 Q118.77 267.933 118.77 273.349 Q118.77 278.928 115.297 282.03 Q111.825 285.108 105.506 285.108 Q103.33 285.108 101.061 284.738 Q98.8159 284.368 96.4085 283.627 L96.4085 278.928 Q98.4919 280.062 100.714 280.618 Q102.936 281.173 105.413 281.173 Q109.418 281.173 111.756 279.067 Q114.094 276.96 114.094 273.349 Q114.094 269.738 111.756 267.632 Q109.418 265.525 105.413 265.525 Q103.538 265.525 101.663 265.942 Q99.8113 266.359 97.8669 267.238 L97.8669 249.877 Z\" fill=\"#000000\" fill-rule=\"evenodd\" fill-opacity=\"1\" /><path clip-path=\"url(#clip590)\" d=\"M137.982 252.956 Q134.371 252.956 132.543 256.521 Q130.737 260.062 130.737 267.192 Q130.737 274.298 132.543 277.863 Q134.371 281.405 137.982 281.405 Q141.617 281.405 143.422 277.863 Q145.251 274.298 145.251 267.192 Q145.251 260.062 143.422 256.521 Q141.617 252.956 137.982 252.956 M137.982 249.252 Q143.793 249.252 146.848 253.859 Q149.927 258.442 149.927 267.192 Q149.927 275.919 146.848 280.525 Q143.793 285.108 137.982 285.108 Q132.172 285.108 129.094 280.525 Q126.038 275.919 126.038 267.192 Q126.038 258.442 129.094 253.859 Q132.172 249.252 137.982 249.252 Z\" fill=\"#000000\" fill-rule=\"evenodd\" fill-opacity=\"1\" /><path clip-path=\"url(#clip590)\" d=\"M186.315 258.974 L175.737 269.599 L186.315 280.178 L183.561 282.979 L172.936 272.354 L162.311 282.979 L159.58 280.178 L170.135 269.599 L159.58 258.974 L162.311 256.173 L172.936 266.798 L183.561 256.173 L186.315 258.974 Z\" fill=\"#000000\" fill-rule=\"evenodd\" fill-opacity=\"1\" /><path clip-path=\"url(#clip590)\" d=\"M198.677 280.502 L206.315 280.502 L206.315 254.136 L198.005 255.803 L198.005 251.544 L206.269 249.877 L210.945 249.877 L210.945 280.502 L218.584 280.502 L218.584 284.437 L198.677 284.437 L198.677 280.502 Z\" fill=\"#000000\" fill-rule=\"evenodd\" fill-opacity=\"1\" /><path clip-path=\"url(#clip590)\" d=\"M238.028 252.956 Q234.417 252.956 232.588 256.521 Q230.783 260.062 230.783 267.192 Q230.783 274.298 232.588 277.863 Q234.417 281.405 238.028 281.405 Q241.662 281.405 243.468 277.863 Q245.297 274.298 245.297 267.192 Q245.297 260.062 243.468 256.521 Q241.662 252.956 238.028 252.956 M238.028 249.252 Q243.838 249.252 246.894 253.859 Q249.973 258.442 249.973 267.192 Q249.973 275.919 246.894 280.525 Q243.838 285.108 238.028 285.108 Q232.218 285.108 229.139 280.525 Q226.084 275.919 226.084 267.192 Q226.084 258.442 229.139 253.859 Q232.218 249.252 238.028 249.252 Z\" fill=\"#000000\" fill-rule=\"evenodd\" fill-opacity=\"1\" /><path clip-path=\"url(#clip590)\" d=\"M262.649 232.257 L253.057 247.247 L262.649 247.247 L262.649 232.257 M261.652 228.947 L266.429 228.947 L266.429 247.247 L270.435 247.247 L270.435 250.406 L266.429 250.406 L266.429 257.027 L262.649 257.027 L262.649 250.406 L249.973 250.406 L249.973 246.739 L261.652 228.947 Z\" fill=\"#000000\" fill-rule=\"evenodd\" fill-opacity=\"1\" /><path clip-path=\"url(#clip592)\" d=\"M2294.84 71.9763 L2278.84 87.9763 L2294.84 103.976 L2310.84 87.9763 L2294.84 71.9763 Z\" fill=\"#009af9\" fill-rule=\"evenodd\" fill-opacity=\"1\" stroke=\"#000000\" stroke-opacity=\"1\" stroke-width=\"3.2\"/>\n",
       "<path clip-path=\"url(#clip592)\" d=\"M2272.8 72.1188 L2256.8 88.1188 L2272.8 104.119 L2288.8 88.1188 L2272.8 72.1188 Z\" fill=\"#009af9\" fill-rule=\"evenodd\" fill-opacity=\"1\" stroke=\"#000000\" stroke-opacity=\"1\" stroke-width=\"3.2\"/>\n",
       "<path clip-path=\"url(#clip592)\" d=\"M2250.75 72.0713 L2234.75 88.0713 L2250.75 104.071 L2266.75 88.0713 L2250.75 72.0713 Z\" fill=\"#009af9\" fill-rule=\"evenodd\" fill-opacity=\"1\" stroke=\"#000000\" stroke-opacity=\"1\" stroke-width=\"3.2\"/>\n",
       "<path clip-path=\"url(#clip592)\" d=\"M2228.71 73.4011 L2212.71 89.4011 L2228.71 105.401 L2244.71 89.4011 L2228.71 73.4011 Z\" fill=\"#009af9\" fill-rule=\"evenodd\" fill-opacity=\"1\" stroke=\"#000000\" stroke-opacity=\"1\" stroke-width=\"3.2\"/>\n",
       "<path clip-path=\"url(#clip592)\" d=\"M2197.21 76.6306 L2181.21 92.6306 L2197.21 108.631 L2213.21 92.6306 L2197.21 76.6306 Z\" fill=\"#009af9\" fill-rule=\"evenodd\" fill-opacity=\"1\" stroke=\"#000000\" stroke-opacity=\"1\" stroke-width=\"3.2\"/>\n",
       "<path clip-path=\"url(#clip592)\" d=\"M2175.17 79.6227 L2159.17 95.6227 L2175.17 111.623 L2191.17 95.6227 L2175.17 79.6227 Z\" fill=\"#009af9\" fill-rule=\"evenodd\" fill-opacity=\"1\" stroke=\"#000000\" stroke-opacity=\"1\" stroke-width=\"3.2\"/>\n",
       "<path clip-path=\"url(#clip592)\" d=\"M2153.12 80.6676 L2137.12 96.6676 L2153.12 112.668 L2169.12 96.6676 L2153.12 80.6676 Z\" fill=\"#009af9\" fill-rule=\"evenodd\" fill-opacity=\"1\" stroke=\"#000000\" stroke-opacity=\"1\" stroke-width=\"3.2\"/>\n",
       "<path clip-path=\"url(#clip592)\" d=\"M2109.04 83.8021 L2093.04 99.8021 L2109.04 115.802 L2125.04 99.8021 L2109.04 83.8021 Z\" fill=\"#009af9\" fill-rule=\"evenodd\" fill-opacity=\"1\" stroke=\"#000000\" stroke-opacity=\"1\" stroke-width=\"3.2\"/>\n",
       "<path clip-path=\"url(#clip592)\" d=\"M2086.99 88.219 L2070.99 104.219 L2086.99 120.219 L2102.99 104.219 L2086.99 88.219 Z\" fill=\"#009af9\" fill-rule=\"evenodd\" fill-opacity=\"1\" stroke=\"#000000\" stroke-opacity=\"1\" stroke-width=\"3.2\"/>\n",
       "<path clip-path=\"url(#clip592)\" d=\"M2064.95 91.781 L2048.95 107.781 L2064.95 123.781 L2080.95 107.781 L2064.95 91.781 Z\" fill=\"#009af9\" fill-rule=\"evenodd\" fill-opacity=\"1\" stroke=\"#000000\" stroke-opacity=\"1\" stroke-width=\"3.2\"/>\n",
       "<path clip-path=\"url(#clip592)\" d=\"M2042.9 95.248 L2026.9 111.248 L2042.9 127.248 L2058.9 111.248 L2042.9 95.248 Z\" fill=\"#009af9\" fill-rule=\"evenodd\" fill-opacity=\"1\" stroke=\"#000000\" stroke-opacity=\"1\" stroke-width=\"3.2\"/>\n",
       "<path clip-path=\"url(#clip592)\" d=\"M2020.86 98.7625 L2004.86 114.763 L2020.86 130.763 L2036.86 114.763 L2020.86 98.7625 Z\" fill=\"#009af9\" fill-rule=\"evenodd\" fill-opacity=\"1\" stroke=\"#000000\" stroke-opacity=\"1\" stroke-width=\"3.2\"/>\n",
       "<path clip-path=\"url(#clip592)\" d=\"M1976.77 104.509 L1960.77 120.509 L1976.77 136.509 L1992.77 120.509 L1976.77 104.509 Z\" fill=\"#009af9\" fill-rule=\"evenodd\" fill-opacity=\"1\" stroke=\"#000000\" stroke-opacity=\"1\" stroke-width=\"3.2\"/>\n",
       "<path clip-path=\"url(#clip592)\" d=\"M1954.72 105.602 L1938.72 121.602 L1954.72 137.602 L1970.72 121.602 L1954.72 105.602 Z\" fill=\"#009af9\" fill-rule=\"evenodd\" fill-opacity=\"1\" stroke=\"#000000\" stroke-opacity=\"1\" stroke-width=\"3.2\"/>\n",
       "<path clip-path=\"url(#clip592)\" d=\"M1910.63 114.198 L1894.63 130.198 L1910.63 146.198 L1926.63 130.198 L1910.63 114.198 Z\" fill=\"#009af9\" fill-rule=\"evenodd\" fill-opacity=\"1\" stroke=\"#000000\" stroke-opacity=\"1\" stroke-width=\"3.2\"/>\n",
       "<path clip-path=\"url(#clip592)\" d=\"M1866.54 119.232 L1850.54 135.232 L1866.54 151.232 L1882.54 135.232 L1866.54 119.232 Z\" fill=\"#009af9\" fill-rule=\"evenodd\" fill-opacity=\"1\" stroke=\"#000000\" stroke-opacity=\"1\" stroke-width=\"3.2\"/>\n",
       "<path clip-path=\"url(#clip592)\" d=\"M1844.5 122.509 L1828.5 138.509 L1844.5 154.509 L1860.5 138.509 L1844.5 122.509 Z\" fill=\"#009af9\" fill-rule=\"evenodd\" fill-opacity=\"1\" stroke=\"#000000\" stroke-opacity=\"1\" stroke-width=\"3.2\"/>\n",
       "<path clip-path=\"url(#clip592)\" d=\"M1822.45 125.311 L1806.45 141.311 L1822.45 157.311 L1838.45 141.311 L1822.45 125.311 Z\" fill=\"#009af9\" fill-rule=\"evenodd\" fill-opacity=\"1\" stroke=\"#000000\" stroke-opacity=\"1\" stroke-width=\"3.2\"/>\n",
       "<path clip-path=\"url(#clip592)\" d=\"M1800.41 128.683 L1784.41 144.683 L1800.41 160.683 L1816.41 144.683 L1800.41 128.683 Z\" fill=\"#009af9\" fill-rule=\"evenodd\" fill-opacity=\"1\" stroke=\"#000000\" stroke-opacity=\"1\" stroke-width=\"3.2\"/>\n",
       "<path clip-path=\"url(#clip592)\" d=\"M1778.36 135.237 L1762.36 151.237 L1778.36 167.237 L1794.36 151.237 L1778.36 135.237 Z\" fill=\"#009af9\" fill-rule=\"evenodd\" fill-opacity=\"1\" stroke=\"#000000\" stroke-opacity=\"1\" stroke-width=\"3.2\"/>\n",
       "<path clip-path=\"url(#clip592)\" d=\"M1734.27 144.499 L1718.27 160.499 L1734.27 176.499 L1750.27 160.499 L1734.27 144.499 Z\" fill=\"#009af9\" fill-rule=\"evenodd\" fill-opacity=\"1\" stroke=\"#000000\" stroke-opacity=\"1\" stroke-width=\"3.2\"/>\n",
       "<path clip-path=\"url(#clip592)\" d=\"M1690.18 154.567 L1674.18 170.567 L1690.18 186.567 L1706.18 170.567 L1690.18 154.567 Z\" fill=\"#009af9\" fill-rule=\"evenodd\" fill-opacity=\"1\" stroke=\"#000000\" stroke-opacity=\"1\" stroke-width=\"3.2\"/>\n",
       "<path clip-path=\"url(#clip592)\" d=\"M1646.1 170.715 L1630.1 186.715 L1646.1 202.715 L1662.1 186.715 L1646.1 170.715 Z\" fill=\"#009af9\" fill-rule=\"evenodd\" fill-opacity=\"1\" stroke=\"#000000\" stroke-opacity=\"1\" stroke-width=\"3.2\"/>\n",
       "<path clip-path=\"url(#clip592)\" d=\"M1602.01 196.789 L1586.01 212.789 L1602.01 228.789 L1618.01 212.789 L1602.01 196.789 Z\" fill=\"#009af9\" fill-rule=\"evenodd\" fill-opacity=\"1\" stroke=\"#000000\" stroke-opacity=\"1\" stroke-width=\"3.2\"/>\n",
       "<path clip-path=\"url(#clip592)\" d=\"M1557.92 221.913 L1541.92 237.913 L1557.92 253.913 L1573.92 237.913 L1557.92 221.913 Z\" fill=\"#009af9\" fill-rule=\"evenodd\" fill-opacity=\"1\" stroke=\"#000000\" stroke-opacity=\"1\" stroke-width=\"3.2\"/>\n",
       "<path clip-path=\"url(#clip592)\" d=\"M1513.83 252.451 L1497.83 268.451 L1513.83 284.451 L1529.83 268.451 L1513.83 252.451 Z\" fill=\"#009af9\" fill-rule=\"evenodd\" fill-opacity=\"1\" stroke=\"#000000\" stroke-opacity=\"1\" stroke-width=\"3.2\"/>\n",
       "<path clip-path=\"url(#clip592)\" d=\"M1469.74 278.81 L1453.74 294.81 L1469.74 310.81 L1485.74 294.81 L1469.74 278.81 Z\" fill=\"#009af9\" fill-rule=\"evenodd\" fill-opacity=\"1\" stroke=\"#000000\" stroke-opacity=\"1\" stroke-width=\"3.2\"/>\n",
       "<path clip-path=\"url(#clip592)\" d=\"M1425.65 308.398 L1409.65 324.398 L1425.65 340.398 L1441.65 324.398 L1425.65 308.398 Z\" fill=\"#009af9\" fill-rule=\"evenodd\" fill-opacity=\"1\" stroke=\"#000000\" stroke-opacity=\"1\" stroke-width=\"3.2\"/>\n",
       "<path clip-path=\"url(#clip592)\" d=\"M1381.56 348.055 L1365.56 364.055 L1381.56 380.055 L1397.56 364.055 L1381.56 348.055 Z\" fill=\"#009af9\" fill-rule=\"evenodd\" fill-opacity=\"1\" stroke=\"#000000\" stroke-opacity=\"1\" stroke-width=\"3.2\"/>\n",
       "<path clip-path=\"url(#clip592)\" d=\"M1337.47 386.145 L1321.47 402.145 L1337.47 418.145 L1353.47 402.145 L1337.47 386.145 Z\" fill=\"#009af9\" fill-rule=\"evenodd\" fill-opacity=\"1\" stroke=\"#000000\" stroke-opacity=\"1\" stroke-width=\"3.2\"/>\n",
       "<path clip-path=\"url(#clip592)\" d=\"M1293.38 423.949 L1277.38 439.949 L1293.38 455.949 L1309.38 439.949 L1293.38 423.949 Z\" fill=\"#009af9\" fill-rule=\"evenodd\" fill-opacity=\"1\" stroke=\"#000000\" stroke-opacity=\"1\" stroke-width=\"3.2\"/>\n",
       "<path clip-path=\"url(#clip592)\" d=\"M1249.29 474.055 L1233.29 490.055 L1249.29 506.055 L1265.29 490.055 L1249.29 474.055 Z\" fill=\"#009af9\" fill-rule=\"evenodd\" fill-opacity=\"1\" stroke=\"#000000\" stroke-opacity=\"1\" stroke-width=\"3.2\"/>\n",
       "<path clip-path=\"url(#clip592)\" d=\"M1205.2 550.329 L1189.2 566.329 L1205.2 582.329 L1221.2 566.329 L1205.2 550.329 Z\" fill=\"#009af9\" fill-rule=\"evenodd\" fill-opacity=\"1\" stroke=\"#000000\" stroke-opacity=\"1\" stroke-width=\"3.2\"/>\n",
       "<path clip-path=\"url(#clip592)\" d=\"M1161.11 619.432 L1145.11 635.432 L1161.11 651.432 L1177.11 635.432 L1161.11 619.432 Z\" fill=\"#009af9\" fill-rule=\"evenodd\" fill-opacity=\"1\" stroke=\"#000000\" stroke-opacity=\"1\" stroke-width=\"3.2\"/>\n",
       "<path clip-path=\"url(#clip592)\" d=\"M1123.32 705.822 L1107.32 721.822 L1123.32 737.822 L1139.32 721.822 L1123.32 705.822 Z\" fill=\"#009af9\" fill-rule=\"evenodd\" fill-opacity=\"1\" stroke=\"#000000\" stroke-opacity=\"1\" stroke-width=\"3.2\"/>\n",
       "<path clip-path=\"url(#clip592)\" d=\"M1072.93 813.917 L1056.93 829.917 L1072.93 845.917 L1088.93 829.917 L1072.93 813.917 Z\" fill=\"#009af9\" fill-rule=\"evenodd\" fill-opacity=\"1\" stroke=\"#000000\" stroke-opacity=\"1\" stroke-width=\"3.2\"/>\n",
       "<path clip-path=\"url(#clip592)\" d=\"M1028.84 961.336 L1012.84 977.336 L1028.84 993.336 L1044.84 977.336 L1028.84 961.336 Z\" fill=\"#009af9\" fill-rule=\"evenodd\" fill-opacity=\"1\" stroke=\"#000000\" stroke-opacity=\"1\" stroke-width=\"3.2\"/>\n",
       "<path clip-path=\"url(#clip592)\" d=\"M1006.8 1006.98 L990.797 1022.98 L1006.8 1038.98 L1022.8 1022.98 L1006.8 1006.98 Z\" fill=\"#009af9\" fill-rule=\"evenodd\" fill-opacity=\"1\" stroke=\"#000000\" stroke-opacity=\"1\" stroke-width=\"3.2\"/>\n",
       "<path clip-path=\"url(#clip592)\" d=\"M962.708 1091.56 L946.708 1107.56 L962.708 1123.56 L978.708 1107.56 L962.708 1091.56 Z\" fill=\"#009af9\" fill-rule=\"evenodd\" fill-opacity=\"1\" stroke=\"#000000\" stroke-opacity=\"1\" stroke-width=\"3.2\"/>\n",
       "<path clip-path=\"url(#clip592)\" d=\"M918.618 1179.05 L902.618 1195.05 L918.618 1211.05 L934.618 1195.05 L918.618 1179.05 Z\" fill=\"#009af9\" fill-rule=\"evenodd\" fill-opacity=\"1\" stroke=\"#000000\" stroke-opacity=\"1\" stroke-width=\"3.2\"/>\n",
       "<path clip-path=\"url(#clip592)\" d=\"M874.529 1258.03 L858.529 1274.03 L874.529 1290.03 L890.529 1274.03 L874.529 1258.03 Z\" fill=\"#009af9\" fill-rule=\"evenodd\" fill-opacity=\"1\" stroke=\"#000000\" stroke-opacity=\"1\" stroke-width=\"3.2\"/>\n",
       "<path clip-path=\"url(#clip592)\" d=\"M827.29 1326.37 L811.29 1342.37 L827.29 1358.37 L843.29 1342.37 L827.29 1326.37 Z\" fill=\"#009af9\" fill-rule=\"evenodd\" fill-opacity=\"1\" stroke=\"#000000\" stroke-opacity=\"1\" stroke-width=\"3.2\"/>\n",
       "<path clip-path=\"url(#clip592)\" d=\"M805.245 1344.89 L789.245 1360.89 L805.245 1376.89 L821.245 1360.89 L805.245 1344.89 Z\" fill=\"#009af9\" fill-rule=\"evenodd\" fill-opacity=\"1\" stroke=\"#000000\" stroke-opacity=\"1\" stroke-width=\"3.2\"/>\n",
       "<path clip-path=\"url(#clip592)\" d=\"M773.753 1363.79 L757.753 1379.79 L773.753 1395.79 L789.753 1379.79 L773.753 1363.79 Z\" fill=\"#009af9\" fill-rule=\"evenodd\" fill-opacity=\"1\" stroke=\"#000000\" stroke-opacity=\"1\" stroke-width=\"3.2\"/>\n",
       "<path clip-path=\"url(#clip592)\" d=\"M751.708 1375 L735.708 1391 L751.708 1407 L767.708 1391 L751.708 1375 Z\" fill=\"#009af9\" fill-rule=\"evenodd\" fill-opacity=\"1\" stroke=\"#000000\" stroke-opacity=\"1\" stroke-width=\"3.2\"/>\n",
       "<path clip-path=\"url(#clip592)\" d=\"M723.365 1385.4 L707.365 1401.4 L723.365 1417.4 L739.365 1401.4 L723.365 1385.4 Z\" fill=\"#009af9\" fill-rule=\"evenodd\" fill-opacity=\"1\" stroke=\"#000000\" stroke-opacity=\"1\" stroke-width=\"3.2\"/>\n",
       "<path clip-path=\"url(#clip592)\" d=\"M685.574 1395.05 L669.574 1411.05 L685.574 1427.05 L701.574 1411.05 L685.574 1395.05 Z\" fill=\"#009af9\" fill-rule=\"evenodd\" fill-opacity=\"1\" stroke=\"#000000\" stroke-opacity=\"1\" stroke-width=\"3.2\"/>\n",
       "<path clip-path=\"url(#clip592)\" d=\"M638.335 1406.97 L622.335 1422.97 L638.335 1438.97 L654.335 1422.97 L638.335 1406.97 Z\" fill=\"#009af9\" fill-rule=\"evenodd\" fill-opacity=\"1\" stroke=\"#000000\" stroke-opacity=\"1\" stroke-width=\"3.2\"/>\n",
       "<path clip-path=\"url(#clip592)\" d=\"M572.201 1417.37 L556.201 1433.37 L572.201 1449.37 L588.201 1433.37 L572.201 1417.37 Z\" fill=\"#009af9\" fill-rule=\"evenodd\" fill-opacity=\"1\" stroke=\"#000000\" stroke-opacity=\"1\" stroke-width=\"3.2\"/>\n",
       "<path clip-path=\"url(#clip592)\" d=\"M524.962 1419.69 L508.962 1435.69 L524.962 1451.69 L540.962 1435.69 L524.962 1419.69 Z\" fill=\"#009af9\" fill-rule=\"evenodd\" fill-opacity=\"1\" stroke=\"#000000\" stroke-opacity=\"1\" stroke-width=\"3.2\"/>\n",
       "<path clip-path=\"url(#clip592)\" d=\"M490.32 1420.69 L474.32 1436.69 L490.32 1452.69 L506.32 1436.69 L490.32 1420.69 Z\" fill=\"#009af9\" fill-rule=\"evenodd\" fill-opacity=\"1\" stroke=\"#000000\" stroke-opacity=\"1\" stroke-width=\"3.2\"/>\n",
       "<path clip-path=\"url(#clip592)\" d=\"M436.783 1423.68 L420.783 1439.68 L436.783 1455.68 L452.783 1439.68 L436.783 1423.68 Z\" fill=\"#009af9\" fill-rule=\"evenodd\" fill-opacity=\"1\" stroke=\"#000000\" stroke-opacity=\"1\" stroke-width=\"3.2\"/>\n",
       "<path clip-path=\"url(#clip592)\" d=\"M392.693 1425.87 L376.693 1441.87 L392.693 1457.87 L408.693 1441.87 L392.693 1425.87 Z\" fill=\"#009af9\" fill-rule=\"evenodd\" fill-opacity=\"1\" stroke=\"#000000\" stroke-opacity=\"1\" stroke-width=\"3.2\"/>\n",
       "<path clip-path=\"url(#clip592)\" d=\"M364.35 1429.72 L348.35 1445.72 L364.35 1461.72 L380.35 1445.72 L364.35 1429.72 Z\" fill=\"#009af9\" fill-rule=\"evenodd\" fill-opacity=\"1\" stroke=\"#000000\" stroke-opacity=\"1\" stroke-width=\"3.2\"/>\n",
       "<path clip-path=\"url(#clip590)\" d=\"\n",
       "M2004.75 198.898 L2284.55 198.898 L2284.55 95.2176 L2004.75 95.2176  Z\n",
       "  \" fill=\"#ffffff\" fill-rule=\"evenodd\" fill-opacity=\"1\"/>\n",
       "<polyline clip-path=\"url(#clip590)\" style=\"stroke:#000000; stroke-linecap:butt; stroke-linejoin:round; stroke-width:4; stroke-opacity:1; fill:none\" points=\"\n",
       "  2004.75,198.898 2284.55,198.898 2284.55,95.2176 2004.75,95.2176 2004.75,198.898 \n",
       "  \"/>\n",
       "<path clip-path=\"url(#clip590)\" d=\"M2095.69 121.458 L2070.09 147.058 L2095.69 172.658 L2121.29 147.058 L2095.69 121.458 Z\" fill=\"#009af9\" fill-rule=\"evenodd\" fill-opacity=\"1\" stroke=\"#000000\" stroke-opacity=\"1\" stroke-width=\"5.12\"/>\n",
       "<path clip-path=\"url(#clip590)\" d=\"M2200.48 166.745 Q2198.68 171.375 2196.97 172.787 Q2195.25 174.199 2192.38 174.199 L2188.98 174.199 L2188.98 170.634 L2191.48 170.634 Q2193.24 170.634 2194.21 169.8 Q2195.18 168.967 2196.36 165.865 L2197.13 163.921 L2186.64 138.412 L2191.16 138.412 L2199.26 158.689 L2207.36 138.412 L2211.87 138.412 L2200.48 166.745 Z\" fill=\"#000000\" fill-rule=\"evenodd\" fill-opacity=\"1\" /><path clip-path=\"url(#clip590)\" d=\"M2219.16 160.402 L2226.8 160.402 L2226.8 134.037 L2218.49 135.703 L2218.49 131.444 L2226.76 129.778 L2231.43 129.778 L2231.43 160.402 L2239.07 160.402 L2239.07 164.338 L2219.16 164.338 L2219.16 160.402 Z\" fill=\"#000000\" fill-rule=\"evenodd\" fill-opacity=\"1\" /></svg>\n"
      ]
     },
     "execution_count": 15,
     "metadata": {},
     "output_type": "execute_result"
    }
   ],
   "source": [
    "plot(epidays, allcases, linetype = :scatter, marker = :diamond)"
   ]
  },
  {
   "cell_type": "markdown",
   "metadata": {},
   "source": [
    "We should also add a title and axis labels, and while we're at it we'll turn off the legend. For illustration, I also change the line type and line style so that a gray dotted line is plotted between the diamonds, the the grid off and  I increase the size of the diamonds.\n",
    "\n",
    "For the long command that results, it is a good idea to use white space to break it into logical parts. Note that although visually it looks like several lines, it is just one function call and so in the sense of computer programming it is just one unit of code."
   ]
  },
  {
   "cell_type": "code",
   "execution_count": null,
   "metadata": {},
   "outputs": [],
   "source": [
    "plot(epidays, allcases,   # here are the data to be plotted, below are the attributes\n",
    "title       = \"West African EVD epidemic, total cases\", \n",
    "xlabel    = \"Days since 22 March 2014\",\n",
    "ylabel    = \"Total cases to date (three countries)\",\n",
    "marker  = (:diamond, 8),  # note the use of  parentheses to group the marker attributes into a composite of attributes \n",
    "                          # and because we plot both the path and the points, we use plot rather than scatter\n",
    "line         = (:path, \"gray\" ),   # line attributes likewise put together as one unit by the use of parantheses\n",
    "legend   = false,\n",
    "grid        = false)    \n",
    "\n",
    "# A nice thing: this layout permits us add comments to individual parts of  the function call. \n",
    "# Also, notice that it helps readibility to line up vertically all the assignment \"=\" signs"
   ]
  },
  {
   "cell_type": "markdown",
   "metadata": {},
   "source": [
    "[Back to the top](#In-this-lecture)"
   ]
  },
  {
   "cell_type": "markdown",
   "metadata": {},
   "source": [
    "<h2>Save the current plot</h2>\n",
    "\n",
    "Of course, one needs to be able to save plots from the screen in a format to be used elsewhere. For documents and presentations, pdf is a good format, while for websites .png is often preferred. \n",
    "\n",
    "The function to use is savefig(). Plots will follow the extension you provide for the filename. If you omit the filename, the defaults kick in and Plots will use png as the format and add .png as the file extension.\n",
    "\n",
    "All three cases are illustrated below. After you've saved the figures, check in your folder that they are there and work as advertised!"
   ]
  },
  {
   "cell_type": "code",
   "execution_count": 16,
   "metadata": {},
   "outputs": [],
   "source": [
    "savefig(\"WAfricanEVD_noformatspecified\")             # no extension, so plot saves it as .png  \n",
    "savefig(\"WAfricanEVD.pdf\")      # Saved as a pdf\n",
    "savefig(\"WAfricanEVD.png\")     # Saved png format"
   ]
  },
  {
   "cell_type": "markdown",
   "metadata": {},
   "source": [
    "[Back to the top](#In-this-lecture)"
   ]
  }
 ],
 "metadata": {
  "@webio": {
   "lastCommId": null,
   "lastKernelId": null
  },
  "hide_input": false,
  "kernelspec": {
   "display_name": "Julia 1.6.2",
   "language": "julia",
   "name": "julia-1.6"
  },
  "language_info": {
   "file_extension": ".jl",
   "mimetype": "application/julia",
   "name": "julia",
   "version": "1.6.2"
  },
  "varInspector": {
   "cols": {
    "lenName": 16,
    "lenType": 16,
    "lenVar": 40
   },
   "kernels_config": {
    "python": {
     "delete_cmd_postfix": "",
     "delete_cmd_prefix": "del ",
     "library": "var_list.py",
     "varRefreshCmd": "print(var_dic_list())"
    },
    "r": {
     "delete_cmd_postfix": ") ",
     "delete_cmd_prefix": "rm(",
     "library": "var_list.r",
     "varRefreshCmd": "cat(var_dic_list()) "
    }
   },
   "types_to_exclude": [
    "module",
    "function",
    "builtin_function_or_method",
    "instance",
    "_Feature"
   ],
   "window_display": false
  }
 },
 "nbformat": 4,
 "nbformat_minor": 1
}
